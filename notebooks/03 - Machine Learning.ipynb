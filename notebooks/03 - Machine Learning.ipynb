{
 "metadata": {
  "name": "",
  "signature": "sha256:f92126ccbb9c3ca7e720295025b96505f0d8ba569d55918267286e3fd78358fa"
 },
 "nbformat": 3,
 "nbformat_minor": 0,
 "worksheets": [
  {
   "cells": [
    {
     "cell_type": "code",
     "collapsed": false,
     "input": [
      "%%javascript\n",
      "\n",
      "window.load_remote_theme = false\n",
      "var theme_url = \"https://drostehk.github.io/ipynb-theme/\";\n",
      "var asset_url = 'https://raw.githubusercontent.com/tijptjik/DS_assets/master/';\n",
      "\n",
      "window.load_local_theme = function(){\n",
      "    var hostname = document.location.hostname\n",
      "    return ((hostname == \"localhost\" || hostname == '127.0.0.1') && !load_remote_theme)\n",
      "}\n",
      "\n",
      "var url = load_local_theme() ? document.location.origin + \"/files/theme/custom.js\" : theme_url + 'custom.js'\n",
      "\n",
      "$.getScript(url)"
     ],
     "language": "python",
     "metadata": {},
     "outputs": [
      {
       "javascript": [
        "\n",
        "window.load_remote_theme = false\n",
        "var theme_url = \"https://drostehk.github.io/ipynb-theme/\";\n",
        "var asset_url = 'https://raw.githubusercontent.com/tijptjik/DS_assets/master/';\n",
        "\n",
        "window.load_local_theme = function(){\n",
        "    var hostname = document.location.hostname\n",
        "    return ((hostname == \"localhost\" || hostname == '127.0.0.1') && !load_remote_theme)\n",
        "}\n",
        "\n",
        "var url = load_local_theme() ? document.location.origin + \"/files/theme/custom.js\" : theme_url + 'custom.js'\n",
        "\n",
        "$.getScript(url)"
       ],
       "metadata": {},
       "output_type": "display_data",
       "text": [
        "<IPython.core.display.Javascript at 0x7f8aedbdb7d0>"
       ]
      }
     ],
     "prompt_number": 2
    },
    {
     "cell_type": "markdown",
     "metadata": {},
     "source": [
      "# Machine Learning"
     ]
    },
    {
     "cell_type": "markdown",
     "metadata": {},
     "source": [
      "> The illiterate of the 21st century will not be those who cannot read and write, but those who cannot learn, unlearn, and relearn.\n",
      "\n",
      "<footer>~ Alvin Toffler</footer>"
     ]
    },
    {
     "cell_type": "markdown",
     "metadata": {},
     "source": [
      "![break](assets/agenda.png)"
     ]
    },
    {
     "cell_type": "markdown",
     "metadata": {},
     "source": [
      "1. [What Is Machine Learning?](#What-is-Machine-Learning?)\n",
      "1. [Machine Learning Problems](#Machine-Learning-Problems)\n",
      "1. [Python Libraries](#Python-Libraries)\n",
      "\n",
      "**Labs**:\n",
      "1. [Numpy, Scipy, And Pandas](#)"
     ]
    },
    {
     "cell_type": "markdown",
     "metadata": {},
     "source": [
      "![break](assets/theory.png)"
     ]
    },
    {
     "cell_type": "heading",
     "level": 2,
     "metadata": {},
     "source": [
      "What _is_ Machine Learning?"
     ]
    },
    {
     "cell_type": "markdown",
     "metadata": {},
     "source": [
      "> \u201cMachine learning, a branch of artificial intelligence, is about the construction and study of\n",
      "systems that can learn from data.\u201d\n",
      "\n",
      "<footer>~ Wikipedia</footer>"
     ]
    },
    {
     "cell_type": "markdown",
     "metadata": {},
     "source": [
      "With machine learning we use _input_ variables to predict _output_ variables. That's it. But that's easier said than done \u2026\n",
      "\n",
      "Let's say we are data analysts working for Samsung and we are trying to figure out what's the best way to spend our stupedous marketing budget. How can we best predict _smartphone sales_ from the spend on our various channels? Samsung buys online advertising, runs billboard campaigns, and pays for product placement in TV shows. \n",
      "\n",
      "Let $Y$ be the output variable (e.g. sales), and $X$ the _vector_ of input variables $X1,X2,X3,\\ldots$, then\n",
      "\n",
      "$$ Y = f(X)+\\epsilon$$\n",
      "\n",
      "We want to work out what $f$ is. $\\epsilon$ is unavoidable noise that is independent of $X$.\n",
      "\n",
      "How do we estimate $f$ from the data, and how do we evaluate our estimate? That is a question machine learning can answer.\n",
      "\n",
      "### Prediction and its limits\n",
      "\n",
      "Once we have an estimate $\\hat{f}$ for $f$, we can predict unavailable values of $Y$ for known values of $X$:\n",
      "\n",
      "$$ \\hat{Y} = \\hat{f}(X) $$\n",
      "\n",
      "How good an estimate of $Y$ is $\\hat{Y}$? The difference between the two values can be partitioned into **reducible** and **irreducible** errors:\n",
      "\n",
      "$$E(Y\u2212\\hat{Y})^{2}=[f(X)\u2212\\hat{f}(X)]^{2}+\\sigma^{2}_{\\epsilon}$$\n",
      "\n",
      "where $[f(X)\u2212f^(X)]^{2}$ is the reducible error.\n",
      "\n",
      "### How to estimate $f$\n",
      "\n",
      "Two main approaches:\n",
      "\n",
      "#### Parametric\n",
      "\n",
      "An assumption is made about the form of $f$. For example, the **linear model** states that\n",
      "\n",
      "$$f^(X)=\u03b2_{0}+\u03b2_{1}X_{1}+\u03b2_{2}X_{2}+ \\ldots +\u03b2_{p}X_{p}$$\n",
      "\n",
      "Then we use the training data to choose the values of $\u03b2_{0},\u03b2_{1}, \\ldots ,\u03b2^{p}$, the parameters.\n",
      "\n",
      "* **Advantage**: Much easier to estimate parameters than whole function.\n",
      "* **Disadvantage**: Our choice of the form of $f$ might be wrong, or even very wrong.\n",
      "\n",
      "We can try to make our parametric form more **flexible** in order to reduce the risk of choosing the wrong $f$, but this also makes $\\hat{f}$ more complex and potentially following the noise too closely, thereby **overfitting**.\n",
      "\n",
      "#### Non-parametric\n",
      "\n",
      "Just get $f$ as close as possible to the data points, subject to not being too wiggly or too unsmooth.\n",
      "\n",
      "* **Advantage**: More likely to get $f$ right, especially if $f$ is weird.\n",
      "* **Disadvantage**: Far more data is needed to obtain a good estimate for $f$.\n",
      "\n",
      "#### Supervised vs unsupervised learning\n",
      "\n",
      "What if we are only given input variables and no outputs? Then our learning will be **unsupervised**; we are blind.\n",
      "\n",
      "What can we do? We can try to understand the relationship between the input variables or between the observations. One example is to cluster observations or variables together into groups.\n",
      "\n",
      "> \u201cThe core of machine learning deals with representation and generalization...\u201d\n",
      "\n",
      "* representation \u2013 extracting structure from data\n",
      "* generalization \u2013 making predictions from data\n",
      "\n",
      "#### Regression vs classification\n",
      "\n",
      "Variables can be either _quantitative_ or _qualitative_. We care about this because different variable types affect the class of values we can make predictions from and therefore the possible nature of $f$, and also how to measure the size of an error from a wrong prediction.\n",
      "\n",
      "When the output variable is quantitative, prediction is called _regression_.\n",
      "When the output variable is qualitative, prediction is _classification_."
     ]
    },
    {
     "cell_type": "heading",
     "level": 3,
     "metadata": {},
     "source": [
      "Mapping is to our class outline"
     ]
    },
    {
     "cell_type": "markdown",
     "metadata": {},
     "source": [
      "    ------------ INTRODUCTION ------------\n",
      "    01 - Data Science Toolkit\n",
      "    02 - Linear Algebra\n",
      "    03 - Machine Learning\n",
      "    04 - Exploratory Data Analysis\n",
      "    ------------ ESTIMATION ------------\n",
      "    05 - Linear Regression\n",
      "    06 - Polynomial Regression\n",
      "    07 - Data Wrangling \n",
      "    08 - Intro to R\n",
      "    09 - Group Presentations\n",
      "    ------------ MACHINE LEARNING ------------\n",
      "    10 - Logistic Regression\n",
      "    11 - kNN \n",
      "    12 - Decision Trees\n",
      "    13 - Random Forests\n",
      "    14 - Network Analysis\n",
      "    15 - Feature Engineering I (PCA)\n",
      "    16 - Feature Engineering II (Clustering)\n",
      "    ------------ REAL WORLD APPLICATIONS ------------\n",
      "    17 - Kaggle I (EDA)\n",
      "    18 - Kaggle II (Feature Engineering)\n",
      "    19 - Big Data I (MapReduce)\n",
      "    20 - Big Data II (Spark)\n",
      "    21 - Project Labs\n",
      "    22 - Final Presentations"
     ]
    },
    {
     "cell_type": "heading",
     "level": 4,
     "metadata": {},
     "source": [
      "Remember This? "
     ]
    },
    {
     "cell_type": "markdown",
     "metadata": {},
     "source": [
      "![](assets/DS_venn_diagram.png)\n",
      "\n",
      "### How do you get from 'Machine Learning' to 'Data Science'"
     ]
    },
    {
     "cell_type": "markdown",
     "metadata": {},
     "source": [
      "![reference](assets/rubiks.png)\n",
      "### Problem Solving!!!\n",
      "\n",
      "Implementing solutions to ML problems is the focus of this course."
     ]
    },
    {
     "cell_type": "heading",
     "level": 3,
     "metadata": {},
     "source": [
      "What is the goal of Machine Learning?"
     ]
    },
    {
     "cell_type": "markdown",
     "metadata": {},
     "source": [
      "The goal is determined by the type of problem."
     ]
    },
    {
     "cell_type": "markdown",
     "metadata": {},
     "source": [
      "|Type   \t|Use   \t|Method |\n",
      "|:-:\t|:-:\t|:-:\t|\n",
      "|Supervised   \t|Making Predictions   \t|Generalisation |\n",
      "|Unsupervised   \t|Extracting Structure   \t|Representation |\n"
     ]
    },
    {
     "cell_type": "heading",
     "level": 3,
     "metadata": {},
     "source": [
      "How do you determine the right approach?"
     ]
    },
    {
     "cell_type": "markdown",
     "metadata": {},
     "source": [
      "The right approach is determined by the desired solution."
     ]
    },
    {
     "cell_type": "markdown",
     "metadata": {},
     "source": [
      "![](assets/ml_algorithms.png)"
     ]
    },
    {
     "cell_type": "markdown",
     "metadata": {},
     "source": [
      "But what approaches are available to you will always be dependent on the type and quality of the data you have!"
     ]
    },
    {
     "cell_type": "heading",
     "level": 3,
     "metadata": {},
     "source": [
      "What do you do with your results?"
     ]
    },
    {
     "cell_type": "markdown",
     "metadata": {},
     "source": [
      "Interpret them and react accordingly."
     ]
    },
    {
     "cell_type": "markdown",
     "metadata": {},
     "source": [
      "![](assets/benfry-workflow-recursion.png)"
     ]
    },
    {
     "cell_type": "markdown",
     "metadata": {},
     "source": [
      "This also relies on your problem solving skills!"
     ]
    },
    {
     "cell_type": "markdown",
     "metadata": {},
     "source": [
      "![break](assets/code.png)"
     ]
    },
    {
     "cell_type": "heading",
     "level": 2,
     "metadata": {},
     "source": [
      "Python Libraries"
     ]
    },
    {
     "cell_type": "heading",
     "level": 3,
     "metadata": {},
     "source": [
      "import"
     ]
    },
    {
     "cell_type": "markdown",
     "metadata": {},
     "source": [
      "Python libraries are imported into scripts using the\n",
      "\n",
      "> **import** statement.\n",
      "\n",
      "The import statement can be used in three ways:"
     ]
    },
    {
     "cell_type": "code",
     "collapsed": false,
     "input": [
      "!pip install docopt"
     ],
     "language": "python",
     "metadata": {},
     "outputs": [
      {
       "output_type": "stream",
       "stream": "stdout",
       "text": [
        "Requirement already satisfied (use --upgrade to upgrade): docopt in /usr/local/lib/python2.7/dist-packages\r\n",
        "Cleaning up...\r\n"
       ]
      }
     ],
     "prompt_number": 3
    },
    {
     "cell_type": "code",
     "collapsed": false,
     "input": [
      "from sys import maxsize\n",
      "\n",
      "from os.path"
     ],
     "language": "python",
     "metadata": {},
     "outputs": [
      {
       "ename": "SyntaxError",
       "evalue": "invalid syntax (<ipython-input-4-4edcd158745d>, line 3)",
       "output_type": "pyerr",
       "traceback": [
        "\u001b[1;36m  File \u001b[1;32m\"<ipython-input-4-4edcd158745d>\"\u001b[1;36m, line \u001b[1;32m3\u001b[0m\n\u001b[1;33m    from os.path\u001b[0m\n\u001b[1;37m                ^\u001b[0m\n\u001b[1;31mSyntaxError\u001b[0m\u001b[1;31m:\u001b[0m invalid syntax\n"
       ]
      }
     ],
     "prompt_number": 4
    },
    {
     "cell_type": "code",
     "collapsed": false,
     "input": [
      "import os\n",
      "\n",
      "from operator import itemgetter\n",
      "\n",
      "from sys import *"
     ],
     "language": "python",
     "metadata": {},
     "outputs": []
    },
    {
     "cell_type": "code",
     "collapsed": false,
     "input": [
      "import os \n",
      " \n",
      "from os import path\n",
      "\n",
      "path"
     ],
     "language": "python",
     "metadata": {},
     "outputs": []
    },
    {
     "cell_type": "markdown",
     "metadata": {},
     "source": [
      "The differences have to do with how each import statement interacts with the local namespace."
     ]
    },
    {
     "cell_type": "heading",
     "level": 3,
     "metadata": {},
     "source": [
      "Namespaces"
     ]
    },
    {
     "cell_type": "markdown",
     "metadata": {},
     "source": [
      "Python has three types of namespaces:\n",
      "    \n",
      "> **local**, **global**, and **built-in**"
     ]
    },
    {
     "cell_type": "markdown",
     "metadata": {},
     "source": [
      "For our purposes, namespaces are important because they control how imported code can be accessed:\n"
     ]
    },
    {
     "cell_type": "code",
     "collapsed": false,
     "input": [
      "x = 1 \n",
      "\n",
      "def func():\n",
      "    x = 2\n",
      "    return x\n",
      "\n",
      "func()"
     ],
     "language": "python",
     "metadata": {},
     "outputs": []
    },
    {
     "cell_type": "code",
     "collapsed": false,
     "input": [
      "x"
     ],
     "language": "python",
     "metadata": {},
     "outputs": []
    },
    {
     "cell_type": "code",
     "collapsed": false,
     "input": [
      "import os\n",
      "os.path.expanduser('~')"
     ],
     "language": "python",
     "metadata": {},
     "outputs": []
    },
    {
     "cell_type": "code",
     "collapsed": false,
     "input": [
      "path.expanduser('~')"
     ],
     "language": "python",
     "metadata": {},
     "outputs": []
    },
    {
     "cell_type": "code",
     "collapsed": false,
     "input": [
      "from os import *\n",
      "from os import path"
     ],
     "language": "python",
     "metadata": {},
     "outputs": []
    },
    {
     "cell_type": "code",
     "collapsed": false,
     "input": [
      "path.expanduser('~')"
     ],
     "language": "python",
     "metadata": {},
     "outputs": []
    },
    {
     "cell_type": "code",
     "collapsed": false,
     "input": [
      "import numpy as np"
     ],
     "language": "python",
     "metadata": {},
     "outputs": []
    },
    {
     "cell_type": "heading",
     "level": 3,
     "metadata": {},
     "source": [
      "NumPy"
     ]
    },
    {
     "cell_type": "markdown",
     "metadata": {},
     "source": [
      "We\u2019ll be using four external libraries that help us structure our data accordingly.\n",
      "> Numpy offers the ability to create arrays (matrices and vectors), as well as some linear algebra functions!"
     ]
    },
    {
     "cell_type": "code",
     "collapsed": false,
     "input": [
      "from numpy import *\n",
      "A = matrix('1 2; 3 4;5 6')\n",
      "A"
     ],
     "language": "python",
     "metadata": {},
     "outputs": []
    },
    {
     "cell_type": "code",
     "collapsed": false,
     "input": [
      "A.T"
     ],
     "language": "python",
     "metadata": {},
     "outputs": []
    },
    {
     "cell_type": "heading",
     "level": 3,
     "metadata": {},
     "source": [
      "SciPy"
     ]
    },
    {
     "cell_type": "markdown",
     "metadata": {},
     "source": [
      "Scipy extends numpy by offering additional linear algebra functions, signal processing, Fourier transforms, and other statistics functions"
     ]
    },
    {
     "cell_type": "code",
     "collapsed": false,
     "input": [
      "from scipy import *\n",
      "A = array([[1,2],[3,4]])\n",
      "A"
     ],
     "language": "python",
     "metadata": {},
     "outputs": []
    },
    {
     "cell_type": "markdown",
     "metadata": {},
     "source": [
      "Compute the inverse of a matrix."
     ]
    },
    {
     "cell_type": "code",
     "collapsed": false,
     "input": [
      "linalg.inv(A)"
     ],
     "language": "python",
     "metadata": {},
     "outputs": []
    },
    {
     "cell_type": "markdown",
     "metadata": {},
     "source": [
      "A dot product of a matrix with its inverse results in a identity matrix."
     ]
    },
    {
     "cell_type": "code",
     "collapsed": false,
     "input": [
      "A.dot(linalg.inv(A))"
     ],
     "language": "python",
     "metadata": {},
     "outputs": []
    },
    {
     "cell_type": "heading",
     "level": 3,
     "metadata": {},
     "source": [
      "Pandas"
     ]
    },
    {
     "cell_type": "markdown",
     "metadata": {},
     "source": [
      "PANDAS (python data analysis) provides more rigid data structures more attune to other stats languages, like R or matlab. It's a Python package providing fast, flexible, and expressive data structures designed to work with *relational* or *labeled* data both. It is a fundamental high-level building block for doing practical, real world data analysis in Python. \n",
      "\n",
      "pandas is well suited for:\n",
      "\n",
      "- Tabular data with heterogeneously-typed columns, as in an SQL table or Excel spreadsheet\n",
      "- Ordered and unordered (not necessarily fixed-frequency) time series data.\n",
      "- Arbitrary matrix data (homogeneously typed or heterogeneous) with row and column labels\n",
      "- Any other form of observational / statistical data sets. The data actually need not be labeled at all to be placed into a pandas data structure\n",
      "\n",
      "\n",
      "Key features:\n",
      "    \n",
      "- Easy handling of **missing data**\n",
      "- **Size mutability**: columns can be inserted and deleted from DataFrame and higher dimensional objects\n",
      "- Automatic and explicit **data alignment**: objects can be explicitly aligned to a set of labels, or the data can be aligned automatically\n",
      "- Powerful, flexible **group by functionality** to perform split-apply-combine operations on data sets\n",
      "- Intelligent label-based **slicing, fancy indexing, and subsetting** of large data sets\n",
      "- Intuitive **merging and joining** data sets\n",
      "- Flexible **reshaping and pivoting** of data sets\n",
      "- **Hierarchical labeling** of axes\n",
      "- Robust **IO tools** for loading data from flat files, Excel files, databases, and HDF5\n",
      "- **Time series functionality**: date range generation and frequency conversion, moving window statistics, moving window linear regressions, date shifting and lagging, etc."
     ]
    },
    {
     "cell_type": "markdown",
     "metadata": {},
     "source": [
      "The author provides a [10 minutes to Pandas](http://pandas.pydata.org/pandas-docs/dev/10min.html) with an overview of some of the key features"
     ]
    },
    {
     "cell_type": "heading",
     "level": 3,
     "metadata": {},
     "source": [
      "SciKit-Learn"
     ]
    },
    {
     "cell_type": "markdown",
     "metadata": {},
     "source": [
      "Scikit-learn is a library which contains the majority of our machine learning algorithms. We will be primarily using scikit learn in class to experiment and learn various ML functionality.\n",
      "\n",
      "There are a lot of other libraries out there that enable you to do some incredibly great things. We definitely won\u2019t explore all of them here, but don\u2019t be afraid to use our best friend (Google) to help you find libraries that do things you want to get done.\n",
      "\n"
     ]
    },
    {
     "cell_type": "markdown",
     "metadata": {},
     "source": [
      "![](assets/scikit_learn_cheat_sheet.png)"
     ]
    },
    {
     "cell_type": "markdown",
     "metadata": {},
     "source": [
      "![break](assets/code.png)"
     ]
    },
    {
     "cell_type": "heading",
     "level": 2,
     "metadata": {},
     "source": [
      "Lab: Numpy, Scipy, And Pandas"
     ]
    },
    {
     "cell_type": "markdown",
     "metadata": {},
     "source": [
      "* Build our numpy and PANDAS repertoire: array, matrix, dataframes\n",
      "* Compare the work from last week with these libraries"
     ]
    },
    {
     "cell_type": "markdown",
     "metadata": {},
     "source": [
      "### Confirm our theory!"
     ]
    },
    {
     "cell_type": "markdown",
     "metadata": {},
     "source": [
      "We have our inputs features, and we're trying to predict the response vector"
     ]
    },
    {
     "cell_type": "code",
     "collapsed": false,
     "input": [
      "from numpy import array, dot\n",
      "from numpy.linalg import inv\n",
      "\n",
      "X = array([[1, 1], [1, 2], [1, 3], [1, 4]])\n",
      "y = array([[1], [2], [3], [4]])\n",
      "print X\n",
      "print y"
     ],
     "language": "python",
     "metadata": {},
     "outputs": []
    },
    {
     "cell_type": "code",
     "collapsed": false,
     "input": [
      "#My test\n",
      "print X.T\n",
      "dot(X,X.T)"
     ],
     "language": "python",
     "metadata": {},
     "outputs": []
    },
    {
     "cell_type": "markdown",
     "metadata": {},
     "source": [
      "A linear regression in its simplest form:"
     ]
    },
    {
     "cell_type": "markdown",
     "metadata": {},
     "source": [
      "$$y = \u03b1 + \u03b2x + \u03b5$$"
     ]
    },
    {
     "cell_type": "markdown",
     "metadata": {},
     "source": [
      "but we can assume that our \u03b1 is either 0 or 1, and \u03b5 is zero! So really we're trying to capture this relaitonship, and determine $\\beta$"
     ]
    },
    {
     "cell_type": "markdown",
     "metadata": {},
     "source": [
      "$$y = \u03b2x$$"
     ]
    },
    {
     "cell_type": "markdown",
     "metadata": {},
     "source": [
      "but we want to solve for \u03b2, which means our new equation looks more like this:"
     ]
    },
    {
     "cell_type": "markdown",
     "metadata": {},
     "source": [
      "$$\u03b2 = ( X^TX)^{-1} X^Ty$$"
     ]
    },
    {
     "cell_type": "markdown",
     "metadata": {},
     "source": [
      "How did we get there?"
     ]
    },
    {
     "cell_type": "markdown",
     "metadata": {},
     "source": [
      "$$\u03b2 = \\frac{y}x$$"
     ]
    },
    {
     "cell_type": "markdown",
     "metadata": {},
     "source": [
      "That's problematic, as we cannot divide by a matrix! So we first square the matrix."
     ]
    },
    {
     "cell_type": "markdown",
     "metadata": {},
     "source": [
      "$$\\frac{xy}{x^2}$$"
     ]
    },
    {
     "cell_type": "code",
     "collapsed": false,
     "input": [
      "print dot(X.T, X)"
     ],
     "language": "python",
     "metadata": {},
     "outputs": []
    },
    {
     "cell_type": "markdown",
     "metadata": {},
     "source": [
      "That's how we avoid division by a matrix"
     ]
    },
    {
     "cell_type": "markdown",
     "metadata": {},
     "source": [
      "$$\\frac{1}{x{^2}} * \\frac{xy}1$$"
     ]
    },
    {
     "cell_type": "markdown",
     "metadata": {},
     "source": [
      "By using inversion; since raising $x$ to the power of negative 1 is equal to $1$ over $x$"
     ]
    },
    {
     "cell_type": "markdown",
     "metadata": {},
     "source": [
      "$$(XX)^{-1}XY$$"
     ]
    },
    {
     "cell_type": "code",
     "collapsed": false,
     "input": [
      "n = inv(dot(X.T, X))\n",
      "print n"
     ],
     "language": "python",
     "metadata": {},
     "outputs": []
    },
    {
     "cell_type": "markdown",
     "metadata": {},
     "source": [
      "and"
     ]
    },
    {
     "cell_type": "code",
     "collapsed": false,
     "input": [
      "k = dot(X.T, y)\n",
      "k"
     ],
     "language": "python",
     "metadata": {},
     "outputs": []
    },
    {
     "cell_type": "markdown",
     "metadata": {},
     "source": [
      "And finally to make it programmer friendly"
     ]
    },
    {
     "cell_type": "markdown",
     "metadata": {},
     "source": [
      "$$\u03b2 = ( X^TX)^{-1} X^TY$$"
     ]
    },
    {
     "cell_type": "code",
     "collapsed": false,
     "input": [
      "coef_ = dot(n, k)\n",
      "coef_"
     ],
     "language": "python",
     "metadata": {},
     "outputs": []
    },
    {
     "cell_type": "markdown",
     "metadata": {},
     "source": [
      "And thus we've created a nice short and sweet regression function with no accounting for error:"
     ]
    },
    {
     "cell_type": "code",
     "collapsed": false,
     "input": [
      "def regression(input, response):\n",
      "\treturn dot(inv(dot(input.T, input)), dot(input.T, response))"
     ],
     "language": "python",
     "metadata": {},
     "outputs": []
    },
    {
     "cell_type": "code",
     "collapsed": false,
     "input": [
      "regression(X,y)"
     ],
     "language": "python",
     "metadata": {},
     "outputs": []
    },
    {
     "cell_type": "heading",
     "level": 3,
     "metadata": {},
     "source": [
      "Practice: NumPy"
     ]
    },
    {
     "cell_type": "markdown",
     "metadata": {},
     "source": [
      "Last class we spent a huge portion of our lab time working on some basic linear algebra functions. Thankfully, NumPy and SciPy offer a lot of this already for us and more."
     ]
    },
    {
     "cell_type": "code",
     "collapsed": false,
     "input": [
      "from numpy import *\n",
      "\n",
      "arrayOne = arange(15).reshape(3, 5)\n",
      "arrayOne"
     ],
     "language": "python",
     "metadata": {},
     "outputs": []
    },
    {
     "cell_type": "code",
     "collapsed": false,
     "input": [
      "arrayTwo = arange(15).reshape(5, 3)\n",
      "arrayTwo"
     ],
     "language": "python",
     "metadata": {},
     "outputs": []
    },
    {
     "cell_type": "code",
     "collapsed": false,
     "input": [
      "vector = array([10, 15, 20])\n",
      "vector"
     ],
     "language": "python",
     "metadata": {},
     "outputs": []
    },
    {
     "cell_type": "markdown",
     "metadata": {},
     "source": [
      "numpy as a standard uses arrays, which can be of any n-dimensions, though numpy has a specific subclass of arrays called matrices."
     ]
    },
    {
     "cell_type": "code",
     "collapsed": false,
     "input": [
      "matrixOne = matrix('1 2 3; 4 5 6')\n",
      "matrixOne"
     ],
     "language": "python",
     "metadata": {},
     "outputs": []
    },
    {
     "cell_type": "code",
     "collapsed": false,
     "input": [
      "matrixTwo = matrix('1 2; 3 4; 5 6')\n",
      "matrixTwo"
     ],
     "language": "python",
     "metadata": {},
     "outputs": []
    },
    {
     "cell_type": "markdown",
     "metadata": {},
     "source": [
      "Bare in mind that these are still two different structures, and therefore interact differently in Python. For example: which of these produces the answer we'd expect from last class? What does the other one actually do?"
     ]
    },
    {
     "cell_type": "code",
     "collapsed": false,
     "input": [
      "a1 = array([ [1, 2], [3, 4] ])\n",
      "a2 = array([ [1, 3], [2, 4] ])\n",
      "m1 = matrix('1 2; 3 4')\n",
      "m2 = matrix('1 3; 2 4')"
     ],
     "language": "python",
     "metadata": {},
     "outputs": []
    },
    {
     "cell_type": "code",
     "collapsed": false,
     "input": [
      "print a1\n",
      "print a2\n",
      "a1 * a2"
     ],
     "language": "python",
     "metadata": {},
     "outputs": []
    },
    {
     "cell_type": "code",
     "collapsed": false,
     "input": [
      "m1 * m2"
     ],
     "language": "python",
     "metadata": {},
     "outputs": []
    },
    {
     "cell_type": "markdown",
     "metadata": {},
     "source": [
      "Note that we can easily get around this issue using the _dot_ function:"
     ]
    },
    {
     "cell_type": "code",
     "collapsed": false,
     "input": [
      "dot(a1, a2)"
     ],
     "language": "python",
     "metadata": {},
     "outputs": []
    },
    {
     "cell_type": "code",
     "collapsed": false,
     "input": [
      "dot(m1, m2)"
     ],
     "language": "python",
     "metadata": {},
     "outputs": []
    },
    {
     "cell_type": "markdown",
     "metadata": {},
     "source": [
      "That said, here's some other common functions that we built last week that are likely much more efficient as their numpy functions:"
     ]
    },
    {
     "cell_type": "code",
     "collapsed": false,
     "input": [
      "# .T Transposes the array or matrix:\n",
      "a1.T"
     ],
     "language": "python",
     "metadata": {},
     "outputs": []
    },
    {
     "cell_type": "code",
     "collapsed": false,
     "input": [
      "# .I returns the matrix inverse:\n",
      "m1.I"
     ],
     "language": "python",
     "metadata": {},
     "outputs": []
    },
    {
     "cell_type": "code",
     "collapsed": false,
     "input": [
      "# eye(value) creates an identity matrix:\n",
      "iFive = eye(5)\n",
      "iFive"
     ],
     "language": "python",
     "metadata": {},
     "outputs": []
    },
    {
     "cell_type": "markdown",
     "metadata": {},
     "source": [
      "Keep track of when you are using n-dimensional arrays and when you are using matrices in numpy: this can cause a lot of headaches!"
     ]
    },
    {
     "cell_type": "markdown",
     "metadata": {},
     "source": [
      "### On your own"
     ]
    },
    {
     "cell_type": "markdown",
     "metadata": {},
     "source": [
      "Verify the work from last week by building the matrices you tested last week and comparing your functions to numpys. Those of you more experience with Python, feel free to check speed with `timeit`"
     ]
    },
    {
     "cell_type": "code",
     "collapsed": false,
     "input": [
      "import timeit as t\n",
      "t.timeit('dot(a1, a2)', setup=\"from __main__ import dot, a1, a2\", \n",
      "         number = 100000)"
     ],
     "language": "python",
     "metadata": {},
     "outputs": []
    },
    {
     "cell_type": "markdown",
     "metadata": {},
     "source": [
      "Numpy also has a lot of basic math functions built in which do not exist in python (but are common in stats languages). Feel free to go through these on your own:"
     ]
    },
    {
     "cell_type": "code",
     "collapsed": false,
     "input": [
      "exp(10) # e ^ value"
     ],
     "language": "python",
     "metadata": {},
     "outputs": []
    },
    {
     "cell_type": "code",
     "collapsed": false,
     "input": [
      "log(10)"
     ],
     "language": "python",
     "metadata": {},
     "outputs": []
    },
    {
     "cell_type": "code",
     "collapsed": false,
     "input": [
      "sqrt(4)"
     ],
     "language": "python",
     "metadata": {},
     "outputs": []
    },
    {
     "cell_type": "heading",
     "level": 3,
     "metadata": {},
     "source": [
      "Practice: PANDAS"
     ]
    },
    {
     "cell_type": "code",
     "collapsed": false,
     "input": [
      "import pandas as pd"
     ],
     "language": "python",
     "metadata": {},
     "outputs": []
    },
    {
     "cell_type": "code",
     "collapsed": false,
     "input": [
      "# Run the curl command if you don't have the data already \n",
      "!curl http://stat.columbia.edu/~rachel/datasets/nyt1.csv > ../data/nytimes.csv"
     ],
     "language": "python",
     "metadata": {},
     "outputs": []
    },
    {
     "cell_type": "code",
     "collapsed": false,
     "input": [
      "df = pd.read_csv('../data/nytimes.csv')"
     ],
     "language": "python",
     "metadata": {},
     "outputs": []
    },
    {
     "cell_type": "code",
     "collapsed": false,
     "input": [
      "df"
     ],
     "language": "python",
     "metadata": {},
     "outputs": []
    },
    {
     "cell_type": "code",
     "collapsed": false,
     "input": [
      "df.describe()"
     ],
     "language": "python",
     "metadata": {},
     "outputs": []
    },
    {
     "cell_type": "code",
     "collapsed": false,
     "input": [
      "df[:10]"
     ],
     "language": "python",
     "metadata": {},
     "outputs": []
    },
    {
     "cell_type": "code",
     "collapsed": false,
     "input": [
      "# Create the average impressions and clicks for each age.\n",
      "cols  = ['Age', 'Impressions', 'Clicks']\n",
      "dfg = df[cols].groupby(['Age']).agg([np.mean])"
     ],
     "language": "python",
     "metadata": {},
     "outputs": []
    },
    {
     "cell_type": "code",
     "collapsed": false,
     "input": [
      "dfg[:10]"
     ],
     "language": "python",
     "metadata": {},
     "outputs": []
    },
    {
     "cell_type": "code",
     "collapsed": false,
     "input": [
      "# Likewise, we can create new variables:\n",
      "df['log_impressions'] = df['Impressions'].apply(log)\n",
      "df['log_impressions']"
     ],
     "language": "python",
     "metadata": {},
     "outputs": []
    },
    {
     "cell_type": "code",
     "collapsed": false,
     "input": [
      "# Or even recluster our values into more specific age groups:\n",
      "\n",
      "def map_age_category(x):\n",
      "    \"\"\"\n",
      "    Function that groups users by age.\n",
      "    \"\"\"\n",
      "    if x == 0:\n",
      "        return 0\n",
      "    elif x < 18:\n",
      "        return 1\n",
      "    elif x < 25:\n",
      "        return 2\n",
      "    elif x < 32:\n",
      "        return 3\n",
      "    elif x < 45:\n",
      "        return 4\n",
      "    else:\n",
      "        return 5"
     ],
     "language": "python",
     "metadata": {},
     "outputs": []
    },
    {
     "cell_type": "code",
     "collapsed": false,
     "input": [
      "df['age_categories'] = df['Age'].apply(map_age_category)\n",
      "\n",
      "df[['age_categories']].describe()"
     ],
     "language": "python",
     "metadata": {},
     "outputs": []
    },
    {
     "cell_type": "heading",
     "level": 3,
     "metadata": {},
     "source": [
      "Classwork"
     ]
    },
    {
     "cell_type": "markdown",
     "metadata": {},
     "source": [
      "The NYTimes data is hosted across 30 csv files:"
     ]
    },
    {
     "cell_type": "markdown",
     "metadata": {},
     "source": [
      "```bash\n",
      "# Replace # with anything between 1 and 30\n",
      "http://stat.columbia.edu/~rachel/datasets/nyt1.csv\n",
      "```"
     ]
    },
    {
     "cell_type": "markdown",
     "metadata": {},
     "source": [
      "We'd like to use Pandas and numpy to have a simple script that aggregates all of this data into one dataframe. This time, let's just get the **click through rate** per **age**, **gender**, and **signed_in** (remember that CTR is calculated as clicks/impressions).\n",
      "\n",
      "You can export the final dataframe using pandas to_csv:"
     ]
    },
    {
     "cell_type": "code",
     "collapsed": false,
     "input": [
      "df.to_csv('nytimes_aggregation.csv')"
     ],
     "language": "python",
     "metadata": {},
     "outputs": [
      {
       "ename": "NameError",
       "evalue": "name 'df' is not defined",
       "output_type": "pyerr",
       "traceback": [
        "\u001b[1;31m---------------------------------------------------------------------------\u001b[0m\n\u001b[1;31mNameError\u001b[0m                                 Traceback (most recent call last)",
        "\u001b[1;32m<ipython-input-5-1e35f259089b>\u001b[0m in \u001b[0;36m<module>\u001b[1;34m()\u001b[0m\n\u001b[1;32m----> 1\u001b[1;33m \u001b[0mdf\u001b[0m\u001b[1;33m.\u001b[0m\u001b[0mto_csv\u001b[0m\u001b[1;33m(\u001b[0m\u001b[1;34m'nytimes_aggregation.csv'\u001b[0m\u001b[1;33m)\u001b[0m\u001b[1;33m\u001b[0m\u001b[0m\n\u001b[0m",
        "\u001b[1;31mNameError\u001b[0m: name 'df' is not defined"
       ]
      }
     ],
     "prompt_number": 5
    },
    {
     "cell_type": "markdown",
     "metadata": {},
     "source": [
      "Explore plotting your new aggregated data in various forms to understand the feature space, and try using sklearn\u2019s linear model function with your aggregate data to predict CTR per age."
     ]
    },
    {
     "cell_type": "markdown",
     "metadata": {},
     "source": [
      "You may have to use the `astype` function to help convert between ints and floats. Refer the to [numpy documentation](http://docs.scipy.org/doc/numpy/reference/generated/numpy.ndarray.astype.html) for more."
     ]
    },
    {
     "cell_type": "code",
     "collapsed": false,
     "input": [
      "# inspect the dtypes\n",
      "df.dtypes"
     ],
     "language": "python",
     "metadata": {},
     "outputs": []
    },
    {
     "cell_type": "markdown",
     "metadata": {},
     "source": [
      "Pandas dataframes has some built-in plotting methods that are wrappers for matplotlib. To see a histogram of your distribution, see the [hist()](http://pandas.pydata.org/pandas-docs/version/0.13.1/generated/pandas.DataFrame.hist.html) documentation."
     ]
    },
    {
     "cell_type": "code",
     "collapsed": false,
     "input": [
      "import matplotlib.pyplot as plt\n",
      "\n",
      "df.hist(figsize=(18,12))\n",
      "plt.show()"
     ],
     "language": "python",
     "metadata": {},
     "outputs": []
    },
    {
     "cell_type": "markdown",
     "metadata": {},
     "source": [
      "More generally, we'll be using matplotlib to plot our graphics. Play around with the following code to understand what it does, or consult the [matplotlib.plot() documentation](http://matplotlib.org/api/pyplot_api.html#matplotlib.pyplot.plot) for further details."
     ]
    },
    {
     "cell_type": "code",
     "collapsed": false,
     "input": [
      "x = linspace(-15,15,100) # 100 linearly spaced numbers\n",
      "y = sin(x)/x # computing the values of sin(x)/x\n",
      "\n",
      "# compose plot\n",
      "fig = plt.figure(figsize=(18, 8), dpi=300)\n",
      "plt.plot(x,y) # sin(x)/x\n",
      "plt.plot(x,y,'co') # same function with cyan dots\n",
      "plt.plot(x,2*y,x,3*y) # 2*sin(x)/x and 3*sin(x)/x\n",
      "plt.show() # show the plot"
     ],
     "language": "python",
     "metadata": {},
     "outputs": []
    },
    {
     "cell_type": "markdown",
     "metadata": {},
     "source": [
      "Once you've figured out how to use the plot method from matplotlib, try plotting the various relationships from your NYTimes DataFrame."
     ]
    },
    {
     "cell_type": "markdown",
     "metadata": {},
     "source": [
      "Once you're ready to submit yout work, keep the csv file on your computer, but send your code over to GitHub. This should be much simpler than anything else we've done so far!\n",
      "\n",
      "**Send your scripts to Gist and send Freda and myself the link!**"
     ]
    },
    {
     "cell_type": "heading",
     "level": 2,
     "metadata": {},
     "source": [
      "Discussion : Final Project Ideas"
     ]
    },
    {
     "cell_type": "markdown",
     "metadata": {},
     "source": [
      "1. Curate a list of potential final project ideas, as our goal is to answer a question using machine learning. for each question: which \u201cproblem\u201d does it fall under?\n",
      "2. We\u2019ll discuss these in smaller groups first, and share some ideas together as a class."
     ]
    },
    {
     "cell_type": "heading",
     "level": 2,
     "metadata": {},
     "source": [
      "Homework"
     ]
    },
    {
     "cell_type": "markdown",
     "metadata": {},
     "source": [
      "Please finish your classwork if you have not."
     ]
    },
    {
     "cell_type": "markdown",
     "metadata": {},
     "source": [
      "![break](assets/resources.png)"
     ]
    },
    {
     "cell_type": "heading",
     "level": 2,
     "metadata": {},
     "source": [
      "Resources"
     ]
    }
   ],
   "metadata": {}
  }
 ]
}