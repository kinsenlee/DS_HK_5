{
 "metadata": {
  "name": "",
<<<<<<< HEAD
  "signature": "sha256:1a7c132ad5d738b53bd4d0f1a6c250cb387cd96e42d9a57f2d56891f88451528"
=======
  "signature": "sha256:5d7e505baba22654e388c48e1b398ae5a00c8367351f5a8843271ce40f604c88"
>>>>>>> upstream/gh-pages
 },
 "nbformat": 3,
 "nbformat_minor": 0,
 "worksheets": [
  {
   "cells": [
    {
     "cell_type": "code",
     "collapsed": false,
     "input": [
      "%%javascript\n",
      "\n",
      "window.load_remote_theme = false\n",
      "var theme_url = \"https://drostehk.github.io/ipynb-theme/\";\n",
      "var asset_url = 'https://raw.githubusercontent.com/tijptjik/DS_assets/master/';\n",
      "\n",
      "window.load_local_theme = function(){\n",
      "    var hostname = document.location.hostname\n",
      "    return ((hostname == \"localhost\" || hostname == '127.0.0.1') && !load_remote_theme)\n",
      "}\n",
      "\n",
      "var url = load_local_theme() ? document.location.origin + \"/files/theme/custom.js\" : theme_url + 'custom.js'\n",
      "\n",
      "$.getScript(url)"
     ],
     "language": "python",
     "metadata": {},
     "outputs": [
      {
       "javascript": [
        "\n",
        "window.load_remote_theme = false\n",
        "var theme_url = \"https://drostehk.github.io/ipynb-theme/\";\n",
        "var asset_url = 'https://raw.githubusercontent.com/tijptjik/DS_assets/master/';\n",
        "\n",
        "window.load_local_theme = function(){\n",
        "    var hostname = document.location.hostname\n",
        "    return ((hostname == \"localhost\" || hostname == '127.0.0.1') && !load_remote_theme)\n",
        "}\n",
        "\n",
        "var url = load_local_theme() ? document.location.origin + \"/files/theme/custom.js\" : theme_url + 'custom.js'\n",
        "\n",
        "$.getScript(url)"
       ],
       "metadata": {},
       "output_type": "display_data",
       "text": [
<<<<<<< HEAD
        "<IPython.core.display.Javascript at 0x7fbc898da650>"
=======
        "<IPython.core.display.Javascript at 0x7fe04c6f4750>"
>>>>>>> upstream/gh-pages
       ]
      }
     ],
     "prompt_number": 1
    },
    {
     "cell_type": "markdown",
     "metadata": {},
     "source": [
      "# The Linear Regression"
     ]
    },
    {
     "cell_type": "markdown",
     "metadata": {},
     "source": [
      "> Statistics show that of those who contract the habit of eating, very few survive.\n",
      "\n",
      "<footer>~ George Bernard Shaw</footer>"
     ]
    },
    {
     "cell_type": "markdown",
     "metadata": {},
     "source": [
      "![break](assets/agenda.png)"
     ]
    },
    {
     "cell_type": "markdown",
     "metadata": {},
     "source": [
      "1. [Introduction To Regression Data Problems](#Intro-to-Regression-Data-Problems)\n",
      "1. [How Regressions Work](#How-Regressions-Work)\n",
      "1. [Determining Cost](#Cost-Of-Linear-Regressions)\n",
      "\n",
      "**Labs:**\n",
      "1. [Implementing The Linear Model](#Implementing-the-Linear-Regression)\n"
     ]
    },
    {
     "cell_type": "markdown",
     "metadata": {},
     "source": [
      "![break](assets/theory.png)"
     ]
    },
    {
     "cell_type": "heading",
     "level": 2,
     "metadata": {},
     "source": [
      "Intro to Regression Data Problems"
     ]
    },
    {
     "cell_type": "markdown",
     "metadata": {},
     "source": [
      "|   \t|continuous\t|categorical   \t|\n",
      "|:-:\t|:-:\t|:-:\t|\n",
      "|**supervised**   \t|**regression**   \t|classification   \t|\n",
      "|**unsupervised**   \t|dimension reduction   \t|clustering   \t|"
     ]
    },
    {
     "cell_type": "markdown",
     "metadata": {},
     "source": [
      "A regression model is a functional relationship between input & response\n",
      "variables.\n",
      "\n",
      "The **simple linear regression** model captures a linear relationship between a single input variable x and a response variable y:"
     ]
    },
    {
     "cell_type": "markdown",
     "metadata": {},
     "source": [
      "$$y = \u03b1+\u03b2x+\u03b5$$"
     ]
    },
    {
     "cell_type": "markdown",
     "metadata": {},
     "source": [
      "* $y$ = response variable (the one we want to predict)\n",
      "* $x$ = input variable (the one we use to train the model)\n",
      "* $\u03b1$ = intercept (where the line crosses the y-axis)\n",
      "* $\u03b2$ = regression coefficient (the model \u201cparameter\u201d)\n",
      "* $\u03b5$ = residual (the prediction error)"
     ]
    },
    {
     "cell_type": "markdown",
     "metadata": {},
     "source": [
      "We can extend this model to several input variables, giving us the multiple linear regression model:"
     ]
    },
    {
     "cell_type": "markdown",
     "metadata": {},
     "source": [
      "$$y = \u03b1 + \u03b2_1x_1 + ... + \u03b2_nx_n + \u03b5$$"
     ]
    },
    {
     "cell_type": "markdown",
     "metadata": {},
     "source": [
      "![resource](assets/regression_analysis_by_example.png) [Regression Analysis By Example](http://type.hk:2551/calibre/browse/book/294)"
     ]
    },
    {
     "cell_type": "markdown",
     "metadata": {},
     "source": [
      "Linear regression involves several technical assumptions and is often presented with lots of mathematical formality.\n",
      "\n",
      "In order for us to gain a deeper understanding of the \u201cmagic\u201d behind a regression (and to see why we want a machine to do this!), let\u2019s review the math behind this algorithm!"
     ]
    },
    {
     "cell_type": "markdown",
     "metadata": {},
     "source": [
      "![break](assets/theory.png)"
     ]
    },
    {
     "cell_type": "heading",
     "level": 2,
     "metadata": {},
     "source": [
      "How Regression Works"
     ]
    },
    {
     "cell_type": "markdown",
     "metadata": {},
     "source": [
      "Linear regression is, for the most part, just matrix algebra (the stuff we did already!)\n",
      "\n",
      "Let\u2019s go over the math by hand so we can understand how we determine the regression coefficient."
     ]
    },
    {
     "cell_type": "markdown",
     "metadata": {},
     "source": [
      "A linear regression in its simplest form:"
     ]
    },
    {
     "cell_type": "markdown",
     "metadata": {},
     "source": [
      "$$y = \u03b1 + \u03b2x + \u03b5$$"
     ]
    },
    {
     "cell_type": "markdown",
     "metadata": {},
     "source": [
      "but we can assume that our \u03b1 is either 0 or 1, and \u03b5 is zero!"
     ]
    },
    {
     "cell_type": "markdown",
     "metadata": {},
     "source": [
      "$$y = \u03b2x$$"
     ]
    },
    {
     "cell_type": "markdown",
     "metadata": {},
     "source": [
      "but we want to solve for \u03b2, which means our new equation looks more like this:"
     ]
    },
    {
     "cell_type": "markdown",
     "metadata": {},
     "source": [
      "$$\u03b2 = ( X^TX)^{-1} X^Ty$$"
     ]
    },
    {
     "cell_type": "markdown",
     "metadata": {},
     "source": [
      "How did we get there?"
     ]
    },
    {
     "cell_type": "markdown",
     "metadata": {},
     "source": [
      "$$\u03b2 = \\frac{y}x$$"
     ]
    },
    {
     "cell_type": "markdown",
     "metadata": {},
     "source": [
      "That's problematic, as we cannot divide by a matrix! So we first square the matrix."
     ]
    },
    {
     "cell_type": "markdown",
     "metadata": {},
     "source": [
      "$$\\frac{xy}{x^2}$$"
     ]
    },
    {
     "cell_type": "markdown",
     "metadata": {},
     "source": [
      "That's how we avoid division by a matrix"
     ]
    },
    {
     "cell_type": "markdown",
     "metadata": {},
     "source": [
      "$$\\frac{1}{x{^2}} * \\frac{xy}1$$"
     ]
    },
    {
     "cell_type": "markdown",
     "metadata": {},
     "source": [
      "By using inversion; since raising $x$ to the power of negative 1 is equal to $1$ over $x$"
     ]
    },
    {
     "cell_type": "markdown",
     "metadata": {},
     "source": [
      "$$(XX)^{-1}XY$$"
     ]
    },
    {
     "cell_type": "markdown",
     "metadata": {},
     "source": [
      "And finally to make it programmer friendly"
     ]
    },
    {
     "cell_type": "markdown",
     "metadata": {},
     "source": [
      "$$\u03b2 = ( X^TX)^{-1} X^TY$$"
     ]
    },
    {
     "cell_type": "markdown",
     "metadata": {},
     "source": [
      "So if we had data:\n",
      "\n",
      "    Input  Output\n",
      "    3.385  44.5\n",
      "    0.48   15.5\n",
      "    1.35   8.1\n",
      "    465    423\n",
      "    36.33  119.5"
     ]
    },
    {
     "cell_type": "markdown",
     "metadata": {},
     "source": [
      "These would be the steps we moved through"
     ]
    },
    {
     "cell_type": "markdown",
     "metadata": {},
     "source": [
      "$$\u03b2=\\left(\n",
      "    \\begin{array}{r}\n",
      "         \\begin{matrix}\n",
      "             1 & 1 & 1 & 1 & 1 & \\\\\n",
      "             3.385 & 0.48 & 1.35 & 465 & 36.33\n",
      "         \\end{matrix}\n",
      "         \\begin{matrix}\n",
      "            3.385 & 1 & \\\\\n",
      "            0.48 & 1 & \\\\\n",
      "            1.35 & 1 & \\\\\n",
      "            465 & 1 & \\\\\n",
      "            36.33 & 1\n",
      "         \\end{matrix}\n",
      "    \\end{array}\n",
      "  \\right)^{-1}\n",
      "  \\cdots$$"
     ]
    },
    {
     "cell_type": "markdown",
     "metadata": {},
     "source": [
      "$$\u03b2 = ( X^TX)^{-1} \\cdots$$"
     ]
    },
    {
     "cell_type": "markdown",
     "metadata": {},
     "source": [
      "$$\\cdots\n",
      "    \\left(\n",
      "    \\begin{array}{r}\n",
      "         \\begin{matrix}\n",
      "             1 & 1 & 1 & 1 & 1 & \\\\\n",
      "             3.385 & 0.48 & 1.35 & 465 & 36.33\n",
      "         \\end{matrix}\n",
      "         \\begin{matrix}\n",
      "            44.5 & \\\\\n",
      "            15.5 & \\\\\n",
      "            8.1 & \\\\\n",
      "            423 & \\\\\n",
      "            119.5\n",
      "         \\end{matrix}\n",
      "    \\end{array}\n",
      "  \\right)\n",
      "  $$"
     ]
    },
    {
     "cell_type": "markdown",
     "metadata": {},
     "source": [
      "$$ \\cdots X^TY$$"
     ]
    },
    {
     "cell_type": "markdown",
     "metadata": {},
     "source": [
      "$$\u03b2=\\begin{array}{r}\n",
      "         \\begin{bmatrix}\n",
      "            0.2617 & -0.0006 & \\\\\n",
      "            -0.0006 & 0.000006\n",
      "         \\end{bmatrix}\n",
      "         \\begin{bmatrix}\n",
      "            610.6 & \\\\\n",
      "            201205.4425\n",
      "         \\end{bmatrix}\n",
      "    \\end{array}\n",
      "$$"
     ]
    },
    {
     "cell_type": "markdown",
     "metadata": {},
     "source": [
      "$$\u03b2 = ( X^TX)^{-1} X^TY$$"
     ]
    },
    {
     "cell_type": "markdown",
     "metadata": {},
     "source": [
      "$$ \\begin{bmatrix}\n",
      "            37.2 & \\\\\n",
      "            0.838\n",
      "         \\end{bmatrix}\n",
      "    = \\begin{array}{r}\n",
      "         \\begin{bmatrix}\n",
      "            0.2617 & -0.0006 & \\\\\n",
      "            -0.0006 & 0.000006\n",
      "         \\end{bmatrix}\n",
      "         \\begin{bmatrix}\n",
      "            610.6 & \\\\\n",
      "            201205.4425\n",
      "         \\end{bmatrix}\n",
      "    \\end{array}\n",
      "$$"
     ]
    },
    {
     "cell_type": "markdown",
     "metadata": {},
     "source": [
      "$$\u03b2 = ( X^TX)^{-1} X^TY$$"
     ]
    },
    {
     "cell_type": "markdown",
     "metadata": {},
     "source": [
      "$$ \\begin{array}{c}\n",
      "            Intercept : 37.2 & \\\\\n",
      "            \u03b2 : 0.838\n",
      "         \\end{array}\n",
      "$$"
     ]
    },
    {
     "cell_type": "markdown",
     "metadata": {},
     "source": [
      "**Q: How did we do compared to a computer?**"
     ]
    },
    {
     "cell_type": "code",
     "collapsed": false,
     "input": [
      "X = [[1,3.385], [1,0.48], [1,1.35], [1,465], [1,36.33]]\n",
      "y = [44.5, 15.5, 8.1, 423.0, 119.5]"
     ],
     "language": "python",
     "metadata": {},
     "outputs": [],
     "prompt_number": 10
    },
    {
     "cell_type": "code",
     "collapsed": false,
     "input": [
      "from numpy import linalg\n",
      "w = linalg.lstsq(X,y)[0]\n",
      "print w"
     ],
     "language": "python",
     "metadata": {},
     "outputs": [
      {
       "output_type": "stream",
       "stream": "stdout",
       "text": [
        "[ 37.20089608   0.83821876]\n"
       ]
      }
     ],
     "prompt_number": 13
    },
    {
     "cell_type": "markdown",
     "metadata": {},
     "source": [
      "A: Not bad!"
     ]
    },
    {
     "cell_type": "markdown",
     "metadata": {},
     "source": [
      "**Q: Cool! That means we can do all of our regressions by\n",
      "hand now, right?**"
     ]
    },
    {
     "cell_type": "markdown",
     "metadata": {},
     "source": [
      "![](assets/angry_cat.jpeg)"
     ]
    },
    {
     "cell_type": "markdown",
     "metadata": {},
     "source": [
      "If you are interested in the mathematical derivations of the formulas we use in class, I'd suggest picking up"
     ]
    },
    {
     "cell_type": "markdown",
     "metadata": {},
     "source": [
      "![resource](assets/matrix_algebra.jpg)[Matrix Algebra as a Tool](http://book.type.hk/calibre/browse/book/464)"
     ]
    },
    {
     "cell_type": "heading",
     "level": 3,
     "metadata": {},
     "source": [
      "Steps in Regression Analysis"
     ]
    },
    {
     "cell_type": "markdown",
     "metadata": {},
     "source": [
      "1. Statement of the Problem \n",
      "1. Selection of Potentially Relevant Variables\n",
      "1. Data Collection \n",
      "1. Model Specification \n",
      "1. Method of Fitting \n",
      "1. Model Fitting \n",
      "1. Model Criticism and Selection"
     ]
    },
    {
     "cell_type": "markdown",
     "metadata": {},
     "source": [
      "![break](assets/theory.png)"
     ]
    },
    {
     "cell_type": "heading",
     "level": 2,
     "metadata": {},
     "source": [
      "Cost Of Linear Regressions"
     ]
    },
    {
     "cell_type": "markdown",
     "metadata": {},
     "source": [
      "** Q: How do measure error in a linear regression model?**\n",
      "\n",
      "A: In theory, minimize the sum of the squared residuals\n",
      "(**RSS**, or **SSE**).\n"
     ]
    },
    {
     "cell_type": "markdown",
     "metadata": {},
     "source": [
      "$$SST = \\Sigma(y_i-\\bar{y})^2$$\n",
      "$$SSR = \\Sigma(\\hat{y_i}-\\bar{y})^2$$\n",
      "$$SSE = \\Sigma(y_i-\\hat{y_i})^2$$"
     ]
    },
    {
     "cell_type": "markdown",
     "metadata": {},
     "source": [
      "SST = Total Sum of Squared Deviations in $Y$ from its mean $\\bar{y}$"
     ]
    },
    {
     "cell_type": "markdown",
     "metadata": {},
     "source": [
      "SSR = Sum of squares due to regression"
     ]
    },
    {
     "cell_type": "markdown",
     "metadata": {},
     "source": [
      "SSE = Sum of Squared Residiuals"
     ]
    },
    {
     "cell_type": "markdown",
     "metadata": {},
     "source": [
      "In some cases the total sum of squares equals the sum of the two other sums of squares defined above"
     ]
    },
    {
     "cell_type": "markdown",
     "metadata": {},
     "source": [
      "$$SST = SSR + SSE$$"
     ]
    },
    {
     "cell_type": "markdown",
     "metadata": {},
     "source": [
      "In practice, any respectable software can do this for you.\n",
      "\n",
      "In python, we can find this with some quick code."
     ]
    },
    {
     "cell_type": "code",
     "collapsed": false,
     "input": [
      "import numpy as np\n",
      "\n",
      "prediction = np.array([1, 2, 3])\n",
      "actual = np.array([1.12, 1.89, 3.02])\n",
      "\n",
<<<<<<< HEAD
      "np.mean((prediction - actual) ** 2)"
=======
      "np.sum((prediction - actual) ** 2)"
>>>>>>> upstream/gh-pages
     ],
     "language": "python",
     "metadata": {},
     "outputs": [
      {
       "metadata": {},
       "output_type": "pyout",
<<<<<<< HEAD
       "prompt_number": 45,
       "text": [
        "0.0089666666666666835"
       ]
      }
     ],
     "prompt_number": 45
=======
       "prompt_number": 43,
       "text": [
        "0.026900000000000049"
       ]
      }
     ],
     "prompt_number": 43
>>>>>>> upstream/gh-pages
    },
    {
     "cell_type": "markdown",
     "metadata": {},
     "source": [
      "**Q: How do measure goodness of fit?**\n",
      "\n",
      "A: In theory, we want to maximize $R^2$ (as close to $1$ as possible)."
     ]
    },
    {
     "cell_type": "markdown",
     "metadata": {},
     "source": [
      "$$R = 1 - \\frac{SSE}{SST}$$"
     ]
    },
    {
     "cell_type": "markdown",
     "metadata": {},
     "source": [
      "Scikit Learn already calculates this for us, as do any other stats packages and programs.\n",
      "\n",
      "If you want to get serious into regression, learn more about the coefficient of determination."
     ]
    },
    {
     "cell_type": "heading",
     "level": 3,
     "metadata": {},
     "source": [
      "Review : Cost"
     ]
    },
    {
     "cell_type": "markdown",
     "metadata": {},
     "source": [
      "1. What values are we looking for when we consider SSE?\n",
      "What is the best value we could potentially have?\n",
      "2. What is the best value we could have for $R^2$ ?\n",
      "3. What\u2019s the primary difference between these two values?"
     ]
    },
    {
     "cell_type": "markdown",
     "metadata": {},
     "source": [
      "![break](assets/code.png)"
     ]
    },
    {
     "cell_type": "heading",
     "level": 2,
     "metadata": {},
     "source": [
      "Implementing the Linear Regression"
     ]
    },
    {
     "cell_type": "markdown",
     "metadata": {},
     "source": [
      "* Work through various data and scatterplots\n",
      "* Create linear models with simple relationships (one feature)\n",
      "* Create linear models with multiple features\n",
      "* Evaluate model performance"
     ]
    },
    {
     "cell_type": "heading",
     "level": 3,
     "metadata": {},
     "source": [
      "Install Seaborn for statistical data visualization"
     ]
    },
    {
     "cell_type": "code",
     "collapsed": false,
     "input": [
      "!pip install seaborn"
     ],
     "language": "python",
     "metadata": {},
     "outputs": [
      {
       "output_type": "stream",
       "stream": "stdout",
       "text": [
<<<<<<< HEAD
        "Requirement already satisfied (use --upgrade to upgrade): seaborn in /usr/local/lib/python2.7/dist-packages\r\n",
=======
        "Downloading/unpacking seaborn\r\n"
       ]
      },
      {
       "output_type": "stream",
       "stream": "stdout",
       "text": [
        "  Downloading seaborn-0.5.1.tar.gz (104kB): "
       ]
      },
      {
       "output_type": "stream",
       "stream": "stdout",
       "text": [
        "\r",
        "  Downloading seaborn-0.5.1.tar.gz (104kB):   3%  4.1kB\r",
        "  Downloading seaborn-0.5.1.tar.gz (104kB):   7%  8.2kB"
       ]
      },
      {
       "output_type": "stream",
       "stream": "stdout",
       "text": [
        "\r",
        "  Downloading seaborn-0.5.1.tar.gz (104kB):  11%  12kB \r",
        "  Downloading seaborn-0.5.1.tar.gz (104kB):  15%  16kB\r",
        "  Downloading seaborn-0.5.1.tar.gz (104kB):  19%  20kB\r",
        "  Downloading seaborn-0.5.1.tar.gz (104kB):  23%  24kB\r",
        "  Downloading seaborn-0.5.1.tar.gz (104kB):  27%  28kB\r",
        "  Downloading seaborn-0.5.1.tar.gz (104kB):  31%  32kB\r",
        "  Downloading seaborn-0.5.1.tar.gz (104kB):  35%  36kB\r",
        "  Downloading seaborn-0.5.1.tar.gz (104kB):  39%  40kB\r",
        "  Downloading seaborn-0.5.1.tar.gz (104kB):  43%  45kB\r",
        "  Downloading seaborn-0.5.1.tar.gz (104kB):  47%  49kB"
       ]
      },
      {
       "output_type": "stream",
       "stream": "stdout",
       "text": [
        "\r",
        "  Downloading seaborn-0.5.1.tar.gz (104kB):  50%  53kB\r",
        "  Downloading seaborn-0.5.1.tar.gz (104kB):  54%  57kB\r",
        "  Downloading seaborn-0.5.1.tar.gz (104kB):  58%  61kB\r",
        "  Downloading seaborn-0.5.1.tar.gz (104kB):  62%  65kB\r",
        "  Downloading seaborn-0.5.1.tar.gz (104kB):  66%  69kB\r",
        "  Downloading seaborn-0.5.1.tar.gz (104kB):  70%  73kB\r",
        "  Downloading seaborn-0.5.1.tar.gz (104kB):  74%  77kB\r",
        "  Downloading seaborn-0.5.1.tar.gz (104kB):  78%  81kB\r",
        "  Downloading seaborn-0.5.1.tar.gz (104kB):  82%  86kB\r",
        "  Downloading seaborn-0.5.1.tar.gz (104kB):  86%  90kB\r",
        "  Downloading seaborn-0.5.1.tar.gz (104kB):  90%  94kB\r",
        "  Downloading seaborn-0.5.1.tar.gz (104kB):  94%  98kB\r",
        "  Downloading seaborn-0.5.1.tar.gz (104kB):  98%  102kB\r",
        "  Downloading seaborn-0.5.1.tar.gz (104kB): 100%  104kB\r",
        "  Downloading seaborn-0.5.1.tar.gz (104kB):            \r",
        "  Downloading seaborn-0.5.1.tar.gz (104kB): 104kB downloaded\r\n"
       ]
      },
      {
       "output_type": "stream",
       "stream": "stdout",
       "text": [
        "  Running setup.py (path:/tmp/pip_build_root/seaborn/setup.py) egg_info for package seaborn\r\n"
       ]
      },
      {
       "output_type": "stream",
       "stream": "stdout",
       "text": [
        "    \r\n"
       ]
      },
      {
       "output_type": "stream",
       "stream": "stdout",
       "text": [
        "Installing collected packages: seaborn\r\n",
        "  Running setup.py install for seaborn\r\n"
       ]
      },
      {
       "output_type": "stream",
       "stream": "stdout",
       "text": [
        "    \r\n"
       ]
      },
      {
       "output_type": "stream",
       "stream": "stdout",
       "text": [
        "Successfully installed seaborn\r\n",
>>>>>>> upstream/gh-pages
        "Cleaning up...\r\n"
       ]
      }
     ],
<<<<<<< HEAD
     "prompt_number": 2
=======
     "prompt_number": 27
>>>>>>> upstream/gh-pages
    },
    {
     "cell_type": "code",
     "collapsed": false,
     "input": [
      "%matplotlib inline\n",
      "import pandas as pd\n",
      "import numpy as np\n",
      "import matplotlib as mpl\n",
      "import matplotlib.pyplot as plt\n",
      "import seaborn as sns\n",
      "\n",
      "# Set some Pandas options\n",
      "pd.set_option('max_columns', 30)\n",
      "pd.set_option('max_rows', 20)\n",
      "\n",
      "# Default Plotting Size\n",
      "mpl.rc(\"figure\", figsize=(20, 8))\n",
      "\n",
      "# Store data in a consistent place\n",
      "DATA_DIR = '../data/'"
     ],
     "language": "python",
     "metadata": {},
     "outputs": [],
<<<<<<< HEAD
     "prompt_number": 5
=======
     "prompt_number": 44
>>>>>>> upstream/gh-pages
    },
    {
     "cell_type": "heading",
     "level": 3,
     "metadata": {},
     "source": [
      "Build an incredibly basic linear model function."
     ]
    },
    {
     "cell_type": "code",
     "collapsed": false,
     "input": [
      "from numpy import array, dot\n",
      "from scipy.linalg import inv\n",
      "\n",
      "X = array([ [1, 1], [1, 2], [1, 3], [1, 4] ])\n",
      "y = array([ [1], [2], [3], [4] ])\n",
      "\n",
      "print X\n",
      "print X.T\n",
      "\n",
      "print dot(X.T, X)\n",
      "\n",
      "n = inv(dot(X.T, X))\n",
      "\n",
      "print n\n",
      "\n",
      "k = dot(X.T, y)\n",
      "\n",
      "print k\n",
      "\n",
      "coef_ = dot(n, k)\n",
      "\n",
      "print coef_"
     ],
     "language": "python",
     "metadata": {},
     "outputs": [
      {
       "output_type": "stream",
       "stream": "stdout",
       "text": [
        "[[1 1]\n",
        " [1 2]\n",
        " [1 3]\n",
        " [1 4]]\n",
        "[[1 1 1 1]\n",
        " [1 2 3 4]]\n",
        "[[ 4 10]\n",
        " [10 30]]\n",
        "[[ 1.5 -0.5]\n",
        " [-0.5  0.2]]\n",
        "[[10]\n",
        " [30]]\n",
        "[[ -3.55271368e-15]\n",
        " [  1.00000000e+00]]\n"
       ]
      }
     ],
     "prompt_number": 3
    },
    {
     "cell_type": "markdown",
     "metadata": {},
     "source": [
      "This can all be turned into one relatively simple algorithm, though it is rather limiting in features."
     ]
    },
    {
     "cell_type": "code",
     "collapsed": false,
     "input": [
      "def regression(input, response):\n",
      "    return dot(inv(dot(input.T, input)), dot(input.T, response))"
     ],
     "language": "python",
     "metadata": {},
     "outputs": [],
     "prompt_number": 15
    },
    {
     "cell_type": "heading",
     "level": 3,
     "metadata": {},
     "source": [
      "Practice: Plotting Data"
     ]
    },
    {
     "cell_type": "markdown",
     "metadata": {},
     "source": [
      "We're gonna start by playing with data about mammals brain and body size. \n",
      "\n",
      "Use the gist [link](https://gist.github.com/tijptjik/2f6307ee4d192ce8927b\n",
      ") and find the \"< >\" button to get the actual raw data file.\n",
      "\n",
      "Lets load the data into pandas and generate a scatterplot:"
     ]
    },
    {
     "cell_type": "code",
     "collapsed": false,
     "input": [
      "!curl https://gist.githubusercontent.com/tijptjik/2f6307ee4d192ce8927b/raw/c56f694bf4e7bbeeec92e24d33a8f49f7da37be8/mammals.csv > {DATA_DIR}mammals.csv   "
     ],
     "language": "python",
     "metadata": {},
     "outputs": [
      {
       "output_type": "stream",
       "stream": "stdout",
       "text": [
        "  % Total    % Received % Xferd  Average Speed   Time    Time     Time  Current\r\n",
        "                                 Dload  Upload   Total   Spent    Left  Speed\r\n",
        "\r",
        "  0     0    0     0    0     0      0      0 --:--:-- --:--:-- --:--:--     0"
       ]
      },
      {
       "output_type": "stream",
       "stream": "stdout",
       "text": [
        "\r",
<<<<<<< HEAD
=======
        "  0     0    0     0    0     0      0      0 --:--:-- --:--:-- --:--:--     0"
       ]
      },
      {
       "output_type": "stream",
       "stream": "stdout",
       "text": [
        "\r",
>>>>>>> upstream/gh-pages
        "  0     0    0     0    0     0      0      0 --:--:--  0:00:01 --:--:--     0"
       ]
      },
      {
       "output_type": "stream",
       "stream": "stdout",
       "text": [
        "\r",
        "  0     0    0     0    0     0      0      0 --:--:--  0:00:02 --:--:--     0"
       ]
      },
      {
       "output_type": "stream",
       "stream": "stdout",
       "text": [
        "\r",
        "  0     0    0     0    0     0      0      0 --:--:--  0:00:03 --:--:--     0"
       ]
      },
      {
       "output_type": "stream",
       "stream": "stdout",
       "text": [
        "\r",
        "  0     0    0     0    0     0      0      0 --:--:--  0:00:04 --:--:--     0"
       ]
      },
      {
       "output_type": "stream",
       "stream": "stdout",
       "text": [
        "\r",
        "  0     0    0     0    0     0      0      0 --:--:--  0:00:05 --:--:--     0"
       ]
      },
      {
       "output_type": "stream",
       "stream": "stdout",
       "text": [
        "\r",
<<<<<<< HEAD
        "100  1402  100  1402    0     0    251      0  0:00:05  0:00:05 --:--:--   346\r\n"
       ]
      }
     ],
     "prompt_number": 6
=======
        "100  1402  100  1402    0     0    246      0  0:00:05  0:00:05 --:--:--   335\r\n"
       ]
      }
     ],
     "prompt_number": 45
>>>>>>> upstream/gh-pages
    },
    {
     "cell_type": "code",
     "collapsed": false,
     "input": [
      "ls ../data/"
     ],
     "language": "python",
     "metadata": {},
     "outputs": [
      {
       "output_type": "stream",
       "stream": "stdout",
       "text": [
<<<<<<< HEAD
        "\u001b[0m\u001b[01;32m__init__.py\u001b[0m*           \u001b[01;34minsults\u001b[0m/      nyt2.csv   nyt4.csv\r\n",
        "airquality.csv         \u001b[01;32mmammals.csv\u001b[0m*  nyt20.csv  nyt5.csv\r\n",
        "authorship.csv         nyt1.csv      nyt21.csv  nyt6.csv\r\n",
        "\u001b[01;34mbaseball\u001b[0m/              nyt10.csv     nyt22.csv  nyt7.csv\r\n",
        "\u001b[01;32mbaseball.csv\u001b[0m*          nyt11.csv     nyt23.csv  nyt8.csv\r\n",
        "\u001b[01;32mbaseball_merged_2011\u001b[0m*  nyt12.csv     nyt24.csv  nyt9.csv\r\n",
        "\u001b[01;32mbaseball_merged_2012\u001b[0m*  nyt13.csv     nyt25.csv  \u001b[01;32mnytimes.csv\u001b[0m*\r\n",
        "\u001b[01;32mbeer.tsv\u001b[0m*              nyt14.csv     nyt26.csv  nytimes_aggregation.csv\r\n",
        "\u001b[01;34mbs\u001b[0m/                    nyt15.csv     nyt27.csv  nytimes_summary2.csv\r\n",
        "\u001b[01;34mcars\u001b[0m/                  nyt16.csv     nyt28.csv  tips.csv\r\n",
        "cars1920.csv           nyt17.csv     nyt29.csv  zipcodes.csv\r\n",
        "cars93.csv             nyt18.csv     nyt3.csv\r\n",
        "\u001b[01;36mdata\u001b[0m@                  nyt19.csv     nyt30.csv\r\n"
       ]
      }
     ],
     "prompt_number": 8
=======
        "airquality.csv         \u001b[0m\u001b[38;5;34mbeer.tsv\u001b[0m*     \u001b[38;5;34m__init__.py\u001b[0m*\r\n",
        "authorship.csv         \u001b[38;5;27mbs\u001b[0m/           \u001b[38;5;27minsults\u001b[0m/\r\n",
        "\u001b[38;5;27mbaseball\u001b[0m/              \u001b[38;5;27mcars\u001b[0m/         \u001b[38;5;34mmammals.csv\u001b[0m*\r\n",
        "\u001b[38;5;34mbaseball.csv\u001b[0m*          cars1920.csv  \u001b[38;5;34mnytimes.csv\u001b[0m*\r\n",
        "\u001b[38;5;34mbaseball_merged_2011\u001b[0m*  cars93.csv    \u001b[38;5;34mtips.csv\u001b[0m*\r\n",
        "\u001b[38;5;34mbaseball_merged_2012\u001b[0m*  \u001b[38;5;27mestimation\u001b[0m/   \u001b[38;5;34mzipcodes.csv\u001b[0m*\r\n"
       ]
      }
     ],
     "prompt_number": 46
>>>>>>> upstream/gh-pages
    },
    {
     "cell_type": "code",
     "collapsed": false,
     "input": [
      "mammals = pd.read_csv(DATA_DIR + 'mammals.csv')\n",
      "mammals.describe()"
     ],
     "language": "python",
     "metadata": {},
     "outputs": [
      {
       "html": [
        "<div style=\"max-height:1000px;max-width:1500px;overflow:auto;\">\n",
        "<table border=\"1\" class=\"dataframe\">\n",
        "  <thead>\n",
        "    <tr style=\"text-align: right;\">\n",
        "      <th></th>\n",
        "      <th>body</th>\n",
        "      <th>brain</th>\n",
        "    </tr>\n",
        "  </thead>\n",
        "  <tbody>\n",
        "    <tr>\n",
        "      <th>count</th>\n",
        "      <td>   62.000000</td>\n",
        "      <td>   62.000000</td>\n",
        "    </tr>\n",
        "    <tr>\n",
        "      <th>mean</th>\n",
        "      <td>  198.789984</td>\n",
        "      <td>  283.134194</td>\n",
        "    </tr>\n",
        "    <tr>\n",
        "      <th>std</th>\n",
        "      <td>  899.158011</td>\n",
        "      <td>  930.278942</td>\n",
        "    </tr>\n",
        "    <tr>\n",
        "      <th>min</th>\n",
        "      <td>    0.005000</td>\n",
        "      <td>    0.140000</td>\n",
        "    </tr>\n",
        "    <tr>\n",
        "      <th>25%</th>\n",
        "      <td>    0.600000</td>\n",
        "      <td>    4.250000</td>\n",
        "    </tr>\n",
        "    <tr>\n",
        "      <th>50%</th>\n",
        "      <td>    3.342500</td>\n",
        "      <td>   17.250000</td>\n",
        "    </tr>\n",
        "    <tr>\n",
        "      <th>75%</th>\n",
        "      <td>   48.202500</td>\n",
        "      <td>  166.000000</td>\n",
        "    </tr>\n",
        "    <tr>\n",
        "      <th>max</th>\n",
        "      <td> 6654.000000</td>\n",
        "      <td> 5712.000000</td>\n",
        "    </tr>\n",
        "  </tbody>\n",
        "</table>\n",
        "</div>"
       ],
       "metadata": {},
       "output_type": "pyout",
<<<<<<< HEAD
       "prompt_number": 9,
=======
       "prompt_number": 47,
>>>>>>> upstream/gh-pages
       "text": [
        "              body        brain\n",
        "count    62.000000    62.000000\n",
        "mean    198.789984   283.134194\n",
        "std     899.158011   930.278942\n",
        "min       0.005000     0.140000\n",
        "25%       0.600000     4.250000\n",
        "50%       3.342500    17.250000\n",
        "75%      48.202500   166.000000\n",
        "max    6654.000000  5712.000000"
       ]
      }
     ],
<<<<<<< HEAD
     "prompt_number": 9
=======
     "prompt_number": 47
>>>>>>> upstream/gh-pages
    },
    {
     "cell_type": "code",
     "collapsed": false,
     "input": [
      "mammals.info()"
     ],
     "language": "python",
     "metadata": {},
     "outputs": [
      {
       "output_type": "stream",
       "stream": "stdout",
       "text": [
        "<class 'pandas.core.frame.DataFrame'>\n",
        "Int64Index: 62 entries, 0 to 61\n",
        "Data columns (total 3 columns):\n",
        "Name     62 non-null object\n",
        "body     62 non-null float64\n",
        "brain    62 non-null float64\n",
        "dtypes: float64(2), object(1)"
       ]
      }
     ],
     "prompt_number": 18
    },
    {
     "cell_type": "code",
     "collapsed": false,
     "input": [
      "mammals.head()"
     ],
     "language": "python",
     "metadata": {},
     "outputs": [
      {
       "html": [
        "<div style=\"max-height:1000px;max-width:1500px;overflow:auto;\">\n",
        "<table border=\"1\" class=\"dataframe\">\n",
        "  <thead>\n",
        "    <tr style=\"text-align: right;\">\n",
        "      <th></th>\n",
        "      <th>Name</th>\n",
        "      <th>body</th>\n",
        "      <th>brain</th>\n",
        "    </tr>\n",
        "  </thead>\n",
        "  <tbody>\n",
        "    <tr>\n",
        "      <th>0</th>\n",
        "      <td>      Arctic fox</td>\n",
        "      <td>   3.385</td>\n",
        "      <td>  44.5</td>\n",
        "    </tr>\n",
        "    <tr>\n",
        "      <th>1</th>\n",
        "      <td>      Owl monkey</td>\n",
        "      <td>   0.480</td>\n",
        "      <td>  15.5</td>\n",
        "    </tr>\n",
        "    <tr>\n",
        "      <th>2</th>\n",
        "      <td> Mountain beaver</td>\n",
        "      <td>   1.350</td>\n",
        "      <td>   8.1</td>\n",
        "    </tr>\n",
        "    <tr>\n",
        "      <th>3</th>\n",
        "      <td>             Cow</td>\n",
        "      <td> 465.000</td>\n",
        "      <td> 423.0</td>\n",
        "    </tr>\n",
        "    <tr>\n",
        "      <th>4</th>\n",
        "      <td>       Grey wolf</td>\n",
        "      <td>  36.330</td>\n",
        "      <td> 119.5</td>\n",
        "    </tr>\n",
        "  </tbody>\n",
        "</table>\n",
        "</div>"
       ],
       "metadata": {},
       "output_type": "pyout",
       "prompt_number": 19,
       "text": [
        "              Name     body  brain\n",
        "0       Arctic fox    3.385   44.5\n",
        "1       Owl monkey    0.480   15.5\n",
        "2  Mountain beaver    1.350    8.1\n",
        "3              Cow  465.000  423.0\n",
        "4        Grey wolf   36.330  119.5"
       ]
      }
     ],
     "prompt_number": 19
    },
    {
     "cell_type": "heading",
     "level": 3,
     "metadata": {},
     "source": [
      "Built-in Way"
     ]
    },
    {
     "cell_type": "code",
     "collapsed": false,
     "input": [
      "plt.scatter(mammals['body'], mammals['brain'])\n",
      "plt.show()"
     ],
     "language": "python",
     "metadata": {},
     "outputs": [
      {
       "metadata": {},
       "output_type": "display_data",
       "png": "iVBORw0KGgoAAAANSUhEUgAABJcAAAHhCAYAAADTSl+TAAAABHNCSVQICAgIfAhkiAAAAAlwSFlz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\nh70AAAAASUVORK5CYII=\n",
       "text": [
        "<matplotlib.figure.Figure at 0x7fe020e5c6d0>"
       ]
      }
     ],
     "prompt_number": 20
    },
    {
     "cell_type": "heading",
     "level": 3,
     "metadata": {},
     "source": [
      "SeaBorn Plot"
     ]
    },
    {
     "cell_type": "code",
     "collapsed": false,
     "input": [
      "sns.lmplot(\"body\", \"brain\", mammals);"
     ],
     "language": "python",
     "metadata": {},
     "outputs": [
      {
       "metadata": {},
       "output_type": "display_data",
<<<<<<< HEAD
       "png": "iVBORw0KGgoAAAANSUhEUgAAAWEAAAFhCAYAAACh/xvXAAAABHNCSVQICAgIfAhkiAAAAAlwSFlz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\nAAAASUVORK5CYII=\n",
       "text": [
        "<matplotlib.figure.Figure at 0x7fe020800a10>"
       ]
      }
     ],
     "prompt_number": 21
=======
       "png": "iVBORw0KGgoAAAANSUhEUgAAAWEAAAFhCAYAAACh/xvXAAAABHNCSVQICAgIfAhkiAAAAAlwSFlz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\n",
       "text": [
        "<matplotlib.figure.Figure at 0x7fe0201896d0>"
       ]
      }
     ],
     "prompt_number": 50
>>>>>>> upstream/gh-pages
    },
    {
     "cell_type": "heading",
     "level": 3,
     "metadata": {},
     "source": [
      "Built-in Way"
     ]
    },
    {
     "cell_type": "code",
     "collapsed": false,
     "input": [
      "plt.hist(mammals['body'], bins=range(0, 10000, 100))\n",
      "plt.show()"
     ],
     "language": "python",
     "metadata": {},
     "outputs": [
      {
       "metadata": {},
       "output_type": "display_data",
       "png": "iVBORw0KGgoAAAANSUhEUgAABIkAAAHhCAYAAADqLe7IAAAABHNCSVQICAgIfAhkiAAAAAlwSFlz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\nAAAAiUQAAAAAJBIBAAAAUP0/V0YCHilqLFgAAAAASUVORK5CYII=\n",
       "text": [
        "<matplotlib.figure.Figure at 0x7fe0207c7910>"
       ]
      }
     ],
     "prompt_number": 22
    },
    {
     "cell_type": "code",
     "collapsed": false,
     "input": [
      "sns.distplot(mammals['body']);"
     ],
     "language": "python",
     "metadata": {},
     "outputs": [
      {
       "metadata": {},
       "output_type": "display_data",
       "png": "iVBORw0KGgoAAAANSUhEUgAABJQAAAHwCAYAAADw9zWuAAAABHNCSVQICAgIfAhkiAAAAAlwSFlz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\nsBeBEgAAAAB7ESgBAAAAsJd/A+xFiw4+b9VpAAAAAElFTkSuQmCC\n",
       "text": [
        "<matplotlib.figure.Figure at 0x7fe0207d3c50>"
       ]
      }
     ],
     "prompt_number": 23
    },
    {
     "cell_type": "code",
     "collapsed": false,
     "input": [
      "plt.hist(mammals['brain'], bins=range(0, 10000, 100))\n",
      "plt.show()"
     ],
     "language": "python",
     "metadata": {},
     "outputs": [
      {
       "metadata": {},
       "output_type": "display_data",
       "png": "iVBORw0KGgoAAAANSUhEUgAABIkAAAHhCAYAAADqLe7IAAAABHNCSVQICAgIfAhkiAAAAAlwSFlz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\nAEAiEQAAAACJRAAAAAAkEgEAAABQ/X9kggPpIkIBvgAAAABJRU5ErkJggg==\n",
       "text": [
        "<matplotlib.figure.Figure at 0x7fe02061d4d0>"
       ]
      }
     ],
     "prompt_number": 24
    },
    {
     "cell_type": "code",
     "collapsed": false,
     "input": [
      "sns.distplot(mammals['body']);"
     ],
     "language": "python",
     "metadata": {},
     "outputs": [
      {
       "metadata": {},
       "output_type": "display_data",
       "png": "iVBORw0KGgoAAAANSUhEUgAABJQAAAHwCAYAAADw9zWuAAAABHNCSVQICAgIfAhkiAAAAAlwSFlz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\nsBeBEgAAAAB7ESgBAAAAsJd/A+xFiw4+b9VpAAAAAElFTkSuQmCC\n",
       "text": [
        "<matplotlib.figure.Figure at 0x7fe0201c7350>"
       ]
      }
     ],
     "prompt_number": 25
    },
    {
     "cell_type": "markdown",
     "metadata": {},
     "source": [
      "For the most part, we know that this data is a _long tail_ distribution, so we could take the log of each feature to create something that is not just more readable, but new features that could be a better representation of the data!\n"
     ]
    },
    {
     "cell_type": "code",
     "collapsed": false,
     "input": [
      "from numpy import log\n",
      "\n",
      "mammals['log_body'] = log(mammals['body'])\n",
      "mammals['log_brain'] = log(mammals['brain'])\n",
      "\n",
      "plt.scatter(mammals['log_body'], mammals['log_brain'])"
     ],
     "language": "python",
     "metadata": {},
     "outputs": [
      {
       "metadata": {},
       "output_type": "pyout",
       "prompt_number": 26,
       "text": [
        "<matplotlib.collections.PathCollection at 0x7fe02092ef90>"
       ]
      },
      {
       "metadata": {},
       "output_type": "display_data",
       "png": "iVBORw0KGgoAAAANSUhEUgAABIAAAAHhCAYAAAAWOMUCAAAABHNCSVQICAgIfAhkiAAAAAlwSFlz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\nAACAygmAAAAAAConAAIAAACo3P8HAziySnXcQwsAAAAASUVORK5CYII=\n",
       "text": [
        "<matplotlib.figure.Figure at 0x7fe020a70790>"
       ]
      }
     ],
     "prompt_number": 26
    },
    {
     "cell_type": "heading",
     "level": 3,
     "metadata": {},
     "source": [
      "Practice: Using Linear Regressions"
     ]
    },
    {
     "cell_type": "code",
     "collapsed": false,
     "input": [
      "from sklearn import linear_model\n",
      "\n",
      "# Make the model object\n",
      "regr = linear_model.LinearRegression()\n",
      "\n",
      "# Fit the data\n",
      "body = [[x] for x in mammals['body'].values]\n",
      "brain = mammals['brain'].values\n",
      "\n",
      "regr.fit(body, brain)"
     ],
     "language": "python",
     "metadata": {},
     "outputs": [
      {
       "metadata": {},
       "output_type": "pyout",
       "prompt_number": 28,
       "text": [
        "LinearRegression(copy_X=True, fit_intercept=True, normalize=False)"
       ]
      }
     ],
     "prompt_number": 28
    },
    {
     "cell_type": "markdown",
     "metadata": {},
     "source": [
      "Above we go through some steps to get our data 'presentable' for scikit learn. There is a regression model available in PANDAS, but let's stick with the models available in scikit learn."
     ]
    },
    {
     "cell_type": "code",
     "collapsed": false,
     "input": [
      "# Display the coefficients:\n",
      "print regr.coef_\n",
      "\n",
      "# Display our SSE:\n",
<<<<<<< HEAD
      "print np.mean((regr.predict(body) - brain) ** 2)\n",
=======
      "print np.sum((regr.predict(body) - brain) ** 2)\n",
>>>>>>> upstream/gh-pages
      "\n",
      "# Scoring our model (closer to 1 is better!)\n",
      "print regr.score(body, brain)"
     ],
     "language": "python",
     "metadata": {},
     "outputs": [
      {
       "output_type": "stream",
       "stream": "stdout",
       "text": [
        "[ 0.96649637]\n",
<<<<<<< HEAD
        "108423.210573\n",
=======
        "6722239.0555\n",
>>>>>>> upstream/gh-pages
        "0.872662084304\n"
       ]
      }
     ],
<<<<<<< HEAD
     "prompt_number": 29
=======
     "prompt_number": 53
>>>>>>> upstream/gh-pages
    },
    {
     "cell_type": "markdown",
     "metadata": {},
     "source": [
<<<<<<< HEAD
      "Our performance here is okay (~87% accuracy), and can verify this with a plot:"
=======
      "Our performance here is okay - we explained ~87% of the variance in the dataset, and can verify this with a plot:"
>>>>>>> upstream/gh-pages
     ]
    },
    {
     "cell_type": "code",
     "collapsed": false,
     "input": [
      "plt.scatter(body, brain)\n",
      "plt.plot(body, regr.predict(body), color='blue', linewidth=1)\n",
      "plt.show()"
     ],
     "language": "python",
     "metadata": {},
     "outputs": [
      {
       "metadata": {},
       "output_type": "display_data",
       "png": "iVBORw0KGgoAAAANSUhEUgAABJcAAAHhCAYAAADTSl+TAAAABHNCSVQICAgIfAhkiAAAAAlwSFlz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\n/j89l550vR9H3AAAAABJRU5ErkJggg==\n",
       "text": [
        "<matplotlib.figure.Figure at 0x7fe02067ce10>"
       ]
      }
     ],
     "prompt_number": 31
    },
    {
     "cell_type": "heading",
     "level": 2,
     "metadata": {},
     "source": [
      "Alternatively: StatsModels"
     ]
    },
    {
     "cell_type": "code",
     "collapsed": false,
     "input": [
      "!pip install statsmodels"
     ],
     "language": "python",
     "metadata": {},
     "outputs": [
      {
       "output_type": "stream",
       "stream": "stdout",
       "text": [
        "Requirement already satisfied (use --upgrade to upgrade): statsmodels in /home/io/.tools/anaconda/lib/python2.7/site-packages\r\n",
        "Cleaning up...\r\n"
       ]
      }
     ],
     "prompt_number": 32
    },
    {
     "cell_type": "code",
     "collapsed": false,
     "input": [
      "from statsmodels.formula.api import ols"
     ],
     "language": "python",
     "metadata": {},
     "outputs": [],
     "prompt_number": 39
    },
    {
     "cell_type": "code",
     "collapsed": false,
     "input": [
      "results = ols('brain ~ body', mammals).fit()\n",
      "print(results.summary())"
     ],
     "language": "python",
     "metadata": {},
     "outputs": [
      {
       "output_type": "stream",
       "stream": "stdout",
       "text": [
        "                            OLS Regression Results                            \n",
        "==============================================================================\n",
        "Dep. Variable:                  brain   R-squared:                       0.873\n",
        "Model:                            OLS   Adj. R-squared:                  0.871\n",
        "Method:                 Least Squares   F-statistic:                     411.2\n",
        "Date:                Wed, 18 Mar 2015   Prob (F-statistic):           1.54e-28\n",
<<<<<<< HEAD
        "Time:                        18:47:00   Log-Likelihood:                -447.38\n",
=======
        "Time:                        21:45:11   Log-Likelihood:                -447.38\n",
>>>>>>> upstream/gh-pages
        "No. Observations:                  62   AIC:                             898.8\n",
        "Df Residuals:                      60   BIC:                             903.0\n",
        "Df Model:                           1                                         \n",
        "==============================================================================\n",
        "                 coef    std err          t      P>|t|      [95.0% Conf. Int.]\n",
        "------------------------------------------------------------------------------\n",
        "Intercept     91.0044     43.553      2.090      0.041         3.886   178.123\n",
        "body           0.9665      0.048     20.278      0.000         0.871     1.062\n",
        "==============================================================================\n",
        "Omnibus:                       92.942   Durbin-Watson:                   2.339\n",
        "Prob(Omnibus):                  0.000   Jarque-Bera (JB):             1738.656\n",
        "Skew:                           4.382   Prob(JB):                         0.00\n",
        "Kurtosis:                      27.417   Cond. No.                         936.\n",
        "==============================================================================\n"
       ]
      }
     ],
<<<<<<< HEAD
     "prompt_number": 40
=======
     "prompt_number": 54
>>>>>>> upstream/gh-pages
    },
    {
     "cell_type": "markdown",
     "metadata": {},
     "source": [
      "![break](assets/voronoi.png)"
     ]
    },
    {
     "cell_type": "heading",
     "level": 3,
     "metadata": {},
     "source": [
      "Classwork"
     ]
    },
    {
     "cell_type": "markdown",
     "metadata": {},
     "source": [
      "[Download](http://bit.ly/16bZqir) the cleaned up aggregation nytimes data\n"
     ]
    },
    {
     "cell_type": "markdown",
     "metadata": {},
     "source": [
      "1. Go through the same steps, but this time generate a new model use the log of brain and body, which we know generated a much better distribution and cleaner set of data. Compare the results to the original model. Remember that exp() can be\n",
      "used to \"normalize\" our \"logged\" values. ***Note: Make sure you start a new linear regression object!***\n",
      "\n",
      "2. Using your aggregate data compiled from nytimes1-30.csv, write a python script that determines the best model predicting CTR based off of age and gender. Since gender is not actually numeric (it is binary), investigate ways to vectorize this feature. ***Clue: you may want two features now instead of one.***\n",
      "\n",
      "3. Compare this practice to making two separate models based on Gender, with Age as your one feature predicting CTR. How are your results different? Which results would you be more confident in presenting to your manager? Why's that?\n",
      "\n",
      "4. Evaluate what data you could still use to improve your nytimes model. Consider plotting your model to service your explanations and write a short blurb about insights gained and next steps in your \"data collection.\""
     ]
    },
    {
     "cell_type": "markdown",
     "metadata": {},
     "source": [
      "![break](assets/resources.png)"
     ]
    },
    {
     "cell_type": "heading",
     "level": 2,
     "metadata": {},
     "source": [
      "Resources"
     ]
    },
    {
     "cell_type": "heading",
     "level": 4,
     "metadata": {},
     "source": [
      "Handbooks"
     ]
    },
    {
     "cell_type": "markdown",
     "metadata": {},
     "source": [
      "* [Regression Analysis by Example](http://type.hk:2551/calibre/browse/book/294) (**Chapter 1 - 2**) - Samprit Chatterjee\n",
      "* [Matrix Algebra as a Tool](http://book.type.hk/calibre/browse/book/464) - Ali S. Hadi"
     ]
    }
   ],
   "metadata": {}
  }
 ]
}