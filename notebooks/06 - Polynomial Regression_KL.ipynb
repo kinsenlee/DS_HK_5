{
 "metadata": {
  "name": "",
<<<<<<< HEAD
  "signature": "sha256:91d9905e1eea9f9a55b8144c5c700c4fd387daf6f46df556f7f8f96b7690c6dd"
=======
  "signature": "sha256:15b353fe1c4c45514bfd6e9ddc7c539405b95adc680a9430aa82ec96e7b171e8"
>>>>>>> upstream/gh-pages
 },
 "nbformat": 3,
 "nbformat_minor": 0,
 "worksheets": [
  {
   "cells": [
    {
     "cell_type": "code",
     "collapsed": false,
     "input": [
      "%%javascript\n",
      "\n",
      "window.load_remote_theme = false\n",
      "var theme_url = \"https://drostehk.github.io/ipynb-theme/\";\n",
      "var asset_url = 'https://raw.githubusercontent.com/tijptjik/DS_assets/master/';\n",
      "\n",
      "window.load_local_theme = function(){\n",
      "    var hostname = document.location.hostname\n",
      "    return ((hostname == \"localhost\" || hostname == '127.0.0.1') && !load_remote_theme)\n",
      "}\n",
      "\n",
      "var url = load_local_theme() ? document.location.origin + \"/files/theme/custom.js\" : theme_url + 'custom.js'\n",
      "\n",
      "$.getScript(url)"
     ],
     "language": "python",
     "metadata": {},
     "outputs": [
      {
       "javascript": [
        "\n",
        "window.load_remote_theme = false\n",
        "var theme_url = \"https://drostehk.github.io/ipynb-theme/\";\n",
        "var asset_url = 'https://raw.githubusercontent.com/tijptjik/DS_assets/master/';\n",
        "\n",
        "window.load_local_theme = function(){\n",
        "    var hostname = document.location.hostname\n",
        "    return ((hostname == \"localhost\" || hostname == '127.0.0.1') && !load_remote_theme)\n",
        "}\n",
        "\n",
        "var url = load_local_theme() ? document.location.origin + \"/files/theme/custom.js\" : theme_url + 'custom.js'\n",
        "\n",
        "$.getScript(url)"
       ],
       "metadata": {},
       "output_type": "display_data",
       "text": [
        "<IPython.core.display.Javascript at 0x7f6e3d42c110>"
       ]
      }
     ],
     "prompt_number": 46
    },
    {
     "cell_type": "markdown",
     "metadata": {},
     "source": [
      "# Polynomial Regression"
     ]
    },
    {
     "cell_type": "markdown",
     "metadata": {},
     "source": [
      "> Do we need to have 280 brands of breakfast cereal? No, probably not. But we have them for a reason - because some people like them. It's the same with baseball statistics.\n",
      "\n",
      "<footer>~ Bill James</footer>"
     ]
    },
    {
     "cell_type": "markdown",
     "metadata": {},
     "source": [
      "![break](assets/agenda.png)"
     ]
    },
    {
     "cell_type": "markdown",
     "metadata": {},
     "source": [
      "1. Assumptions Of Linear Regressions\n",
      "1. Polynomial Regression\n",
      "1. Signs Of Multicolinearity\n",
      "1. Regularization\n",
      "\n",
      "**Labs:**\n",
      "1. Ordinary Least Squares & Ridge Regression"
     ]
    },
    {
     "cell_type": "markdown",
     "metadata": {},
     "source": [
      "![break](assets/theory.png)"
     ]
    },
    {
     "cell_type": "heading",
     "level": 2,
     "metadata": {},
     "source": [
      "Assumptions of Linear Regressions"
     ]
    },
    {
     "cell_type": "heading",
     "level": 3,
     "metadata": {},
     "source": [
      "Variables are normally distributed"
     ]
    },
    {
     "cell_type": "markdown",
     "metadata": {},
     "source": [
      "Regression assumes that variables have normal distributions.  Non-normally distributed variables (highly skewed or kurtotic variables, or variables with substantial outliers) can distort relationships and significance tests."
     ]
    },
    {
     "cell_type": "code",
     "collapsed": false,
     "input": [
      "%matplotlib inline\n",
      "import numpy as np \n",
      "import pylab \n",
      "import scipy.stats as stats\n",
      "\n",
      "# note: loc = mean of distribution, scale = standard deviation, size = population\n",
      "measurements = np.random.normal(loc = 20, scale = 5, size=100)\n",
      "\n",
      "pylab.plot(measurements)\n",
      "pylab.show()"
     ],
     "language": "python",
     "metadata": {},
     "outputs": [
      {
       "metadata": {},
       "output_type": "display_data",
       "png": "iVBORw0KGgoAAAANSUhEUgAAAXUAAAEACAYAAABMEua6AAAABHNCSVQICAgIfAhkiAAAAAlwSFlz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\nKBb6xWYAAAAOSURBVIqiKIqiKOXh/wMle4Isi3XOdgAAAABJRU5ErkJggg==\n",
       "text": [
        "<matplotlib.figure.Figure at 0x7f6e3d42ca50>"
       ]
      }
     ],
     "prompt_number": 47
    },
    {
     "cell_type": "code",
     "collapsed": false,
     "input": [
      "np.random.normal?"
     ],
     "language": "python",
     "metadata": {},
     "outputs": [],
     "prompt_number": 48
    },
    {
     "cell_type": "code",
     "collapsed": false,
     "input": [
      "pylab.plot?"
     ],
     "language": "python",
     "metadata": {},
     "outputs": [],
     "prompt_number": 49
    },
    {
     "cell_type": "code",
     "collapsed": false,
     "input": [
      "sorted?"
     ],
     "language": "python",
     "metadata": {},
     "outputs": [],
     "prompt_number": 50
    },
    {
     "cell_type": "code",
     "collapsed": false,
     "input": [
      "pylab.plot(sorted(measurements))\n",
      "pylab.show()"
     ],
     "language": "python",
     "metadata": {},
     "outputs": [
      {
       "metadata": {},
       "output_type": "display_data",
       "png": "iVBORw0KGgoAAAANSUhEUgAAAXUAAAEACAYAAABMEua6AAAABHNCSVQICAgIfAhkiAAAAAlwSFlz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\n",
       "text": [
        "<matplotlib.figure.Figure at 0x7f6e437a82d0>"
       ]
      }
     ],
     "prompt_number": 51
    },
    {
     "cell_type": "code",
     "collapsed": false,
     "input": [
      "stats.probplot?"
     ],
     "language": "python",
     "metadata": {},
     "outputs": [],
     "prompt_number": 52
    },
    {
     "cell_type": "code",
     "collapsed": false,
     "input": [
      "stats.probplot(measurements, dist=\"norm\", plot=pylab)\n",
      "pylab.show()"
     ],
     "language": "python",
     "metadata": {},
     "outputs": [
      {
       "metadata": {},
       "output_type": "display_data",
       "png": "iVBORw0KGgoAAAANSUhEUgAAAX0AAAEZCAYAAAB7HPUdAAAABHNCSVQICAgIfAhkiAAAAAlwSFlz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\nSUVORK5CYII=\n",
       "text": [
        "<matplotlib.figure.Figure at 0x7f6e3d350890>"
       ]
      }
     ],
     "prompt_number": 53
    },
    {
     "cell_type": "heading",
     "level": 3,
     "metadata": {},
     "source": [
      "Assumption of a linear relationship between the independent and dependent variable(s)."
     ]
    },
    {
     "cell_type": "markdown",
     "metadata": {},
     "source": [
      "Standard multiple regression can only accurately estimate the relationship between dependent and independent variables if the relationships are linear in nature. mm"
     ]
    },
    {
     "cell_type": "markdown",
     "metadata": {},
     "source": [
      "![](assets/v7n24.0.gif)"
     ]
    },
    {
     "cell_type": "markdown",
     "metadata": {},
     "source": [
      "![](assets/v7n24.1.gif)"
     ]
    },
    {
     "cell_type": "markdown",
     "metadata": {},
     "source": [
      "[KL] studentized residuals: In statistics, a studentized residual is the quotient resulting from the division of a residual by an estimate of its standard deviation."
     ]
    },
    {
     "cell_type": "heading",
     "level": 3,
     "metadata": {},
     "source": [
      "Variables are measured without error (reliably)"
     ]
    },
    {
     "cell_type": "markdown",
     "metadata": {},
     "source": [
      "In simple correlation and regression, unreliable measurement causes relationships to be under-estimated increasing the risk of Type II errors (false negative).  In the case of multiple regression or partial correlation, effect sizes of other variables can be over-estimated if the covariate is not reliably measured, as the full effect of the covariate(s) would not be removed.  This is a significant concern if the goal of research is to accurately model the \u201creal\u201d relationships evident in the population. "
     ]
    },
    {
     "cell_type": "heading",
     "level": 3,
     "metadata": {},
     "source": [
      "Assumption of homoscedasticity"
     ]
    },
    {
     "cell_type": "markdown",
     "metadata": {},
     "source": [
      "Homoscedasticity means that the variance of errors is the same across all levels of the IV.  When the variance of errors differs at different values of the response variable, heteroscedasticity is indicated"
     ]
    },
    {
     "cell_type": "markdown",
     "metadata": {},
     "source": [
      "When heteroscedasticity is marked it can lead to serious distortion of findings and seriously weaken the analysis thus increasing the possibility of a Type I error."
     ]
    },
    {
     "cell_type": "markdown",
     "metadata": {},
     "source": [
      "![](assets/v7n24.11.gif)\n",
      "![](assets/v7n24.12.gif)\n",
      "![](assets/v7n24.13.gif)"
     ]
    },
    {
     "cell_type": "heading",
     "level": 3,
     "metadata": {},
     "source": [
      "Independence of the Error Terms"
     ]
    },
    {
     "cell_type": "markdown",
     "metadata": {},
     "source": [
      "Independence assumptions are usually formulated in terms of error terms rather than in terms of the outcome variables"
     ]
    },
    {
     "cell_type": "markdown",
     "metadata": {},
     "source": [
      "$$Y = \u03b1 + \u03b2x + \u03b5$$ "
     ]
    },
    {
     "cell_type": "markdown",
     "metadata": {},
     "source": [
      "where Y is the outcome (response) variable and \u03b5 denotes the error term (also a random variable). It is the error terms that are assumed to be independent, not the values of the response variable. "
     ]
    },
    {
     "cell_type": "markdown",
     "metadata": {},
     "source": [
      "We do not know the values of the error terms $\u03b5$, so we can only plot the residuals $e_i$ (defined as the observed value $y_i$ minus the fitted value, according to the model), which approximate the error terms. "
     ]
    },
    {
     "cell_type": "markdown",
     "metadata": {},
     "source": [
      "how to [break them](http://www.basic.northwestern.edu/statguidefiles/linreg_ass_viol.html), some [Transformations](http://www.basic.northwestern.edu/statguidefiles/linreg_alts.html#Transformations) to meet them, and [Common Mistakes on Intepreting Regressions](https://www.ma.utexas.edu/users/mks/statmistakes/regressioncoeffs.html)"
     ]
    },
    {
     "cell_type": "markdown",
     "metadata": {},
     "source": [
      "![break](assets/theory.png)"
     ]
    },
    {
     "cell_type": "heading",
     "level": 2,
     "metadata": {},
     "source": [
      "Polynomial Regression\n"
     ]
    },
    {
     "cell_type": "markdown",
     "metadata": {},
     "source": [
      "Consider the following polynomial regression model"
     ]
    },
    {
     "cell_type": "markdown",
     "metadata": {},
     "source": [
      "$$y = \u03b1 + \u03b2_1x + \u03b2_2x^2 + \u03b5$$"
     ]
    },
    {
     "cell_type": "markdown",
     "metadata": {},
     "source": [
      "** Q: This represents a nonlinear relationship. Is it still a linear model?**\n",
      "\n",
      "A: Yes, because it\u2019s linear in the \u03b2's!"
     ]
    },
    {
     "cell_type": "markdown",
     "metadata": {},
     "source": [
      "> \u201cAlthough polynomial regression fits a nonlinear model to the data, as a statistical estimation problem it is linear, in the sense that the regression function E(y|x) is linear in the unknown parameters that are estimated from the data. For this reason, polynomial regression is considered to be a special case of multiple linear regression.\u201d\n",
      "\n",
      "<footer>~ Wikipedia</footer>\n"
     ]
    },
    {
     "cell_type": "markdown",
     "metadata": {},
     "source": [
      "Polynomial regression allows us to fit very complex\n",
      "curves to data."
     ]
    },
    {
     "cell_type": "markdown",
     "metadata": {},
     "source": [
      "$$y = \u03b1 + \u03b2_1x + \u03b2_2x^2 + ... + \u03b2_nx^n + \u03b5$$"
     ]
    },
    {
     "cell_type": "markdown",
     "metadata": {},
     "source": [
      "A very simple [visual reminder](http://stats.stackexchange.com/questions/58739/polynomial-regression-using-scikit-learn) of what it means to add polynomials to your design matrix. Code with plot explaining why you'd want to [use polynomials](http://scikit-learn.org/stable/auto_examples/linear_model/plot_polynomial_interpolation.html) in the first place. Numpy also provides a [module](http://docs.scipy.org/doc/numpy/reference/generated/numpy.polyfit.html) to directly deal with polynomials."
     ]
    },
    {
     "cell_type": "code",
     "collapsed": false,
     "input": [
      "print(__doc__)\n",
      "\n",
      "# Author: Mathieu Blondel\n",
      "#         Jake Vanderplas\n",
      "# License: BSD 3 clause\n",
      "\n",
      "import numpy as np\n",
      "import matplotlib.pyplot as plt\n",
      "\n",
      "from sklearn.linear_model import Ridge\n",
      "from sklearn.preprocessing import PolynomialFeatures\n",
      "from sklearn.pipeline import make_pipeline\n",
      "\n",
      "\n",
      "def f(x):\n",
      "    \"\"\" function to approximate by polynomial interpolation\"\"\"\n",
      "    return x * np.sin(x)\n",
      "\n",
      "\n",
      "# generate points used to plot\n",
      "x_plot = np.linspace(0, 10, 100)\n",
      "\n",
      "# generate points and keep a subset of them\n",
      "x = np.linspace(0, 10, 100)\n",
      "rng = np.random.RandomState(0)\n",
      "rng.shuffle(x)\n",
      "x = np.sort(x[:20])\n",
      "y = f(x)\n",
      "\n",
      "# create matrix versions of these arrays\n",
      "X = x[:, np.newaxis]\n",
      "X_plot = x_plot[:, np.newaxis]\n",
      "\n",
      "plt.plot(x_plot, f(x_plot), label=\"ground truth\")\n",
      "plt.scatter(x, y, label=\"training points\")\n",
      "\n",
      "for degree in [3, 4, 5]:\n",
      "    model = make_pipeline(PolynomialFeatures(degree), Ridge())\n",
      "    model.fit(X, y)\n",
      "    y_plot = model.predict(X_plot)\n",
      "    plt.plot(x_plot, y_plot, label=\"degree %d\" % degree)\n",
      "\n",
      "plt.legend(loc='lower left')\n",
      "\n",
      "plt.show()"
     ],
     "language": "python",
     "metadata": {},
     "outputs": [
      {
       "output_type": "stream",
       "stream": "stdout",
       "text": [
        "Automatically created module for IPython interactive environment\n"
       ]
      },
      {
       "metadata": {},
       "output_type": "display_data",
       "png": "iVBORw0KGgoAAAANSUhEUgAAAXkAAAEACAYAAABWLgY0AAAABHNCSVQICAgIfAhkiAAAAAlwSFlz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\nNlvgZqARAAAAAElFTkSuQmCC\n",
       "text": [
        "<matplotlib.figure.Figure at 0x7f6e3d342fd0>"
       ]
      }
     ],
     "prompt_number": 54
    },
    {
     "cell_type": "markdown",
     "metadata": {},
     "source": [
      "But there is one problem with the model we\u2019ve written\n",
      "down so far. This model violates one of the assumptions of linear regression!"
     ]
    },
    {
     "cell_type": "markdown",
     "metadata": {},
     "source": [
      "This model displays multicollinearity, which means the\n",
      "predictor variables are highly correlated with each other."
     ]
    },
    {
     "cell_type": "code",
     "collapsed": false,
     "input": [
      "np.arange?"
     ],
     "language": "python",
     "metadata": {},
     "outputs": [],
     "prompt_number": 55
    },
    {
     "cell_type": "code",
     "collapsed": false,
     "input": [
      "import numpy as np\n",
      "\n",
      "# numpy.arange: Return evenly spaced values within a given interval\n",
      "x = np.arange(1, 10, 0.1)\n",
      "\n",
      "# numpy.corrcoef: Return correlation coefficients\n",
      "np.corrcoef(x**9,x**10)[0][1]\n"
     ],
     "language": "python",
     "metadata": {},
     "outputs": [
      {
       "metadata": {},
       "output_type": "pyout",
       "prompt_number": 56,
       "text": [
        "0.9987609495377574"
       ]
      }
     ],
     "prompt_number": 56
    },
    {
     "cell_type": "heading",
     "level": 4,
     "metadata": {},
     "source": [
      "MultiColinearity"
     ]
    },
    {
     "cell_type": "markdown",
     "metadata": {},
     "source": [
      "Multicollinearity causes the linear regression model to break down, because it can\u2019t tell the predictor variables apart. This results in a singularity.\n",
      "\n",
      "[KL] Multicollinearity is a condition in which the IVs are very highly correlated (.90 or greater) and singularity is when the IVs are perfectly correlated and one IV is a combination of one or more of the other IVs.\n",
      "Ref: http://dss.wikidot.com/multicollinearity-and-singularity"
     ]
    },
    {
     "cell_type": "markdown",
     "metadata": {},
     "source": [
      "How can we deal with multicolinearity? Replace the correlated predictors with uncorrelated predictors.\n",
      "\n",
      "A simple [Standardization Technique](https://www.stat.fi/isi99/proceedings/arkisto/varasto/kim_0574.pdf) to deal with the MultiColinearity of Polynomials. This was implemented and covered in more detail in the [excercise/health example](https://onlinecourses.science.psu.edu/stat501/node/85). Another way is to use [Orthoganal Polynomials](http://dlmf.nist.gov/18.4) to deal with multicolinearity. Finally, an academic paper discussing how to [Minimize the Effects of Colinearity](ftp://ftp.bgu.ac.il/shacham/publ_papers/IandEC_36_4405_97.pdf)."
     ]
    },
    {
     "cell_type": "markdown",
     "metadata": {},
     "source": [
      "$$y = \u03b1 + \u03b2_1f_1(x) + \u03b2_2f_2(x^2) + ... + \u03b2_nf_n(x^n) + \u03b5$$"
     ]
    },
    {
     "cell_type": "markdown",
     "metadata": {},
     "source": [
      "![break](assets/theory.png)"
     ]
    },
    {
     "cell_type": "heading",
     "level": 2,
     "metadata": {},
     "source": [
      "Signs of Multicolinearity"
     ]
    },
    {
     "cell_type": "markdown",
     "metadata": {},
     "source": [
      "* A regression coefficient is not significant even though, theoretically, that variable should be highly correlated with Y.\n",
      "* When you add or delete an X variable, the regression coefficients change dramatically.\n",
      "* You see a negative regression coefficient when your response should increase along with X.\n",
      "* You see a positive regression coefficient when the response should decrease as X increases.\n",
      "* Your X variables have high pairwise correlations.\n"
     ]
    },
    {
     "cell_type": "markdown",
     "metadata": {},
     "source": [
      "Formally, we can check the tolerance values or `variance inflation ratio` (VIF) to investigate possible collinearity. We define the `tolerance` as 1 - R2 and `VIF` as 1/Tolerance.\n",
      "\n",
      "The less the tolerance\u2019s value, (or it is closer to zero, or < 0.1), the worse of the collinearity. This is conforms to the formula: as tolerance close to zero then R2 is closer to 1, meaning a stronger linear relation.\n",
      "\n",
      "It is not surprising, since VIF is the reciprocal of the tolerance, then the larger of the value of VIF, the worse the collinearity!\n",
      "\n",
      "Usually, if VIF is greater than 10 we should consider it a warning sign! Under the situation when there is collinearity, we may reasonably consider using only one of the correlated variables (ignore the other one, it does not matter which one to choose staying in the model). "
     ]
    },
    {
     "cell_type": "markdown",
     "metadata": {},
     "source": [
      "![break](assets/theory.png)"
     ]
    },
    {
     "cell_type": "heading",
     "level": 2,
     "metadata": {},
     "source": [
      "Regularization"
     ]
    },
    {
     "cell_type": "markdown",
     "metadata": {},
     "source": [
      "**Q: What\u2019s overfitting?**\n",
      "\n",
      "Overfitting occurs when a model matches the noise\n",
      "instead of the signal."
     ]
    },
    {
     "cell_type": "markdown",
     "metadata": {},
     "source": [
      "* **Noise**: Extra \u201ccruft\u201d that doesn\u2019t contribute to a readable\n",
      "prediction.\n",
      "* **Signal**: Clean, elegant interpretation of the data"
     ]
    },
    {
     "cell_type": "markdown",
     "metadata": {},
     "source": [
      "This happens when our model is too complex!"
     ]
    },
    {
     "cell_type": "markdown",
     "metadata": {},
     "source": [
      "#### Overfitting (Classification)\n",
      "![](assets/overfitting_classification.png) "
     ]
    },
    {
     "cell_type": "markdown",
     "metadata": {},
     "source": [
      "#### Overfitting (Regression)\n",
      "![](assets/overfitting_regression.jpg)\n"
     ]
    },
    {
     "cell_type": "markdown",
     "metadata": {},
     "source": [
      "**Q: How do we define the complexity of a regression\n",
      "model?**\n",
      "\n",
      "A: One method is to define **complexity** as a function of the size of the coefficients.\n",
      "\n",
      "$Ex1: \\lVert \\beta_i \\rVert_1 =  \\Sigma | \\beta_i |$ , this is called the **L1-norm**\n",
      "\n",
      "$Ex2:  \\lVert \\beta_i \\rVert_2 = \\Sigma \\beta_i^2 $$ $ , this is called the **L2-norm**\n"
     ]
    },
    {
     "cell_type": "markdown",
     "metadata": {},
     "source": [
      "These measures of complexity lead to the following\n",
      "regularization techniques:"
     ]
    },
    {
     "cell_type": "markdown",
     "metadata": {},
     "source": [
      "#### L1 regularization:\n",
      "$$y=\u03a3\u03b2_ix_i + \u03b5 \\quad st. \\quad \u03a3 | \u03b2_i | \\lt s$$\n",
      "    \n",
      "#### L2 regularization:\n",
      "$$y=\u03a3\u03b2_ix_i + \u03b5 \\quad st. \\quad \u03a3 \u03b2_i^2 \\lt s$$"
     ]
    },
    {
     "cell_type": "markdown",
     "metadata": {},
     "source": [
      "Regularization refers to the method of preventing\n",
      "overfitting by explicitly controlling model complexity."
     ]
    },
    {
     "cell_type": "markdown",
     "metadata": {},
     "source": [
      "These regularization problems can also be expressed as:"
     ]
    },
    {
     "cell_type": "markdown",
     "metadata": {},
     "source": [
      "#### L1 regularization:\n",
      "$$ min(\\lVert y - \u03b2x \\rVert^2 + \u03bb\\lVert \u03b2 \\rVert)$$\n",
      "    \n",
      "#### L2 regularization:\n",
      "$$ min(\\lVert y - \u03b2x \\rVert^2 + \u03bb\\lVert \u03b2 \\rVert^2)$$"
     ]
    },
    {
     "cell_type": "markdown",
     "metadata": {},
     "source": [
      "but more importantly, we can think about the use cases of these two more clearly this way:"
     ]
    },
    {
     "cell_type": "markdown",
     "metadata": {},
     "source": [
      "**L1 regularization**:  Used when we have small data but many features.\n",
      "\n",
      "**L2 regularization**: Used in just about all other cases."
     ]
    },
    {
     "cell_type": "markdown",
     "metadata": {},
     "source": [
      "This (Lagrangian) formulation reflects the fact that\n",
      "there is a cost associated with regularization."
     ]
    },
    {
     "cell_type": "markdown",
     "metadata": {},
     "source": [
      "Clear introduction to the [L-1 and L-2 Norms](http://rorasa.wordpress.com/2012/05/13/l0-norm-l1-norm-l2-norm-l-infinity-norm/)."
     ]
    },
    {
     "cell_type": "heading",
     "level": 3,
     "metadata": {},
     "source": [
      "Bias and Variance"
     ]
    },
    {
     "cell_type": "markdown",
     "metadata": {},
     "source": [
      "* **Bias** refers to predictions that are systematically\n",
      "inaccurate. \n",
      "* **Variance** refers to predictions that are generally\n",
      "inaccurate."
     ]
    },
    {
     "cell_type": "markdown",
     "metadata": {},
     "source": [
      "![](assets/bias_variance_darts.png)"
     ]
    },
    {
     "cell_type": "markdown",
     "metadata": {},
     "source": [
      "It turns out (after some math) that the generalization error in our model can be decomposed into a bias component and variance component."
     ]
    },
    {
     "cell_type": "markdown",
     "metadata": {},
     "source": [
      "#### This is another example of the bias-variance tradeoff."
     ]
    },
    {
     "cell_type": "markdown",
     "metadata": {},
     "source": [
      "![](assets/bias_variance_tradeoff.jpg)"
     ]
    },
    {
     "cell_type": "markdown",
     "metadata": {},
     "source": [
      "This tradeoff is regulated by a hyperparameter $\u03bb$, which we\u2019ve already seen:\n",
      "\n",
      "#### L1 regularization\n",
      "\n",
      "$$y=\u03a3\u03b2_ix_i + \u03b5 \\quad st. \\quad \u03a3 \\lVert \u03b2_i \\rVert \\lt \u03bb$$\n",
      "\n",
      "\n",
      "#### L2 regularization\n",
      "\n",
      "$$y=\u03a3\u03b2_ix_i + \u03b5 \\quad st. \\quad \u03a3 \\lVert \u03b2_i^2 \\rVert \\lt \u03bb$$\n",
      "\n",
      "We should take advantage of generalization to trade off variance in our data for bias in our fit, which will overall produce a clearer and better overall fit to our data!"
     ]
    },
    {
     "cell_type": "markdown",
     "metadata": {},
     "source": [
      "![break](assets/code.png)"
     ]
    },
    {
     "cell_type": "heading",
     "level": 2,
     "metadata": {},
     "source": [
      "Ordinary Least Squares & Ridge Regression"
     ]
    },
    {
     "cell_type": "markdown",
     "metadata": {},
     "source": [
      "* Practice using both the `LinearRegression` and `RidgeRegression` models in scikit-learn\n",
      "* Explore differences between a model using OLS (L1) and LLS (L2) regularization\n",
      "* Tear apart and understand how predictions get built in scikit learn\n"
     ]
    },
    {
     "cell_type": "code",
     "collapsed": false,
     "input": [
      "%matplotlib inline\n",
      "import pandas as pd\n",
      "import numpy as np\n",
      "import matplotlib.pyplot as plt\n",
      "\n",
      "# Set some Pandas options\n",
      "pd.set_option('max_columns', 30)\n",
      "pd.set_option('max_rows', 20)\n",
      "\n",
      "# Store data in a consistent place\n",
      "DATA_DIR = '../data/'"
     ],
     "language": "python",
     "metadata": {},
     "outputs": [],
     "prompt_number": 57
    },
    {
     "cell_type": "heading",
     "level": 3,
     "metadata": {},
     "source": [
      "More in depth understanding behind how scikit learn works"
     ]
    },
    {
     "cell_type": "markdown",
     "metadata": {},
     "source": [
      "Load up this script (using the same mammals set we glanced at before) and let's break down (and also break) what's going on with each line of code."
     ]
    },
    {
     "cell_type": "code",
     "collapsed": false,
     "input": [
      "from sklearn import linear_model\n",
      "\n",
      "mammals = pd.read_csv(DATA_DIR + 'mammals.csv')\n",
      "\n",
      "lm = linear_model.LinearRegression()\n",
      "log_lm = linear_model.LinearRegression()"
     ],
     "language": "python",
     "metadata": {},
     "outputs": [],
     "prompt_number": 58
    },
    {
     "cell_type": "code",
     "collapsed": false,
     "input": [
      "# sklearn.linear_model accept matrix, i.e. list in list, for x.\n",
      "# note that this format will be universal for n input variables.\n",
      "body = [ [x] for x in mammals['body'].values]\n",
      "\n",
      "brain = mammals['brain'].values"
     ],
     "language": "python",
     "metadata": {},
     "outputs": [],
     "prompt_number": 59
    },
    {
     "cell_type": "code",
     "collapsed": false,
     "input": [
      "log_body = [ [x] for x in np.log(mammals['body'].values)]\n",
      "log_brain = np.log(mammals['brain'].values)"
     ],
     "language": "python",
     "metadata": {},
     "outputs": [],
     "prompt_number": 60
    },
    {
     "cell_type": "code",
     "collapsed": false,
     "input": [
      "lm.fit(body, brain)"
     ],
     "language": "python",
     "metadata": {},
     "outputs": [
      {
       "metadata": {},
       "output_type": "pyout",
       "prompt_number": 61,
       "text": [
        "LinearRegression(copy_X=True, fit_intercept=True, normalize=False)"
       ]
      }
     ],
     "prompt_number": 61
    },
    {
     "cell_type": "code",
     "collapsed": false,
     "input": [
      "log_lm.fit(log_body, log_brain)"
     ],
     "language": "python",
     "metadata": {},
     "outputs": [
      {
       "metadata": {},
       "output_type": "pyout",
       "prompt_number": 62,
       "text": [
        "LinearRegression(copy_X=True, fit_intercept=True, normalize=False)"
       ]
      }
     ],
     "prompt_number": 62
    },
    {
     "cell_type": "markdown",
     "metadata": {},
     "source": [
      "We can observe various features about our linear models that we've discussed in lecture."
     ]
    },
    {
     "cell_type": "heading",
     "level": 4,
     "metadata": {},
     "source": [
      "Find the intercept"
     ]
    },
    {
     "cell_type": "markdown",
     "metadata": {},
     "source": [
      "Note we can set to train for an intercept with `set_params()`"
     ]
    },
    {
     "cell_type": "code",
     "collapsed": false,
     "input": [
      "lm.intercept_"
     ],
     "language": "python",
     "metadata": {},
     "outputs": [
      {
       "metadata": {},
       "output_type": "pyout",
       "prompt_number": 63,
       "text": [
        "91.004396207406785"
       ]
      }
     ],
     "prompt_number": 63
    },
    {
     "cell_type": "code",
     "collapsed": false,
     "input": [
      "log_lm.intercept_"
     ],
     "language": "python",
     "metadata": {},
     "outputs": [
      {
       "metadata": {},
       "output_type": "pyout",
       "prompt_number": 64,
       "text": [
        "2.1347886767646367"
       ]
      }
     ],
     "prompt_number": 64
    },
    {
     "cell_type": "heading",
     "level": 4,
     "metadata": {},
     "source": [
      "Print out the predictions for a given matrix"
     ]
    },
    {
     "cell_type": "markdown",
     "metadata": {},
     "source": [
      "needs to fit the same dimensional space as the data we fit"
     ]
    },
    {
     "cell_type": "code",
     "collapsed": false,
     "input": [
      "lm.predict(body)\n",
      "mammals['predict'] = lm.predict(body)\n",
      "mammals['predict']"
     ],
     "language": "python",
     "metadata": {},
     "outputs": [
      {
       "metadata": {},
       "output_type": "pyout",
       "prompt_number": 65,
       "text": [
        "0     94.275986\n",
        "1     91.468314\n",
        "2     92.309166\n",
        "3    540.425207\n",
        "4    126.117209\n",
        "5    117.737686\n",
        "6    105.337537\n",
        "7     92.009552\n",
        "...\n",
        "54     91.050788\n",
        "55    276.571699\n",
        "56     93.903885\n",
        "57    245.643815\n",
        "58     91.874243\n",
        "59     92.570120\n",
        "60     91.104912\n",
        "61     95.097508\n",
        "Name: predict, Length: 62, dtype: float64"
       ]
      }
     ],
     "prompt_number": 65
    },
    {
     "cell_type": "code",
     "collapsed": false,
     "input": [
      "log_lm.predict(log_body)\n",
      "mammals['log_predict'] = np.exp(log_lm.predict(log_body))\n",
      "mammals['log_predict']"
     ],
     "language": "python",
     "metadata": {},
     "outputs": [
      {
       "metadata": {},
       "output_type": "pyout",
       "prompt_number": 66,
       "text": [
        "0     21.144078\n",
        "1      4.869905\n",
        "2     10.594903\n",
        "3    855.487784\n",
        "4    125.879932\n",
        "5    102.552664\n",
        "6     64.188507\n",
        "7      8.708245\n",
        "...\n",
        "54      0.862650\n",
        "55    439.999684\n",
        "56     19.309556\n",
        "57    383.647997\n",
        "58      7.811450\n",
        "59     12.151123\n",
        "60      1.542569\n",
        "61     25.022105\n",
        "Name: log_predict, Length: 62, dtype: float64"
       ]
      }
     ],
     "prompt_number": 66
    },
    {
     "cell_type": "code",
     "collapsed": false,
     "input": [
      "mammals.head()"
     ],
     "language": "python",
     "metadata": {},
     "outputs": [
      {
       "html": [
        "<div style=\"max-height:1000px;max-width:1500px;overflow:auto;\">\n",
        "<table border=\"1\" class=\"dataframe\">\n",
        "  <thead>\n",
        "    <tr style=\"text-align: right;\">\n",
        "      <th></th>\n",
        "      <th>Name</th>\n",
        "      <th>body</th>\n",
        "      <th>brain</th>\n",
        "      <th>predict</th>\n",
        "      <th>log_predict</th>\n",
        "    </tr>\n",
        "  </thead>\n",
        "  <tbody>\n",
        "    <tr>\n",
        "      <th>0</th>\n",
        "      <td>      Arctic fox</td>\n",
        "      <td>   3.385</td>\n",
        "      <td>  44.5</td>\n",
        "      <td>  94.275986</td>\n",
        "      <td>  21.144078</td>\n",
        "    </tr>\n",
        "    <tr>\n",
        "      <th>1</th>\n",
        "      <td>      Owl monkey</td>\n",
        "      <td>   0.480</td>\n",
        "      <td>  15.5</td>\n",
        "      <td>  91.468314</td>\n",
        "      <td>   4.869905</td>\n",
        "    </tr>\n",
        "    <tr>\n",
        "      <th>2</th>\n",
        "      <td> Mountain beaver</td>\n",
        "      <td>   1.350</td>\n",
        "      <td>   8.1</td>\n",
        "      <td>  92.309166</td>\n",
        "      <td>  10.594903</td>\n",
        "    </tr>\n",
        "    <tr>\n",
        "      <th>3</th>\n",
        "      <td>             Cow</td>\n",
        "      <td> 465.000</td>\n",
        "      <td> 423.0</td>\n",
        "      <td> 540.425207</td>\n",
        "      <td> 855.487784</td>\n",
        "    </tr>\n",
        "    <tr>\n",
        "      <th>4</th>\n",
        "      <td>       Grey wolf</td>\n",
        "      <td>  36.330</td>\n",
        "      <td> 119.5</td>\n",
        "      <td> 126.117209</td>\n",
        "      <td> 125.879932</td>\n",
        "    </tr>\n",
        "  </tbody>\n",
        "</table>\n",
        "</div>"
       ],
       "metadata": {},
       "output_type": "pyout",
       "prompt_number": 67,
       "text": [
        "              Name     body  brain     predict  log_predict\n",
        "0       Arctic fox    3.385   44.5   94.275986    21.144078\n",
        "1       Owl monkey    0.480   15.5   91.468314     4.869905\n",
        "2  Mountain beaver    1.350    8.1   92.309166    10.594903\n",
        "3              Cow  465.000  423.0  540.425207   855.487784\n",
        "4        Grey wolf   36.330  119.5  126.117209   125.879932"
       ]
      }
     ],
     "prompt_number": 67
    },
    {
     "cell_type": "heading",
     "level": 3,
     "metadata": {},
     "source": [
      "Scipy.stats"
     ]
    },
    {
     "cell_type": "markdown",
     "metadata": {},
     "source": [
      "Sometimes you also want to find some elementary statistics"
     ]
    },
    {
     "cell_type": "code",
     "collapsed": false,
     "input": [
      "pylab.plot?"
     ],
     "language": "python",
     "metadata": {},
     "outputs": [],
     "prompt_number": 70
    },
    {
     "cell_type": "code",
     "collapsed": false,
     "input": [
      "from numpy import arange,array,ones#,random,linalg\n",
      "from pylab import plot,show\n",
      "from scipy import stats\n",
      "\n",
      "xi = arange(0,9)\n",
      "A = array([ xi, ones(9)])\n",
      "# linearly generated sequence\n",
      "y = [19, 20, 20.5, 21.5, 22, 23, 23, 25.5, 24]\n",
      "slope, intercept, r_value, p_value, std_err = stats.linregress(xi,y)\n",
      "\n",
      "# H0\n",
      "print 'response mean', np.mean(y)\n",
      "\n",
      "# Standard Deviation of Y\n",
      "print 'standard Deviation of Y', np.std(y)\n",
      "\n",
      "# Coefficient of Determination\n",
      "print 'r-squared value', r_value**2\n",
      "\n",
      "# Is the statistic significant?\n",
      "print 'p_value', p_value\n",
      "\n",
      "print 'standard deviation of error terms', std_err\n",
      "\n",
      "line = slope*xi+intercept\n",
      "\n",
      "# plot 2 datasets: 1. xi Vs line, red, solid line; \n",
      "#                  2. xi Vs y, using circls with default color\n",
      "plot(xi,line,'r-',xi,y,'o')\n",
      "\n",
      "show()\n"
     ],
     "language": "python",
     "metadata": {},
     "outputs": [
      {
       "output_type": "stream",
       "stream": "stdout",
       "text": [
        "response mean 22.0555555556\n",
        "standard Deviation of Y 1.93569459891\n",
        "r-squared value 0.913838550247\n",
        "p_value 5.65761249232e-05\n",
        "standard deviation of error terms 0.0831744517144\n"
       ]
      },
      {
       "metadata": {},
       "output_type": "display_data",
       "png": "iVBORw0KGgoAAAANSUhEUgAAAW8AAAEACAYAAAB8nvebAAAABHNCSVQICAgIfAhkiAAAAAlwSFlz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\nAABJRU5ErkJggg==\n",
       "text": [
        "<matplotlib.figure.Figure at 0x7f6e6b476ed0>"
       ]
      }
     ],
     "prompt_number": 71
    },
    {
     "cell_type": "heading",
     "level": 3,
     "metadata": {},
     "source": [
      "Practice: Plotting Predictions"
     ]
    },
    {
     "cell_type": "markdown",
     "metadata": {},
     "source": [
      "Since pyplot plots _discretely_ (and not continuously), if we want an accurate representation of any transformed plot (particularly for polynomial data), we need to sort our data frame by the response value. We can either do this before fitting a model (with the actual response) or post-fit (with the predicted response)."
     ]
    },
    {
     "cell_type": "code",
     "collapsed": false,
     "input": [
      "# Sort by response:\n",
      "mammals = mammals.sort('brain')"
     ],
     "language": "python",
     "metadata": {},
     "outputs": [],
     "prompt_number": 72
    },
    {
     "cell_type": "code",
     "collapsed": false,
     "input": [
      "# Sort by prediction:\n",
      "mammals_log_sort = mammals.sort('log_predict')\n",
      "\n",
      "plot(xi,line,'r-',xi,y,'o')\n",
      "show()"
     ],
     "language": "python",
     "metadata": {},
     "outputs": [
      {
       "metadata": {},
       "output_type": "display_data",
       "png": "iVBORw0KGgoAAAANSUhEUgAAAW8AAAEACAYAAAB8nvebAAAABHNCSVQICAgIfAhkiAAAAAlwSFlz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\nAABJRU5ErkJggg==\n",
       "text": [
        "<matplotlib.figure.Figure at 0x7f6e437c7510>"
       ]
      }
     ],
     "prompt_number": 73
    },
    {
     "cell_type": "markdown",
     "metadata": {},
     "source": [
      "Otherwise, use plt.scatter and plt.plot as we know how to use them."
     ]
    },
    {
     "cell_type": "heading",
     "level": 3,
     "metadata": {},
     "source": [
      "Polynominal regressions"
     ]
    },
    {
     "cell_type": "markdown",
     "metadata": {},
     "source": [
      "Likewise, polynomial regressions can work as new inputs constructed from our data:"
     ]
    },
    {
     "cell_type": "code",
     "collapsed": false,
     "input": [
      "mammals['body_squared'] = mammals['body'] ** 2\n",
      "\n",
      "# note: zip returns tuples, while the list apprehension is \"list in list\"\n",
      "body_squared = [ [x, y] for x,y in zip(mammals['body'].values, \\\n",
      "                                       mammals['body_squared'].values)]"
     ],
     "language": "python",
     "metadata": {},
     "outputs": [],
     "prompt_number": 77
    },
    {
     "cell_type": "code",
     "collapsed": false,
     "input": [
      "# OR\n",
      "body_squared = [ [x, y] for x,y in zip(mammals['body'].values, (mammals['body'].values)**2)]"
     ],
     "language": "python",
     "metadata": {},
     "outputs": [],
     "prompt_number": 45
    },
    {
     "cell_type": "markdown",
     "metadata": {},
     "source": [
      "The LinearRegression model in scikit learn uses L1-Normalization. Let's check out a Ridge Regression, which uses L2."
     ]
    },
    {
     "cell_type": "code",
     "collapsed": false,
     "input": [
      "results = []\n",
      "for alpha in range(1,10):\n",
      "    ridge = linear_model.Ridge(alpha=alpha)\n",
      "    ridge.fit(body_squared, brain)\n",
      "    score = ridge.score(body_squared, brain)\n",
      "    results.append((alpha, score))"
     ],
     "language": "python",
     "metadata": {},
     "outputs": [],
     "prompt_number": 81
    },
    {
     "cell_type": "code",
     "collapsed": false,
     "input": [
      "results"
     ],
     "language": "python",
     "metadata": {},
     "outputs": [
      {
       "metadata": {},
       "output_type": "pyout",
       "prompt_number": 84,
       "text": [
        "[(1, 0.0079820508740743312),\n",
        " (2, 0.0079820508740723328),\n",
        " (3, 0.007982050874068447),\n",
        " (4, 0.007982050874063451),\n",
        " (5, 0.0079820508740571228),\n",
        " (6, 0.0079820508740490181),\n",
        " (7, 0.0079820508740395812),\n",
        " (8, 0.0079820508740287011),\n",
        " (9, 0.0079820508740163776)]"
       ]
      }
     ],
     "prompt_number": 84
    },
    {
     "cell_type": "markdown",
     "metadata": {},
     "source": [
      "Check the coefficients and the intercept. and we can verify the results of ridge.predict() against handwriting the full regression:"
     ]
    },
    {
     "cell_type": "code",
     "collapsed": false,
     "input": [
      "((ridge.coef_[1] * mammals['body'])**2) + ((ridge.coef_[0] * mammals['body'])) + ridge.intercept_"
     ],
     "language": "python",
     "metadata": {},
     "outputs": [
      {
       "metadata": {},
       "output_type": "pyout",
       "prompt_number": 82,
       "text": [
        "13    312.246930\n",
        "39    312.245236\n",
        "19    312.240832\n",
        "54    312.232362\n",
        "38    312.240832\n",
        "14    312.228297\n",
        "37    312.207971\n",
        "52    312.223215\n",
        "...\n",
        "3      154.719402\n",
        "45     294.578204\n",
        "41     227.555381\n",
        "21     135.748202\n",
        "27     133.038032\n",
        "31     291.244675\n",
        "18    -550.593866\n",
        "32   -1941.857386\n",
        "Name: body, Length: 62, dtype: float64"
       ]
      }
     ],
     "prompt_number": 82
    },
    {
     "cell_type": "heading",
     "level": 2,
     "metadata": {},
     "source": [
      "Classwork"
     ]
    },
    {
     "cell_type": "markdown",
     "metadata": {},
     "source": [
      "Work through the following datasets, determining best fits for each data set (predictor value/y value in parens). To better evaluate or improve this process, try including:"
     ]
    },
    {
     "cell_type": "code",
     "collapsed": false,
     "input": [
      "from sklearn import feature_selection\n",
      "\n",
      "def f_regression_feature_selection(input, response):    \n",
      "    return feature_selection.univariate_selection.f_regression(input, response)    "
     ],
     "language": "python",
     "metadata": {},
     "outputs": [],
     "prompt_number": 59
    },
    {
     "cell_type": "markdown",
     "metadata": {},
     "source": [
      "and using this against your feature matrix to determine p-values for each feature (we care about the second array it returns for now).\n",
      "\n",
      "[KL] reference that explains meaning of p-value in feature selection: http://stackoverflow.com/questions/23677734/whats-the-meaning-of-p-values-which-produced-by-feature-selection-i-e-chi2-me"
     ]
    },
    {
     "cell_type": "heading",
     "level": 3,
     "metadata": {},
     "source": [
      "Datasets"
     ]
    },
    {
     "cell_type": "markdown",
     "metadata": {},
     "source": [
      "* [Predicting stopping distance](https://gist.github.com/tijptjik/03305bc2d75cda183439 )\n",
      "* [Predicting City and Highway MPG.](https://gist.github.com/tijptjik/3746ac7c1f0ec6953ed7 )"
     ]
    },
    {
     "cell_type": "code",
     "collapsed": false,
     "input": [
      "!curl https://gist.githubusercontent.com/tijptjik/03305bc2d75cda183439/raw/5d0acdb9dc7a5b39d057c837ec650dd09c4e9b36/cars1920.csv >  ../data/cars1920.csv"
     ],
     "language": "python",
     "metadata": {},
     "outputs": [
      {
       "output_type": "stream",
       "stream": "stdout",
       "text": [
        "  % Total    % Received % Xferd  Average Speed   Time    Time     Time  Current\r\n",
        "                                 Dload  Upload   Total   Spent    Left  Speed\r\n",
        "\r",
        "  0     0    0     0    0     0      0      0 --:--:-- --:--:-- --:--:--     0"
       ]
      },
      {
       "output_type": "stream",
       "stream": "stdout",
       "text": [
        "\r",
        "  0     0  "
       ]
      },
      {
       "output_type": "stream",
       "stream": "stdout",
       "text": [
        "  0     0    0     0      0      0 --:--:--  0:00:01 --:--:--     0"
       ]
      },
      {
       "output_type": "stream",
       "stream": "stdout",
       "text": [
        "\r",
        "  0     0    0     0    0     0      0      0 --:--:--  0:00:02 --:--:--     0"
       ]
      },
      {
       "output_type": "stream",
       "stream": "stdout",
       "text": [
        "\r",
        "  0     0    0     0    0     0      0      0 --:--:--  0:00:03 --:--:--     0"
       ]
      },
      {
       "output_type": "stream",
       "stream": "stdout",
       "text": [
        "\r",
        "  0     0    0     0    0     0      0      0 --:--:--  0:00:04 --:--:--     0"
       ]
      },
      {
       "output_type": "stream",
       "stream": "stdout",
       "text": [
        "\r",
        "  0     0    0     0    0     0      0      0 --:--:--  0:00:05 --:--:--     0"
       ]
      },
      {
       "output_type": "stream",
       "stream": "stdout",
       "text": [
        "\r",
        "100   308  100   308    0     0     50      0  0:00:06  0:00:06 --:--:--    70\r\n"
       ]
      }
     ],
     "prompt_number": 85
    },
    {
     "cell_type": "code",
     "collapsed": false,
     "input": [
      "!curl https://gist.githubusercontent.com/tijptjik/3746ac7c1f0ec6953ed7/raw/6561674a1c1edff3b7f78fcce326df5c72bf402e/cars93.csv >  ../data/cars93.csv"
     ],
     "language": "python",
     "metadata": {},
     "outputs": [
      {
       "output_type": "stream",
       "stream": "stdout",
       "text": [
        "  % Total    % Received % Xferd  Average Speed   Time    Time     Time  Current\r\n",
        "                                 Dload  Upload   Total   Spent    Left  Speed\r\n",
        "\r",
        "  0     0    0     0    0     0      0      0 --:--:-- --:--:-- --:--:--     0"
       ]
      },
      {
       "output_type": "stream",
       "stream": "stdout",
       "text": [
        "\r",
        "  0     0    0     0    0     0      0      0 --:--:--  0:00:01 --:--:--     0"
       ]
      },
      {
       "output_type": "stream",
       "stream": "stdout",
       "text": [
        "\r",
        "  0     0    0     0    0     0      0      0 --:--:--  0:00:02 --:--:--     0"
       ]
      },
      {
       "output_type": "stream",
       "stream": "stdout",
       "text": [
        "\r",
        "  0     0    0     0    0     0      0      0 --:--:--  0:00:03 --:--:--     0"
       ]
      },
      {
       "output_type": "stream",
       "stream": "stdout",
       "text": [
        "\r",
        "  0     0    0     0    0     0      0      0 --:--:--  0:00:04 --:--:--     0"
       ]
      },
      {
       "output_type": "stream",
       "stream": "stdout",
       "text": [
        "\r",
        "  0"
       ]
      },
      {
       "output_type": "stream",
       "stream": "stdout",
       "text": [
        "     0    0     0    0     0      0      0 --:--:--  0:00:05 --:--:--     0"
       ]
      },
      {
       "output_type": "stream",
       "stream": "stdout",
       "text": [
        "\r",
        "100 14410  100 14410    0     0   2532      0  0:00:05  0:00:05 --:--:--  3461\r\n"
       ]
      }
     ],
     "prompt_number": 87
    },
    {
     "cell_type": "heading",
     "level": 3,
     "metadata": {},
     "source": [
      "Tips"
     ]
    },
    {
     "cell_type": "markdown",
     "metadata": {},
     "source": [
      "If your data isn't a good fit, what are some things you might try?\n",
      "\n",
      "1. Increase the number of training points N. This might give us a training set with more coverage, and lead to greater accuracy.\n",
      "1. Increase the degree d of the polynomial. This might allow us to more closely fit the training data, and lead to a better result\n",
      "1. Add more features. If we were to, for example, perform a linear regression using x, x\u221a, x\u22121, or other functions, we might hit on a functional form which can better be mapped to the value of y.\n"
     ]
    },
    {
     "cell_type": "markdown",
     "metadata": {},
     "source": [
      "![break](assets/resources.png)"
     ]
    },
    {
     "cell_type": "heading",
     "level": 2,
     "metadata": {},
     "source": [
      "Resources"
     ]
    },
    {
     "cell_type": "heading",
     "level": 4,
     "metadata": {},
     "source": [
      "Handbooks"
     ]
    },
    {
     "cell_type": "markdown",
     "metadata": {},
     "source": [
      "* [Regression Analysis by Example](http://type.hk:2551/calibre/browse/book/294) (**Chapter 3 - 4**) - Samprit Chatterjee"
     ]
    },
    {
     "cell_type": "heading",
     "level": 4,
     "metadata": {},
     "source": [
      "Articles"
     ]
    },
    {
     "cell_type": "markdown",
     "metadata": {},
     "source": [
      "* [Introduction to Regression](http://dss.princeton.edu/online_help/analysis/regression_intro.htm)\n",
      "* [Good Regression Overview](http://www.stat.purdue.edu/~jennings/stat514/stat512notes/topic3.pdf)\n",
      "* [Introduction to Multivariate Regression](http://www.apec.umn.edu/grad/jdiaz/IntroductiontoRegression.pdf)\n",
      "* [OSL in Matrix Form](http://www.stanford.edu/~mrosenfe/soc_meth_proj3/matrix_OLS_NYU_notes.pdf)\n",
      "* [Regression with Gradient Descent Function](https://github.com/KartikTalwar/OnlineCourses/blob/master/Stanford%20University/Machine%20Learning/02.%20Linear%20Regression%20with%20One%20Variable.md#cost-function)\n",
      "* [Multicollinearity and Singularity](http://dss.wikidot.com/multicollinearity-and-singularity)\n",
      "* [Multivariate Linear Regression Models](http://www.public.iastate.edu/~maitra/stat501/lectures/MultivariateRegression.pdf)\n",
      "* [Orthogonal Polynomials](https://www.cs.iastate.edu/~cs577/handouts/orthogonal-polys.pdf)\n",
      "* [Orthogonal Functions & Expansions](http://web.hep.uiuc.edu/home/serrede/P435/Lecture_Notes/P435_Supp_HO_01.pdf)\n",
      "* [The Analytic Theory of Matrix Orthogonal Polynomials](http://www.emis.de/journals/SAT/papers/11/11.pdf)\n",
      "* [Transfomations](http://www.biostat.jhsph.edu/~iruczins/teaching/jf/ch8.pdf)\n",
      "* [Regularization with Ridge penalties, the Lasso, and the Elastic Net for Regression with Optimal Scaling Transformations](https://openaccess.leidenuniv.nl/bitstream/handle/1887/12096/04.pdf?sequence=18)\n",
      "* [Cost Minimization Problem w/ Lagrangian](http://www.youtube.com/watch?v=PlZ0Mgu-9RY)\n",
      "* [Vector And Matrix Norms](http://www-solar.mcs.st-andrews.ac.uk/~clare/Lectures/num-analysis/Numan_chap1.pdf)\n",
      "* [Introduction to Multicolinearity](https://onlinecourses.science.psu.edu/stat501/node/79)\n",
      "* [Multicolinearity](http://www.chsbs.cmich.edu/fattah/courses/empirical/multicollinearity.html)\n",
      "* [Testing the assumptions of linear regression](http://people.duke.edu/~rnau/testing.htm)\n",
      "* [Multicolinearity](http://en.wikipedia.org/wiki/Multicollinearity)"
     ]
    }
   ],
   "metadata": {}
  }
 ]
}