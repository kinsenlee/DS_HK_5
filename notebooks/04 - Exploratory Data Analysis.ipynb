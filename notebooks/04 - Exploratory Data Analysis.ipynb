{
 "metadata": {
  "name": "",
  "signature": "sha256:70dfabc7197856676327f28899f45209be58c2cb96d241867ac670f8a9c599dd"
 },
 "nbformat": 3,
 "nbformat_minor": 0,
 "worksheets": [
  {
   "cells": [
    {
     "cell_type": "code",
     "collapsed": false,
     "input": [
      "%%javascript\n",
      "\n",
      "window.load_remote_theme = false\n",
      "var theme_url = \"https://drostehk.github.io/ipynb-theme/\";\n",
      "var asset_url = 'https://raw.githubusercontent.com/tijptjik/DS_assets/master/';\n",
      "\n",
      "window.load_local_theme = function(){\n",
      "    var hostname = document.location.hostname\n",
      "    return ((hostname == \"localhost\" || hostname == '127.0.0.1') && !load_remote_theme)\n",
      "}\n",
      "\n",
      "var url = load_local_theme() ? document.location.origin + \"/files/theme/custom.js\" : theme_url + 'custom.js'\n",
      "\n",
      "$.getScript(url)"
     ],
     "language": "python",
     "metadata": {},
     "outputs": [
      {
       "javascript": [
        "\n",
        "window.load_remote_theme = false\n",
        "var theme_url = \"https://drostehk.github.io/ipynb-theme/\";\n",
        "var asset_url = 'https://raw.githubusercontent.com/tijptjik/DS_assets/master/';\n",
        "\n",
        "window.load_local_theme = function(){\n",
        "    var hostname = document.location.hostname\n",
        "    return ((hostname == \"localhost\" || hostname == '127.0.0.1') && !load_remote_theme)\n",
        "}\n",
        "\n",
        "var url = load_local_theme() ? document.location.origin + \"/files/theme/custom.js\" : theme_url + 'custom.js'\n",
        "\n",
        "$.getScript(url)"
       ],
       "metadata": {},
       "output_type": "display_data",
       "text": [
        "<IPython.core.display.Javascript at 0x7f43e589a6d0>"
       ]
      }
     ],
     "prompt_number": 1
    },
    {
     "cell_type": "markdown",
     "metadata": {},
     "source": [
      "# Exploratory Data Analysis"
     ]
    },
    {
     "cell_type": "markdown",
     "metadata": {},
     "source": [
      "> Doing statistics is like doing crosswords except that one cannot know for sure whether one has found the solution.\n",
      "\n",
      "<footer>~  John W. Tukey</footer>"
     ]
    },
    {
     "cell_type": "markdown",
     "metadata": {},
     "source": [
      "![break](assets/agenda.png)"
     ]
    },
    {
     "cell_type": "markdown",
     "metadata": {},
     "source": [
      "### Agenda\n",
      "\n",
      "* Deal with Missing Data\n",
      "* Explore Data by Visualisations\n",
      "\n",
      "### Labs"
     ]
    },
    {
     "cell_type": "markdown",
     "metadata": {},
     "source": [
      "![break](assets/theory.png)"
     ]
    },
    {
     "cell_type": "heading",
     "level": 2,
     "metadata": {},
     "source": [
      "The Goals of Exploratory Data Analysis"
     ]
    },
    {
     "cell_type": "markdown",
     "metadata": {},
     "source": [
      "1. Summarize the main characteristics of datasets with Summary Statistics (Initial Data Analysis)\n",
      "1. Visually inspect the structure and nature of the data\n",
      "1. Find what the data can tell us beyond the formal modeling or hypothesis testing task."
     ]
    },
    {
     "cell_type": "markdown",
     "metadata": {},
     "source": [
      "### Let the visuals speak to you"
     ]
    },
    {
     "cell_type": "markdown",
     "metadata": {},
     "source": [
      "Always explore your data visually. Whatever specific hypothesis you have when you go out to collect data is likely to be worse than any of the hypotheses you\u2019ll form after looking at just a few simple visualizations of that data."
     ]
    },
    {
     "cell_type": "heading",
     "level": 4,
     "metadata": {},
     "source": [
      "Install a the `ggplot` visualition library"
     ]
    },
    {
     "cell_type": "code",
     "collapsed": false,
     "input": [
      "!pip install ggplot"
     ],
     "language": "python",
     "metadata": {},
     "outputs": [
      {
       "output_type": "stream",
       "stream": "stdout",
       "text": [
        "Requirement already satisfied (use --upgrade to upgrade): ggplot in /usr/local/lib/python2.7/dist-packages\r\n",
        "Requirement already satisfied (use --upgrade to upgrade): six in /usr/local/lib/python2.7/dist-packages (from ggplot)\r\n",
        "Requirement already satisfied (use --upgrade to upgrade): statsmodels in /usr/local/lib/python2.7/dist-packages (from ggplot)\r\n",
        "Requirement already satisfied (use --upgrade to upgrade): brewer2mpl in /usr/local/lib/python2.7/dist-packages (from ggplot)\r\n",
        "Requirement already satisfied (use --upgrade to upgrade): matplotlib in /usr/lib/pymodules/python2.7 (from ggplot)\r\n",
        "Requirement already satisfied (use --upgrade to upgrade): scipy in /usr/lib/python2.7/dist-packages (from ggplot)\r\n",
        "Requirement already satisfied (use --upgrade to upgrade): patsy in /usr/local/lib/python2.7/dist-packages (from ggplot)\r\n",
        "Requirement already satisfied (use --upgrade to upgrade): pandas in /usr/local/lib/python2.7/dist-packages (from ggplot)\r\n",
        "Requirement already satisfied (use --upgrade to upgrade): numpy in /usr/local/lib/python2.7/dist-packages (from ggplot)\r\n",
        "Requirement already satisfied (use --upgrade to upgrade): python-dateutil in /usr/local/lib/python2.7/dist-packages (from matplotlib->ggplot)\r\n",
        "Requirement already satisfied (use --upgrade to upgrade): tornado in /usr/local/lib/python2.7/dist-packages (from matplotlib->ggplot)\r\n",
        "Requirement already satisfied (use --upgrade to upgrade): pyparsing>=1.5.6 in /usr/lib/python2.7/dist-packages (from matplotlib->ggplot)\r\n",
        "Requirement already satisfied (use --upgrade to upgrade): nose in /usr/local/lib/python2.7/dist-packages (from matplotlib->ggplot)\r\n",
        "Requirement already satisfied (use --upgrade to upgrade): pytz>=2011k in /usr/local/lib/python2.7/dist-packages (from pandas->ggplot)\r\n",
        "Requirement already satisfied (use --upgrade to upgrade): certifi in /usr/local/lib/python2.7/dist-packages (from tornado->matplotlib->ggplot)\r\n",
        "Requirement already satisfied (use --upgrade to upgrade): backports.ssl-match-hostname in /usr/local/lib/python2.7/dist-packages (from tornado->matplotlib->ggplot)\r\n",
        "Cleaning up...\r\n"
       ]
      }
     ],
     "prompt_number": 45
    },
    {
     "cell_type": "heading",
     "level": 4,
     "metadata": {},
     "source": [
      "Load `ggplot` and plot graphs inline"
     ]
    },
    {
     "cell_type": "code",
     "collapsed": false,
     "input": [
      "from ggplot import *\n",
      "import pandas as pd\n",
      "\n",
      "%matplotlib inline"
     ],
     "language": "python",
     "metadata": {},
     "outputs": [],
     "prompt_number": 47
    },
    {
     "cell_type": "heading",
     "level": 3,
     "metadata": {},
     "source": [
      "How are zipcodes distributed in the US?"
     ]
    },
    {
     "cell_type": "code",
     "collapsed": false,
     "input": [
      "zipcodes = pd.read_csv(\"../data/zipcodes.csv\")\n",
      "zipcodes.head()"
     ],
     "language": "python",
     "metadata": {},
     "outputs": []
    },
    {
     "cell_type": "code",
     "collapsed": false,
     "input": [
      "p = ggplot(zipcodes, aes(x='zip', y='latitude', size='longitude')) +\\\n",
      "geom_point() + ggtitle('Latitude-longitude Scatterplots')\n",
      "\n",
      "p"
     ],
     "language": "python",
     "metadata": {},
     "outputs": []
    },
    {
     "cell_type": "code",
     "collapsed": false,
     "input": [
      "ggplot(zipcodes, aes(x = 'zip', y = 'latitude')) + \\\n",
      "    geom_point() + \\\n",
      "    ggtitle(\"(Latitude, Zipcode) Scatterplot\")"
     ],
     "language": "python",
     "metadata": {},
     "outputs": [
      {
       "metadata": {},
       "output_type": "display_data",
       "png": "[encoded data removed]",
       "text": [
        "<matplotlib.figure.Figure at 0x7f43d3e940d0>"
       ]
      },
      {
       "metadata": {},
       "output_type": "pyout",
       "prompt_number": 6,
       "text": [
        "<ggplot: (8745599408737)>"
       ]
      }
     ],
     "prompt_number": 6
    },
    {
     "cell_type": "code",
     "collapsed": false,
     "input": [
      "ggplot(zipcodes, aes(x = 'zip', y = 'longitude')) + \\\n",
      "    geom_point() + \\\n",
      "    ggtitle(\"(Longitude, Zipcode) Scatterplot\")"
     ],
     "language": "python",
     "metadata": {},
     "outputs": [
      {
       "metadata": {},
       "output_type": "display_data",
       "png": "[encoded data removed]",
       "text": [
        "<matplotlib.figure.Figure at 0x7f43d25a1bd0>"
       ]
      },
      {
       "metadata": {},
       "output_type": "pyout",
       "prompt_number": 7,
       "text": [
        "<ggplot: (8745579291101)>"
       ]
      }
     ],
     "prompt_number": 7
    },
    {
     "cell_type": "code",
     "collapsed": false,
     "input": [
      "ggplot(zipcodes, aes(x = 'longitude', y = 'latitude', color = 'zip')) + \\\n",
      "    geom_point() + \\\n",
      "    ggtitle(\"(Longitude, Latitude) Heatmap\")"
     ],
     "language": "python",
     "metadata": {},
     "outputs": [
      {
       "metadata": {},
       "output_type": "display_data",
       "png": "[encoded data removed]",
       "text": [
        "<matplotlib.figure.Figure at 0x7f43d2855d90>"
       ]
      },
      {
       "metadata": {},
       "output_type": "pyout",
       "prompt_number": 8,
       "text": [
        "<ggplot: (8745580926061)>"
       ]
      }
     ],
     "prompt_number": 8
    },
    {
     "cell_type": "code",
     "collapsed": false,
     "input": [
      "ggplot(zipcodes[zipcodes['longitude'] < 0], aes(x = 'longitude', y = 'latitude', color = 'zip')) + \\\n",
      "    geom_point() + \\\n",
      "    ggtitle(\"(Longitude, Latitude) Heatmap\")"
     ],
     "language": "python",
     "metadata": {},
     "outputs": [
      {
       "metadata": {},
       "output_type": "display_data",
       "png": "[encoded data removed]",
       "text": [
        "<matplotlib.figure.Figure at 0x7f43ce8d0850>"
       ]
      },
      {
       "metadata": {},
       "output_type": "pyout",
       "prompt_number": 9,
       "text": [
        "<ggplot: (8745575305389)>"
       ]
      }
     ],
     "prompt_number": 9
    },
    {
     "cell_type": "markdown",
     "metadata": {},
     "source": [
      "### Objectives"
     ]
    },
    {
     "cell_type": "markdown",
     "metadata": {},
     "source": [
      "* **Quality of measurements**\n",
      "* **Quality of data**\n",
      "* **Initial transformations**\n",
      "* **Univariate statistics** (single variable)\n",
      "* **Bivariate associations** (correlations)\n",
      "* **Multivarite patterns** (analysis)"
     ]
    },
    {
     "cell_type": "heading",
     "level": 3,
     "metadata": {},
     "source": [
      "Missing Data"
     ]
    },
    {
     "cell_type": "markdown",
     "metadata": {},
     "source": [
      "In this section, we will discuss missing (also referred to as **NA**) values in pandas."
     ]
    },
    {
     "cell_type": "heading",
     "level": 4,
     "metadata": {},
     "source": [
      "When / why does data become missing?"
     ]
    },
    {
     "cell_type": "markdown",
     "metadata": {},
     "source": [
      "Some might quibble over our usage of missing. By \u201cmissing\u201d we simply mean null or \u201cnot present for whatever reason\u201d. Many data sets simply arrive with missing data, either because it exists and was not collected or it never existed. For example, in a collection of financial time series, some of the time series might start on different dates. Thus, values prior to the start date would generally be marked as missing."
     ]
    },
    {
     "cell_type": "markdown",
     "metadata": {},
     "source": [
      "As data comes in many shapes and forms, pandas aims to be flexible with regard to handling missing data. While `NaN` is the default missing value marker for reasons of computational speed and convenience, we need to be able to easily detect this value with data of different types: floating point, integer, boolean, and general object. In many cases, however, the Python `None` will arise and we wish to also consider that \u201cmissing\u201d or \u201cnull\u201d.\n",
      "\n",
      "* NaN and None (in object arrays) are considered missing by the isnull and notnull functions. inf and -inf are no longer considered missing by default.\n",
      "* To make detecting missing values easier (and across different array dtypes), pandas provides the `isnull()` and `notnull()` functions, which are also methods on `Series` objects:"
     ]
    },
    {
     "cell_type": "code",
     "collapsed": false,
     "input": [
      "import pandas as pd\n",
      "import numpy as np\n",
      "from random import sample\n",
      "\n",
      "data = range(10)\n",
      "\n",
      "rows = sample(data, 6)\n",
      "\n",
      "df = pd.DataFrame(data, columns=['data'])\n",
      "\n",
      "df['fulldata'] = data\n",
      "\n",
      "df.data.ix[rows[:3]] = None\n",
      "df.data.ix[rows[3:]] = np.nan"
     ],
     "language": "python",
     "metadata": {},
     "outputs": [],
     "prompt_number": 48
    },
    {
     "cell_type": "code",
     "collapsed": false,
     "input": [
      "rows"
     ],
     "language": "python",
     "metadata": {},
     "outputs": [
      {
       "metadata": {},
       "output_type": "pyout",
       "prompt_number": 11,
       "text": [
        "[4, 9, 7, 3, 5, 1]"
       ]
      }
     ],
     "prompt_number": 11
    },
    {
     "cell_type": "code",
     "collapsed": false,
     "input": [
      "df"
     ],
     "language": "python",
     "metadata": {},
     "outputs": [
      {
       "html": [
        "<div style=\"max-height:1000px;max-width:1500px;overflow:auto;\">\n",
        "<table border=\"1\" class=\"dataframe\">\n",
        "  <thead>\n",
        "    <tr style=\"text-align: right;\">\n",
        "      <th></th>\n",
        "      <th>data</th>\n",
        "      <th>fulldata</th>\n",
        "    </tr>\n",
        "  </thead>\n",
        "  <tbody>\n",
        "    <tr>\n",
        "      <th>0</th>\n",
        "      <td>    0</td>\n",
        "      <td> 0</td>\n",
        "    </tr>\n",
        "    <tr>\n",
        "      <th>1</th>\n",
        "      <td>  NaN</td>\n",
        "      <td> 1</td>\n",
        "    </tr>\n",
        "    <tr>\n",
        "      <th>2</th>\n",
        "      <td>    2</td>\n",
        "      <td> 2</td>\n",
        "    </tr>\n",
        "    <tr>\n",
        "      <th>3</th>\n",
        "      <td>  NaN</td>\n",
        "      <td> 3</td>\n",
        "    </tr>\n",
        "    <tr>\n",
        "      <th>4</th>\n",
        "      <td> None</td>\n",
        "      <td> 4</td>\n",
        "    </tr>\n",
        "    <tr>\n",
        "      <th>5</th>\n",
        "      <td>  NaN</td>\n",
        "      <td> 5</td>\n",
        "    </tr>\n",
        "    <tr>\n",
        "      <th>6</th>\n",
        "      <td>    6</td>\n",
        "      <td> 6</td>\n",
        "    </tr>\n",
        "    <tr>\n",
        "      <th>7</th>\n",
        "      <td> None</td>\n",
        "      <td> 7</td>\n",
        "    </tr>\n",
        "    <tr>\n",
        "      <th>8</th>\n",
        "      <td>    8</td>\n",
        "      <td> 8</td>\n",
        "    </tr>\n",
        "    <tr>\n",
        "      <th>9</th>\n",
        "      <td> None</td>\n",
        "      <td> 9</td>\n",
        "    </tr>\n",
        "  </tbody>\n",
        "</table>\n",
        "</div>"
       ],
       "metadata": {},
       "output_type": "pyout",
       "prompt_number": 12,
       "text": [
        "   data  fulldata\n",
        "0     0         0\n",
        "1   NaN         1\n",
        "2     2         2\n",
        "3   NaN         3\n",
        "4  None         4\n",
        "5   NaN         5\n",
        "6     6         6\n",
        "7  None         7\n",
        "8     8         8\n",
        "9  None         9"
       ]
      }
     ],
     "prompt_number": 12
    },
    {
     "cell_type": "code",
     "collapsed": false,
     "input": [
      "pd.isnull(df.data)\n",
      "# same as\n",
      "df.data.isnull()"
     ],
     "language": "python",
     "metadata": {},
     "outputs": [
      {
       "metadata": {},
       "output_type": "pyout",
       "prompt_number": 13,
       "text": [
        "0    False\n",
        "1     True\n",
        "2    False\n",
        "3     True\n",
        "4     True\n",
        "5     True\n",
        "6    False\n",
        "7     True\n",
        "8    False\n",
        "9     True\n",
        "Name: data, dtype: bool"
       ]
      }
     ],
     "prompt_number": 13
    },
    {
     "cell_type": "code",
     "collapsed": false,
     "input": [
      "pd.notnull(df.data)\n",
      "# same as\n",
      "df.data.notnull()"
     ],
     "language": "python",
     "metadata": {},
     "outputs": [
      {
       "metadata": {},
       "output_type": "pyout",
       "prompt_number": 14,
       "text": [
        "0     True\n",
        "1    False\n",
        "2     True\n",
        "3    False\n",
        "4    False\n",
        "5    False\n",
        "6     True\n",
        "7    False\n",
        "8     True\n",
        "9    False\n",
        "Name: data, dtype: bool"
       ]
      }
     ],
     "prompt_number": 14
    },
    {
     "cell_type": "heading",
     "level": 4,
     "metadata": {},
     "source": [
      "Calculations with missing data"
     ]
    },
    {
     "cell_type": "markdown",
     "metadata": {},
     "source": [
      "The descriptive statistics and computational methods in pandas are all written to account for missing data\n",
      "\n",
      "* When summing data, `NA` (missing) values will be treated as zero\n",
      "* If the data are all `NA`, the result will be `NA`\n",
      "* Methods like `cumsum` and `cumprod` ignore `NA` values, but preserve them in the resulting arrays"
     ]
    },
    {
     "cell_type": "code",
     "collapsed": false,
     "input": [
      "df"
     ],
     "language": "python",
     "metadata": {},
     "outputs": [
      {
       "html": [
        "<div style=\"max-height:1000px;max-width:1500px;overflow:auto;\">\n",
        "<table border=\"1\" class=\"dataframe\">\n",
        "  <thead>\n",
        "    <tr style=\"text-align: right;\">\n",
        "      <th></th>\n",
        "      <th>data</th>\n",
        "      <th>fulldata</th>\n",
        "    </tr>\n",
        "  </thead>\n",
        "  <tbody>\n",
        "    <tr>\n",
        "      <th>0</th>\n",
        "      <td>    0</td>\n",
        "      <td> 0</td>\n",
        "    </tr>\n",
        "    <tr>\n",
        "      <th>1</th>\n",
        "      <td>  NaN</td>\n",
        "      <td> 1</td>\n",
        "    </tr>\n",
        "    <tr>\n",
        "      <th>2</th>\n",
        "      <td>    2</td>\n",
        "      <td> 2</td>\n",
        "    </tr>\n",
        "    <tr>\n",
        "      <th>3</th>\n",
        "      <td>  NaN</td>\n",
        "      <td> 3</td>\n",
        "    </tr>\n",
        "    <tr>\n",
        "      <th>4</th>\n",
        "      <td> None</td>\n",
        "      <td> 4</td>\n",
        "    </tr>\n",
        "    <tr>\n",
        "      <th>5</th>\n",
        "      <td>  NaN</td>\n",
        "      <td> 5</td>\n",
        "    </tr>\n",
        "    <tr>\n",
        "      <th>6</th>\n",
        "      <td>    6</td>\n",
        "      <td> 6</td>\n",
        "    </tr>\n",
        "    <tr>\n",
        "      <th>7</th>\n",
        "      <td> None</td>\n",
        "      <td> 7</td>\n",
        "    </tr>\n",
        "    <tr>\n",
        "      <th>8</th>\n",
        "      <td>    8</td>\n",
        "      <td> 8</td>\n",
        "    </tr>\n",
        "    <tr>\n",
        "      <th>9</th>\n",
        "      <td> None</td>\n",
        "      <td> 9</td>\n",
        "    </tr>\n",
        "  </tbody>\n",
        "</table>\n",
        "</div>"
       ],
       "metadata": {},
       "output_type": "pyout",
       "prompt_number": 15,
       "text": [
        "   data  fulldata\n",
        "0     0         0\n",
        "1   NaN         1\n",
        "2     2         2\n",
        "3   NaN         3\n",
        "4  None         4\n",
        "5   NaN         5\n",
        "6     6         6\n",
        "7  None         7\n",
        "8     8         8\n",
        "9  None         9"
       ]
      }
     ],
     "prompt_number": 15
    },
    {
     "cell_type": "code",
     "collapsed": false,
     "input": [
      "df['data'].sum()"
     ],
     "language": "python",
     "metadata": {},
     "outputs": [
      {
       "metadata": {},
       "output_type": "pyout",
       "prompt_number": 16,
       "text": [
        "16"
       ]
      }
     ],
     "prompt_number": 16
    },
    {
     "cell_type": "code",
     "collapsed": false,
     "input": [
      "df.mean(1)"
     ],
     "language": "python",
     "metadata": {},
     "outputs": [
      {
       "metadata": {},
       "output_type": "pyout",
       "prompt_number": 17,
       "text": [
        "0    0\n",
        "1    1\n",
        "2    2\n",
        "3    3\n",
        "4    4\n",
        "5    5\n",
        "6    6\n",
        "7    7\n",
        "8    8\n",
        "9    9\n",
        "dtype: float64"
       ]
      }
     ],
     "prompt_number": 17
    },
    {
     "cell_type": "code",
     "collapsed": false,
     "input": [
      "df.cumsum()"
     ],
     "language": "python",
     "metadata": {},
     "outputs": [
      {
       "html": [
        "<div style=\"max-height:1000px;max-width:1500px;overflow:auto;\">\n",
        "<table border=\"1\" class=\"dataframe\">\n",
        "  <thead>\n",
        "    <tr style=\"text-align: right;\">\n",
        "      <th></th>\n",
        "      <th>data</th>\n",
        "      <th>fulldata</th>\n",
        "    </tr>\n",
        "  </thead>\n",
        "  <tbody>\n",
        "    <tr>\n",
        "      <th>0</th>\n",
        "      <td>   0</td>\n",
        "      <td>  0</td>\n",
        "    </tr>\n",
        "    <tr>\n",
        "      <th>1</th>\n",
        "      <td> NaN</td>\n",
        "      <td>  1</td>\n",
        "    </tr>\n",
        "    <tr>\n",
        "      <th>2</th>\n",
        "      <td>   2</td>\n",
        "      <td>  3</td>\n",
        "    </tr>\n",
        "    <tr>\n",
        "      <th>3</th>\n",
        "      <td> NaN</td>\n",
        "      <td>  6</td>\n",
        "    </tr>\n",
        "    <tr>\n",
        "      <th>4</th>\n",
        "      <td> NaN</td>\n",
        "      <td> 10</td>\n",
        "    </tr>\n",
        "    <tr>\n",
        "      <th>5</th>\n",
        "      <td> NaN</td>\n",
        "      <td> 15</td>\n",
        "    </tr>\n",
        "    <tr>\n",
        "      <th>6</th>\n",
        "      <td>   8</td>\n",
        "      <td> 21</td>\n",
        "    </tr>\n",
        "    <tr>\n",
        "      <th>7</th>\n",
        "      <td> NaN</td>\n",
        "      <td> 28</td>\n",
        "    </tr>\n",
        "    <tr>\n",
        "      <th>8</th>\n",
        "      <td>  16</td>\n",
        "      <td> 36</td>\n",
        "    </tr>\n",
        "    <tr>\n",
        "      <th>9</th>\n",
        "      <td> NaN</td>\n",
        "      <td> 45</td>\n",
        "    </tr>\n",
        "  </tbody>\n",
        "</table>\n",
        "</div>"
       ],
       "metadata": {},
       "output_type": "pyout",
       "prompt_number": 18,
       "text": [
        "  data fulldata\n",
        "0    0        0\n",
        "1  NaN        1\n",
        "2    2        3\n",
        "3  NaN        6\n",
        "4  NaN       10\n",
        "5  NaN       15\n",
        "6    8       21\n",
        "7  NaN       28\n",
        "8   16       36\n",
        "9  NaN       45"
       ]
      }
     ],
     "prompt_number": 18
    },
    {
     "cell_type": "heading",
     "level": 3,
     "metadata": {},
     "source": [
      "Cleaning / filling missing data"
     ]
    },
    {
     "cell_type": "markdown",
     "metadata": {},
     "source": [
      "pandas objects are equipped with various data manipulation methods for dealing with missing data"
     ]
    },
    {
     "cell_type": "heading",
     "level": 4,
     "metadata": {},
     "source": [
      "Filling missing values: `fillna()`"
     ]
    },
    {
     "cell_type": "markdown",
     "metadata": {},
     "source": [
      "The `fillna` function can \u201cfill in\u201d NA values with non-null data in a couple of ways, which we illustrate:"
     ]
    },
    {
     "cell_type": "heading",
     "level": 5,
     "metadata": {},
     "source": [
      "Replace NA with a scalar value"
     ]
    },
    {
     "cell_type": "code",
     "collapsed": false,
     "input": [
      "df"
     ],
     "language": "python",
     "metadata": {},
     "outputs": [
      {
       "html": [
        "<div style=\"max-height:1000px;max-width:1500px;overflow:auto;\">\n",
        "<table border=\"1\" class=\"dataframe\">\n",
        "  <thead>\n",
        "    <tr style=\"text-align: right;\">\n",
        "      <th></th>\n",
        "      <th>data</th>\n",
        "      <th>fulldata</th>\n",
        "    </tr>\n",
        "  </thead>\n",
        "  <tbody>\n",
        "    <tr>\n",
        "      <th>0</th>\n",
        "      <td>    0</td>\n",
        "      <td> 0</td>\n",
        "    </tr>\n",
        "    <tr>\n",
        "      <th>1</th>\n",
        "      <td>  NaN</td>\n",
        "      <td> 1</td>\n",
        "    </tr>\n",
        "    <tr>\n",
        "      <th>2</th>\n",
        "      <td>    2</td>\n",
        "      <td> 2</td>\n",
        "    </tr>\n",
        "    <tr>\n",
        "      <th>3</th>\n",
        "      <td>  NaN</td>\n",
        "      <td> 3</td>\n",
        "    </tr>\n",
        "    <tr>\n",
        "      <th>4</th>\n",
        "      <td> None</td>\n",
        "      <td> 4</td>\n",
        "    </tr>\n",
        "    <tr>\n",
        "      <th>5</th>\n",
        "      <td>  NaN</td>\n",
        "      <td> 5</td>\n",
        "    </tr>\n",
        "    <tr>\n",
        "      <th>6</th>\n",
        "      <td>    6</td>\n",
        "      <td> 6</td>\n",
        "    </tr>\n",
        "    <tr>\n",
        "      <th>7</th>\n",
        "      <td> None</td>\n",
        "      <td> 7</td>\n",
        "    </tr>\n",
        "    <tr>\n",
        "      <th>8</th>\n",
        "      <td>    8</td>\n",
        "      <td> 8</td>\n",
        "    </tr>\n",
        "    <tr>\n",
        "      <th>9</th>\n",
        "      <td> None</td>\n",
        "      <td> 9</td>\n",
        "    </tr>\n",
        "  </tbody>\n",
        "</table>\n",
        "</div>"
       ],
       "metadata": {},
       "output_type": "pyout",
       "prompt_number": 19,
       "text": [
        "   data  fulldata\n",
        "0     0         0\n",
        "1   NaN         1\n",
        "2     2         2\n",
        "3   NaN         3\n",
        "4  None         4\n",
        "5   NaN         5\n",
        "6     6         6\n",
        "7  None         7\n",
        "8     8         8\n",
        "9  None         9"
       ]
      }
     ],
     "prompt_number": 19
    },
    {
     "cell_type": "code",
     "collapsed": false,
     "input": [
      "df.fillna(0)"
     ],
     "language": "python",
     "metadata": {},
     "outputs": [
      {
       "html": [
        "<div style=\"max-height:1000px;max-width:1500px;overflow:auto;\">\n",
        "<table border=\"1\" class=\"dataframe\">\n",
        "  <thead>\n",
        "    <tr style=\"text-align: right;\">\n",
        "      <th></th>\n",
        "      <th>data</th>\n",
        "      <th>fulldata</th>\n",
        "    </tr>\n",
        "  </thead>\n",
        "  <tbody>\n",
        "    <tr>\n",
        "      <th>0</th>\n",
        "      <td> 0</td>\n",
        "      <td> 0</td>\n",
        "    </tr>\n",
        "    <tr>\n",
        "      <th>1</th>\n",
        "      <td> 0</td>\n",
        "      <td> 1</td>\n",
        "    </tr>\n",
        "    <tr>\n",
        "      <th>2</th>\n",
        "      <td> 2</td>\n",
        "      <td> 2</td>\n",
        "    </tr>\n",
        "    <tr>\n",
        "      <th>3</th>\n",
        "      <td> 0</td>\n",
        "      <td> 3</td>\n",
        "    </tr>\n",
        "    <tr>\n",
        "      <th>4</th>\n",
        "      <td> 0</td>\n",
        "      <td> 4</td>\n",
        "    </tr>\n",
        "    <tr>\n",
        "      <th>5</th>\n",
        "      <td> 0</td>\n",
        "      <td> 5</td>\n",
        "    </tr>\n",
        "    <tr>\n",
        "      <th>6</th>\n",
        "      <td> 6</td>\n",
        "      <td> 6</td>\n",
        "    </tr>\n",
        "    <tr>\n",
        "      <th>7</th>\n",
        "      <td> 0</td>\n",
        "      <td> 7</td>\n",
        "    </tr>\n",
        "    <tr>\n",
        "      <th>8</th>\n",
        "      <td> 8</td>\n",
        "      <td> 8</td>\n",
        "    </tr>\n",
        "    <tr>\n",
        "      <th>9</th>\n",
        "      <td> 0</td>\n",
        "      <td> 9</td>\n",
        "    </tr>\n",
        "  </tbody>\n",
        "</table>\n",
        "</div>"
       ],
       "metadata": {},
       "output_type": "pyout",
       "prompt_number": 20,
       "text": [
        "   data  fulldata\n",
        "0     0         0\n",
        "1     0         1\n",
        "2     2         2\n",
        "3     0         3\n",
        "4     0         4\n",
        "5     0         5\n",
        "6     6         6\n",
        "7     0         7\n",
        "8     8         8\n",
        "9     0         9"
       ]
      }
     ],
     "prompt_number": 20
    },
    {
     "cell_type": "code",
     "collapsed": false,
     "input": [
      "df['data'].fillna('missing')"
     ],
     "language": "python",
     "metadata": {},
     "outputs": [
      {
       "metadata": {},
       "output_type": "pyout",
       "prompt_number": 21,
       "text": [
        "0          0\n",
        "1    missing\n",
        "2          2\n",
        "3    missing\n",
        "4    missing\n",
        "5    missing\n",
        "6          6\n",
        "7    missing\n",
        "8          8\n",
        "9    missing\n",
        "Name: data, dtype: object"
       ]
      }
     ],
     "prompt_number": 21
    },
    {
     "cell_type": "heading",
     "level": 4,
     "metadata": {},
     "source": [
      "Fill gaps forward or backward"
     ]
    },
    {
     "cell_type": "markdown",
     "metadata": {},
     "source": [
      "We can propagate non-null values forward or backward:"
     ]
    },
    {
     "cell_type": "code",
     "collapsed": false,
     "input": [
      "df.fillna(method='pad')"
     ],
     "language": "python",
     "metadata": {},
     "outputs": [
      {
       "html": [
        "<div style=\"max-height:1000px;max-width:1500px;overflow:auto;\">\n",
        "<table border=\"1\" class=\"dataframe\">\n",
        "  <thead>\n",
        "    <tr style=\"text-align: right;\">\n",
        "      <th></th>\n",
        "      <th>data</th>\n",
        "      <th>fulldata</th>\n",
        "    </tr>\n",
        "  </thead>\n",
        "  <tbody>\n",
        "    <tr>\n",
        "      <th>0</th>\n",
        "      <td> 0</td>\n",
        "      <td> 0</td>\n",
        "    </tr>\n",
        "    <tr>\n",
        "      <th>1</th>\n",
        "      <td> 0</td>\n",
        "      <td> 1</td>\n",
        "    </tr>\n",
        "    <tr>\n",
        "      <th>2</th>\n",
        "      <td> 2</td>\n",
        "      <td> 2</td>\n",
        "    </tr>\n",
        "    <tr>\n",
        "      <th>3</th>\n",
        "      <td> 2</td>\n",
        "      <td> 3</td>\n",
        "    </tr>\n",
        "    <tr>\n",
        "      <th>4</th>\n",
        "      <td> 2</td>\n",
        "      <td> 4</td>\n",
        "    </tr>\n",
        "    <tr>\n",
        "      <th>5</th>\n",
        "      <td> 2</td>\n",
        "      <td> 5</td>\n",
        "    </tr>\n",
        "    <tr>\n",
        "      <th>6</th>\n",
        "      <td> 6</td>\n",
        "      <td> 6</td>\n",
        "    </tr>\n",
        "    <tr>\n",
        "      <th>7</th>\n",
        "      <td> 6</td>\n",
        "      <td> 7</td>\n",
        "    </tr>\n",
        "    <tr>\n",
        "      <th>8</th>\n",
        "      <td> 8</td>\n",
        "      <td> 8</td>\n",
        "    </tr>\n",
        "    <tr>\n",
        "      <th>9</th>\n",
        "      <td> 8</td>\n",
        "      <td> 9</td>\n",
        "    </tr>\n",
        "  </tbody>\n",
        "</table>\n",
        "</div>"
       ],
       "metadata": {},
       "output_type": "pyout",
       "prompt_number": 22,
       "text": [
        "   data  fulldata\n",
        "0     0         0\n",
        "1     0         1\n",
        "2     2         2\n",
        "3     2         3\n",
        "4     2         4\n",
        "5     2         5\n",
        "6     6         6\n",
        "7     6         7\n",
        "8     8         8\n",
        "9     8         9"
       ]
      }
     ],
     "prompt_number": 22
    },
    {
     "cell_type": "heading",
     "level": 4,
     "metadata": {},
     "source": [
      "Limit the amount of filling"
     ]
    },
    {
     "cell_type": "markdown",
     "metadata": {},
     "source": [
      "If we only want consecutive gaps filled up to a certain number of data points, we can use the limit keyword:"
     ]
    },
    {
     "cell_type": "code",
     "collapsed": false,
     "input": [
      "df.fillna(method='pad', limit=1)"
     ],
     "language": "python",
     "metadata": {},
     "outputs": [
      {
       "html": [
        "<div style=\"max-height:1000px;max-width:1500px;overflow:auto;\">\n",
        "<table border=\"1\" class=\"dataframe\">\n",
        "  <thead>\n",
        "    <tr style=\"text-align: right;\">\n",
        "      <th></th>\n",
        "      <th>data</th>\n",
        "      <th>fulldata</th>\n",
        "    </tr>\n",
        "  </thead>\n",
        "  <tbody>\n",
        "    <tr>\n",
        "      <th>0</th>\n",
        "      <td>  0</td>\n",
        "      <td> 0</td>\n",
        "    </tr>\n",
        "    <tr>\n",
        "      <th>1</th>\n",
        "      <td>  0</td>\n",
        "      <td> 1</td>\n",
        "    </tr>\n",
        "    <tr>\n",
        "      <th>2</th>\n",
        "      <td>  2</td>\n",
        "      <td> 2</td>\n",
        "    </tr>\n",
        "    <tr>\n",
        "      <th>3</th>\n",
        "      <td>  2</td>\n",
        "      <td> 3</td>\n",
        "    </tr>\n",
        "    <tr>\n",
        "      <th>4</th>\n",
        "      <td>NaN</td>\n",
        "      <td> 4</td>\n",
        "    </tr>\n",
        "    <tr>\n",
        "      <th>5</th>\n",
        "      <td>NaN</td>\n",
        "      <td> 5</td>\n",
        "    </tr>\n",
        "    <tr>\n",
        "      <th>6</th>\n",
        "      <td>  6</td>\n",
        "      <td> 6</td>\n",
        "    </tr>\n",
        "    <tr>\n",
        "      <th>7</th>\n",
        "      <td>  6</td>\n",
        "      <td> 7</td>\n",
        "    </tr>\n",
        "    <tr>\n",
        "      <th>8</th>\n",
        "      <td>  8</td>\n",
        "      <td> 8</td>\n",
        "    </tr>\n",
        "    <tr>\n",
        "      <th>9</th>\n",
        "      <td>  8</td>\n",
        "      <td> 9</td>\n",
        "    </tr>\n",
        "  </tbody>\n",
        "</table>\n",
        "</div>"
       ],
       "metadata": {},
       "output_type": "pyout",
       "prompt_number": 23,
       "text": [
        "   data  fulldata\n",
        "0     0         0\n",
        "1     0         1\n",
        "2     2         2\n",
        "3     2         3\n",
        "4   NaN         4\n",
        "5   NaN         5\n",
        "6     6         6\n",
        "7     6         7\n",
        "8     8         8\n",
        "9     8         9"
       ]
      }
     ],
     "prompt_number": 23
    },
    {
     "cell_type": "markdown",
     "metadata": {},
     "source": [
      "These are the available filling methods:"
     ]
    },
    {
     "cell_type": "markdown",
     "metadata": {},
     "source": [
      "| Method | Action |\n",
      "|--------|--------|\n",
      "| pad / ffill\tFill | values forward |\n",
      "| bfill / backfill | Fill values backward |"
     ]
    },
    {
     "cell_type": "markdown",
     "metadata": {},
     "source": [
      "With time series data, using pad/ffill is extremely common so that the \u201clast known value\u201d is available at every time point.\n",
      "\n",
      "The ffill() function is equivalent to fillna(method='ffill') and bfill() is equivalent to fillna(method='bfill')"
     ]
    },
    {
     "cell_type": "markdown",
     "metadata": {},
     "source": [
      "You can also fillna using a `dict` or `Series` that is alignable. The labels of the `dict` or `index` of the `Series` must match the columns of the frame you wish to fill. The use case of this is to fill a DataFrame with the mean of that column."
     ]
    },
    {
     "cell_type": "code",
     "collapsed": false,
     "input": [
      "df.fillna(df.mean())"
     ],
     "language": "python",
     "metadata": {},
     "outputs": [
      {
       "html": [
        "<div style=\"max-height:1000px;max-width:1500px;overflow:auto;\">\n",
        "<table border=\"1\" class=\"dataframe\">\n",
        "  <thead>\n",
        "    <tr style=\"text-align: right;\">\n",
        "      <th></th>\n",
        "      <th>data</th>\n",
        "      <th>fulldata</th>\n",
        "    </tr>\n",
        "  </thead>\n",
        "  <tbody>\n",
        "    <tr>\n",
        "      <th>0</th>\n",
        "      <td> 0</td>\n",
        "      <td> 0</td>\n",
        "    </tr>\n",
        "    <tr>\n",
        "      <th>1</th>\n",
        "      <td> 4</td>\n",
        "      <td> 1</td>\n",
        "    </tr>\n",
        "    <tr>\n",
        "      <th>2</th>\n",
        "      <td> 2</td>\n",
        "      <td> 2</td>\n",
        "    </tr>\n",
        "    <tr>\n",
        "      <th>3</th>\n",
        "      <td> 4</td>\n",
        "      <td> 3</td>\n",
        "    </tr>\n",
        "    <tr>\n",
        "      <th>4</th>\n",
        "      <td> 4</td>\n",
        "      <td> 4</td>\n",
        "    </tr>\n",
        "    <tr>\n",
        "      <th>5</th>\n",
        "      <td> 4</td>\n",
        "      <td> 5</td>\n",
        "    </tr>\n",
        "    <tr>\n",
        "      <th>6</th>\n",
        "      <td> 6</td>\n",
        "      <td> 6</td>\n",
        "    </tr>\n",
        "    <tr>\n",
        "      <th>7</th>\n",
        "      <td> 4</td>\n",
        "      <td> 7</td>\n",
        "    </tr>\n",
        "    <tr>\n",
        "      <th>8</th>\n",
        "      <td> 8</td>\n",
        "      <td> 8</td>\n",
        "    </tr>\n",
        "    <tr>\n",
        "      <th>9</th>\n",
        "      <td> 4</td>\n",
        "      <td> 9</td>\n",
        "    </tr>\n",
        "  </tbody>\n",
        "</table>\n",
        "</div>"
       ],
       "metadata": {},
       "output_type": "pyout",
       "prompt_number": 24,
       "text": [
        "   data  fulldata\n",
        "0     0         0\n",
        "1     4         1\n",
        "2     2         2\n",
        "3     4         3\n",
        "4     4         4\n",
        "5     4         5\n",
        "6     6         6\n",
        "7     4         7\n",
        "8     8         8\n",
        "9     4         9"
       ]
      }
     ],
     "prompt_number": 24
    },
    {
     "cell_type": "heading",
     "level": 3,
     "metadata": {},
     "source": [
      "Dropping axis labels with missing data: dropna"
     ]
    },
    {
     "cell_type": "markdown",
     "metadata": {},
     "source": [
      "You may wish to simply exclude labels from a data set which refer to missing data. To do this, use the dropna method:"
     ]
    },
    {
     "cell_type": "code",
     "collapsed": false,
     "input": [
      "df"
     ],
     "language": "python",
     "metadata": {},
     "outputs": [
      {
       "html": [
        "<div style=\"max-height:1000px;max-width:1500px;overflow:auto;\">\n",
        "<table border=\"1\" class=\"dataframe\">\n",
        "  <thead>\n",
        "    <tr style=\"text-align: right;\">\n",
        "      <th></th>\n",
        "      <th>data</th>\n",
        "      <th>fulldata</th>\n",
        "    </tr>\n",
        "  </thead>\n",
        "  <tbody>\n",
        "    <tr>\n",
        "      <th>0</th>\n",
        "      <td>    0</td>\n",
        "      <td> 0</td>\n",
        "    </tr>\n",
        "    <tr>\n",
        "      <th>1</th>\n",
        "      <td>  NaN</td>\n",
        "      <td> 1</td>\n",
        "    </tr>\n",
        "    <tr>\n",
        "      <th>2</th>\n",
        "      <td>    2</td>\n",
        "      <td> 2</td>\n",
        "    </tr>\n",
        "    <tr>\n",
        "      <th>3</th>\n",
        "      <td>  NaN</td>\n",
        "      <td> 3</td>\n",
        "    </tr>\n",
        "    <tr>\n",
        "      <th>4</th>\n",
        "      <td> None</td>\n",
        "      <td> 4</td>\n",
        "    </tr>\n",
        "    <tr>\n",
        "      <th>5</th>\n",
        "      <td>  NaN</td>\n",
        "      <td> 5</td>\n",
        "    </tr>\n",
        "    <tr>\n",
        "      <th>6</th>\n",
        "      <td>    6</td>\n",
        "      <td> 6</td>\n",
        "    </tr>\n",
        "    <tr>\n",
        "      <th>7</th>\n",
        "      <td> None</td>\n",
        "      <td> 7</td>\n",
        "    </tr>\n",
        "    <tr>\n",
        "      <th>8</th>\n",
        "      <td>    8</td>\n",
        "      <td> 8</td>\n",
        "    </tr>\n",
        "    <tr>\n",
        "      <th>9</th>\n",
        "      <td> None</td>\n",
        "      <td> 9</td>\n",
        "    </tr>\n",
        "  </tbody>\n",
        "</table>\n",
        "</div>"
       ],
       "metadata": {},
       "output_type": "pyout",
       "prompt_number": 25,
       "text": [
        "   data  fulldata\n",
        "0     0         0\n",
        "1   NaN         1\n",
        "2     2         2\n",
        "3   NaN         3\n",
        "4  None         4\n",
        "5   NaN         5\n",
        "6     6         6\n",
        "7  None         7\n",
        "8     8         8\n",
        "9  None         9"
       ]
      }
     ],
     "prompt_number": 25
    },
    {
     "cell_type": "code",
     "collapsed": false,
     "input": [
      "df.dropna()"
     ],
     "language": "python",
     "metadata": {},
     "outputs": [
      {
       "html": [
        "<div style=\"max-height:1000px;max-width:1500px;overflow:auto;\">\n",
        "<table border=\"1\" class=\"dataframe\">\n",
        "  <thead>\n",
        "    <tr style=\"text-align: right;\">\n",
        "      <th></th>\n",
        "      <th>data</th>\n",
        "      <th>fulldata</th>\n",
        "    </tr>\n",
        "  </thead>\n",
        "  <tbody>\n",
        "    <tr>\n",
        "      <th>0</th>\n",
        "      <td> 0</td>\n",
        "      <td> 0</td>\n",
        "    </tr>\n",
        "    <tr>\n",
        "      <th>2</th>\n",
        "      <td> 2</td>\n",
        "      <td> 2</td>\n",
        "    </tr>\n",
        "    <tr>\n",
        "      <th>6</th>\n",
        "      <td> 6</td>\n",
        "      <td> 6</td>\n",
        "    </tr>\n",
        "    <tr>\n",
        "      <th>8</th>\n",
        "      <td> 8</td>\n",
        "      <td> 8</td>\n",
        "    </tr>\n",
        "  </tbody>\n",
        "</table>\n",
        "</div>"
       ],
       "metadata": {},
       "output_type": "pyout",
       "prompt_number": 26,
       "text": [
        "  data  fulldata\n",
        "0    0         0\n",
        "2    2         2\n",
        "6    6         6\n",
        "8    8         8"
       ]
      }
     ],
     "prompt_number": 26
    },
    {
     "cell_type": "code",
     "collapsed": false,
     "input": [
      "df.dropna(axis=1)"
     ],
     "language": "python",
     "metadata": {},
     "outputs": [
      {
       "html": [
        "<div style=\"max-height:1000px;max-width:1500px;overflow:auto;\">\n",
        "<table border=\"1\" class=\"dataframe\">\n",
        "  <thead>\n",
        "    <tr style=\"text-align: right;\">\n",
        "      <th></th>\n",
        "      <th>fulldata</th>\n",
        "    </tr>\n",
        "  </thead>\n",
        "  <tbody>\n",
        "    <tr>\n",
        "      <th>0</th>\n",
        "      <td> 0</td>\n",
        "    </tr>\n",
        "    <tr>\n",
        "      <th>1</th>\n",
        "      <td> 1</td>\n",
        "    </tr>\n",
        "    <tr>\n",
        "      <th>2</th>\n",
        "      <td> 2</td>\n",
        "    </tr>\n",
        "    <tr>\n",
        "      <th>3</th>\n",
        "      <td> 3</td>\n",
        "    </tr>\n",
        "    <tr>\n",
        "      <th>4</th>\n",
        "      <td> 4</td>\n",
        "    </tr>\n",
        "    <tr>\n",
        "      <th>5</th>\n",
        "      <td> 5</td>\n",
        "    </tr>\n",
        "    <tr>\n",
        "      <th>6</th>\n",
        "      <td> 6</td>\n",
        "    </tr>\n",
        "    <tr>\n",
        "      <th>7</th>\n",
        "      <td> 7</td>\n",
        "    </tr>\n",
        "    <tr>\n",
        "      <th>8</th>\n",
        "      <td> 8</td>\n",
        "    </tr>\n",
        "    <tr>\n",
        "      <th>9</th>\n",
        "      <td> 9</td>\n",
        "    </tr>\n",
        "  </tbody>\n",
        "</table>\n",
        "</div>"
       ],
       "metadata": {},
       "output_type": "pyout",
       "prompt_number": 27,
       "text": [
        "   fulldata\n",
        "0         0\n",
        "1         1\n",
        "2         2\n",
        "3         3\n",
        "4         4\n",
        "5         5\n",
        "6         6\n",
        "7         7\n",
        "8         8\n",
        "9         9"
       ]
      }
     ],
     "prompt_number": 27
    },
    {
     "cell_type": "markdown",
     "metadata": {},
     "source": [
      "For a full overview of the API, see the [documentation](http://pandas.pydata.org/pandas-docs/dev/api.html#api-dataframe-missing)"
     ]
    },
    {
     "cell_type": "heading",
     "level": 3,
     "metadata": {},
     "source": [
      "Interpolation"
     ]
    },
    {
     "cell_type": "markdown",
     "metadata": {},
     "source": [
      "Both Series and Dataframe objects have an interpolate method that, by default, performs linear interpolation at missing datapoints."
     ]
    },
    {
     "cell_type": "markdown",
     "metadata": {},
     "source": [
      "This is where datatypes become important again. Notice the `dtype` of the 'data' column."
     ]
    },
    {
     "cell_type": "code",
     "collapsed": false,
     "input": [
      "df.data"
     ],
     "language": "python",
     "metadata": {},
     "outputs": [
      {
       "metadata": {},
       "output_type": "pyout",
       "prompt_number": 28,
       "text": [
        "0       0\n",
        "1     NaN\n",
        "2       2\n",
        "3     NaN\n",
        "4    None\n",
        "5     NaN\n",
        "6       6\n",
        "7    None\n",
        "8       8\n",
        "9    None\n",
        "Name: data, dtype: object"
       ]
      }
     ],
     "prompt_number": 28
    },
    {
     "cell_type": "markdown",
     "metadata": {},
     "source": [
      "First we need to get rid of the 'None' values, as this makes it into the loosest 'object' datatype. Using NaN we can use the float dataetime.."
     ]
    },
    {
     "cell_type": "code",
     "collapsed": false,
     "input": [
      "df.isnull()"
     ],
     "language": "python",
     "metadata": {},
     "outputs": [
      {
       "html": [
        "<div style=\"max-height:1000px;max-width:1500px;overflow:auto;\">\n",
        "<table border=\"1\" class=\"dataframe\">\n",
        "  <thead>\n",
        "    <tr style=\"text-align: right;\">\n",
        "      <th></th>\n",
        "      <th>data</th>\n",
        "      <th>fulldata</th>\n",
        "    </tr>\n",
        "  </thead>\n",
        "  <tbody>\n",
        "    <tr>\n",
        "      <th>0</th>\n",
        "      <td> False</td>\n",
        "      <td> False</td>\n",
        "    </tr>\n",
        "    <tr>\n",
        "      <th>1</th>\n",
        "      <td>  True</td>\n",
        "      <td> False</td>\n",
        "    </tr>\n",
        "    <tr>\n",
        "      <th>2</th>\n",
        "      <td> False</td>\n",
        "      <td> False</td>\n",
        "    </tr>\n",
        "    <tr>\n",
        "      <th>3</th>\n",
        "      <td>  True</td>\n",
        "      <td> False</td>\n",
        "    </tr>\n",
        "    <tr>\n",
        "      <th>4</th>\n",
        "      <td>  True</td>\n",
        "      <td> False</td>\n",
        "    </tr>\n",
        "    <tr>\n",
        "      <th>5</th>\n",
        "      <td>  True</td>\n",
        "      <td> False</td>\n",
        "    </tr>\n",
        "    <tr>\n",
        "      <th>6</th>\n",
        "      <td> False</td>\n",
        "      <td> False</td>\n",
        "    </tr>\n",
        "    <tr>\n",
        "      <th>7</th>\n",
        "      <td>  True</td>\n",
        "      <td> False</td>\n",
        "    </tr>\n",
        "    <tr>\n",
        "      <th>8</th>\n",
        "      <td> False</td>\n",
        "      <td> False</td>\n",
        "    </tr>\n",
        "    <tr>\n",
        "      <th>9</th>\n",
        "      <td>  True</td>\n",
        "      <td> False</td>\n",
        "    </tr>\n",
        "  </tbody>\n",
        "</table>\n",
        "</div>"
       ],
       "metadata": {},
       "output_type": "pyout",
       "prompt_number": 29,
       "text": [
        "    data fulldata\n",
        "0  False    False\n",
        "1   True    False\n",
        "2  False    False\n",
        "3   True    False\n",
        "4   True    False\n",
        "5   True    False\n",
        "6  False    False\n",
        "7   True    False\n",
        "8  False    False\n",
        "9   True    False"
       ]
      }
     ],
     "prompt_number": 29
    },
    {
     "cell_type": "code",
     "collapsed": false,
     "input": [
      "df[df.isnull()] = np.nan\n",
      "df"
     ],
     "language": "python",
     "metadata": {},
     "outputs": [
      {
       "html": [
        "<div style=\"max-height:1000px;max-width:1500px;overflow:auto;\">\n",
        "<table border=\"1\" class=\"dataframe\">\n",
        "  <thead>\n",
        "    <tr style=\"text-align: right;\">\n",
        "      <th></th>\n",
        "      <th>data</th>\n",
        "      <th>fulldata</th>\n",
        "    </tr>\n",
        "  </thead>\n",
        "  <tbody>\n",
        "    <tr>\n",
        "      <th>0</th>\n",
        "      <td>   0</td>\n",
        "      <td> 0</td>\n",
        "    </tr>\n",
        "    <tr>\n",
        "      <th>1</th>\n",
        "      <td> NaN</td>\n",
        "      <td> 1</td>\n",
        "    </tr>\n",
        "    <tr>\n",
        "      <th>2</th>\n",
        "      <td>   2</td>\n",
        "      <td> 2</td>\n",
        "    </tr>\n",
        "    <tr>\n",
        "      <th>3</th>\n",
        "      <td> NaN</td>\n",
        "      <td> 3</td>\n",
        "    </tr>\n",
        "    <tr>\n",
        "      <th>4</th>\n",
        "      <td> NaN</td>\n",
        "      <td> 4</td>\n",
        "    </tr>\n",
        "    <tr>\n",
        "      <th>5</th>\n",
        "      <td> NaN</td>\n",
        "      <td> 5</td>\n",
        "    </tr>\n",
        "    <tr>\n",
        "      <th>6</th>\n",
        "      <td>   6</td>\n",
        "      <td> 6</td>\n",
        "    </tr>\n",
        "    <tr>\n",
        "      <th>7</th>\n",
        "      <td> NaN</td>\n",
        "      <td> 7</td>\n",
        "    </tr>\n",
        "    <tr>\n",
        "      <th>8</th>\n",
        "      <td>   8</td>\n",
        "      <td> 8</td>\n",
        "    </tr>\n",
        "    <tr>\n",
        "      <th>9</th>\n",
        "      <td> NaN</td>\n",
        "      <td> 9</td>\n",
        "    </tr>\n",
        "  </tbody>\n",
        "</table>\n",
        "</div>"
       ],
       "metadata": {},
       "output_type": "pyout",
       "prompt_number": 30,
       "text": [
        "  data  fulldata\n",
        "0    0         0\n",
        "1  NaN         1\n",
        "2    2         2\n",
        "3  NaN         3\n",
        "4  NaN         4\n",
        "5  NaN         5\n",
        "6    6         6\n",
        "7  NaN         7\n",
        "8    8         8\n",
        "9  NaN         9"
       ]
      }
     ],
     "prompt_number": 30
    },
    {
     "cell_type": "markdown",
     "metadata": {},
     "source": [
      "use `astype` to coerce a column into a specific datatype."
     ]
    },
    {
     "cell_type": "code",
     "collapsed": false,
     "input": [
      "df.data.astype('float')"
     ],
     "language": "python",
     "metadata": {},
     "outputs": [
      {
       "metadata": {},
       "output_type": "pyout",
       "prompt_number": 31,
       "text": [
        "0     0\n",
        "1   NaN\n",
        "2     2\n",
        "3   NaN\n",
        "4   NaN\n",
        "5   NaN\n",
        "6     6\n",
        "7   NaN\n",
        "8     8\n",
        "9   NaN\n",
        "Name: data, dtype: float64"
       ]
      }
     ],
     "prompt_number": 31
    },
    {
     "cell_type": "code",
     "collapsed": false,
     "input": [
      "df.data = df.data.astype(np.float)"
     ],
     "language": "python",
     "metadata": {},
     "outputs": [],
     "prompt_number": 32
    },
    {
     "cell_type": "code",
     "collapsed": false,
     "input": [
      "df.data"
     ],
     "language": "python",
     "metadata": {},
     "outputs": [
      {
       "metadata": {},
       "output_type": "pyout",
       "prompt_number": 33,
       "text": [
        "0     0\n",
        "1   NaN\n",
        "2     2\n",
        "3   NaN\n",
        "4   NaN\n",
        "5   NaN\n",
        "6     6\n",
        "7   NaN\n",
        "8     8\n",
        "9   NaN\n",
        "Name: data, dtype: float64"
       ]
      }
     ],
     "prompt_number": 33
    },
    {
     "cell_type": "code",
     "collapsed": false,
     "input": [
      "df.interpolate()"
     ],
     "language": "python",
     "metadata": {},
     "outputs": [
      {
       "html": [
        "<div style=\"max-height:1000px;max-width:1500px;overflow:auto;\">\n",
        "<table border=\"1\" class=\"dataframe\">\n",
        "  <thead>\n",
        "    <tr style=\"text-align: right;\">\n",
        "      <th></th>\n",
        "      <th>data</th>\n",
        "      <th>fulldata</th>\n",
        "    </tr>\n",
        "  </thead>\n",
        "  <tbody>\n",
        "    <tr>\n",
        "      <th>0</th>\n",
        "      <td> 0</td>\n",
        "      <td> 0</td>\n",
        "    </tr>\n",
        "    <tr>\n",
        "      <th>1</th>\n",
        "      <td> 1</td>\n",
        "      <td> 1</td>\n",
        "    </tr>\n",
        "    <tr>\n",
        "      <th>2</th>\n",
        "      <td> 2</td>\n",
        "      <td> 2</td>\n",
        "    </tr>\n",
        "    <tr>\n",
        "      <th>3</th>\n",
        "      <td> 3</td>\n",
        "      <td> 3</td>\n",
        "    </tr>\n",
        "    <tr>\n",
        "      <th>4</th>\n",
        "      <td> 4</td>\n",
        "      <td> 4</td>\n",
        "    </tr>\n",
        "    <tr>\n",
        "      <th>5</th>\n",
        "      <td> 5</td>\n",
        "      <td> 5</td>\n",
        "    </tr>\n",
        "    <tr>\n",
        "      <th>6</th>\n",
        "      <td> 6</td>\n",
        "      <td> 6</td>\n",
        "    </tr>\n",
        "    <tr>\n",
        "      <th>7</th>\n",
        "      <td> 7</td>\n",
        "      <td> 7</td>\n",
        "    </tr>\n",
        "    <tr>\n",
        "      <th>8</th>\n",
        "      <td> 8</td>\n",
        "      <td> 8</td>\n",
        "    </tr>\n",
        "    <tr>\n",
        "      <th>9</th>\n",
        "      <td> 8</td>\n",
        "      <td> 9</td>\n",
        "    </tr>\n",
        "  </tbody>\n",
        "</table>\n",
        "</div>"
       ],
       "metadata": {},
       "output_type": "pyout",
       "prompt_number": 34,
       "text": [
        "   data  fulldata\n",
        "0     0         0\n",
        "1     1         1\n",
        "2     2         2\n",
        "3     3         3\n",
        "4     4         4\n",
        "5     5         5\n",
        "6     6         6\n",
        "7     7         7\n",
        "8     8         8\n",
        "9     8         9"
       ]
      }
     ],
     "prompt_number": 34
    },
    {
     "cell_type": "markdown",
     "metadata": {},
     "source": [
      "For a floating-point index, use method='values'"
     ]
    },
    {
     "cell_type": "code",
     "collapsed": false,
     "input": [
      "dfxx = df.ix[[0,2,5,9]]"
     ],
     "language": "python",
     "metadata": {},
     "outputs": [],
     "prompt_number": 35
    },
    {
     "cell_type": "code",
     "collapsed": false,
     "input": [
      "dfxx"
     ],
     "language": "python",
     "metadata": {},
     "outputs": [
      {
       "html": [
        "<div style=\"max-height:1000px;max-width:1500px;overflow:auto;\">\n",
        "<table border=\"1\" class=\"dataframe\">\n",
        "  <thead>\n",
        "    <tr style=\"text-align: right;\">\n",
        "      <th></th>\n",
        "      <th>data</th>\n",
        "      <th>fulldata</th>\n",
        "    </tr>\n",
        "  </thead>\n",
        "  <tbody>\n",
        "    <tr>\n",
        "      <th>0</th>\n",
        "      <td>  0</td>\n",
        "      <td> 0</td>\n",
        "    </tr>\n",
        "    <tr>\n",
        "      <th>2</th>\n",
        "      <td>  2</td>\n",
        "      <td> 2</td>\n",
        "    </tr>\n",
        "    <tr>\n",
        "      <th>5</th>\n",
        "      <td>NaN</td>\n",
        "      <td> 5</td>\n",
        "    </tr>\n",
        "    <tr>\n",
        "      <th>9</th>\n",
        "      <td>NaN</td>\n",
        "      <td> 9</td>\n",
        "    </tr>\n",
        "  </tbody>\n",
        "</table>\n",
        "</div>"
       ],
       "metadata": {},
       "output_type": "pyout",
       "prompt_number": 36,
       "text": [
        "   data  fulldata\n",
        "0     0         0\n",
        "2     2         2\n",
        "5   NaN         5\n",
        "9   NaN         9"
       ]
      }
     ],
     "prompt_number": 36
    },
    {
     "cell_type": "code",
     "collapsed": false,
     "input": [
      "dfxx.interpolate()"
     ],
     "language": "python",
     "metadata": {},
     "outputs": [
      {
       "html": [
        "<div style=\"max-height:1000px;max-width:1500px;overflow:auto;\">\n",
        "<table border=\"1\" class=\"dataframe\">\n",
        "  <thead>\n",
        "    <tr style=\"text-align: right;\">\n",
        "      <th></th>\n",
        "      <th>data</th>\n",
        "      <th>fulldata</th>\n",
        "    </tr>\n",
        "  </thead>\n",
        "  <tbody>\n",
        "    <tr>\n",
        "      <th>0</th>\n",
        "      <td> 0</td>\n",
        "      <td> 0</td>\n",
        "    </tr>\n",
        "    <tr>\n",
        "      <th>2</th>\n",
        "      <td> 2</td>\n",
        "      <td> 2</td>\n",
        "    </tr>\n",
        "    <tr>\n",
        "      <th>5</th>\n",
        "      <td> 2</td>\n",
        "      <td> 5</td>\n",
        "    </tr>\n",
        "    <tr>\n",
        "      <th>9</th>\n",
        "      <td> 2</td>\n",
        "      <td> 9</td>\n",
        "    </tr>\n",
        "  </tbody>\n",
        "</table>\n",
        "</div>"
       ],
       "metadata": {},
       "output_type": "pyout",
       "prompt_number": 37,
       "text": [
        "   data  fulldata\n",
        "0     0         0\n",
        "2     2         2\n",
        "5     2         5\n",
        "9     2         9"
       ]
      }
     ],
     "prompt_number": 37
    },
    {
     "cell_type": "code",
     "collapsed": false,
     "input": [
      "dfxx.interpolate(method='values')"
     ],
     "language": "python",
     "metadata": {},
     "outputs": [
      {
       "html": [
        "<div style=\"max-height:1000px;max-width:1500px;overflow:auto;\">\n",
        "<table border=\"1\" class=\"dataframe\">\n",
        "  <thead>\n",
        "    <tr style=\"text-align: right;\">\n",
        "      <th></th>\n",
        "      <th>data</th>\n",
        "      <th>fulldata</th>\n",
        "    </tr>\n",
        "  </thead>\n",
        "  <tbody>\n",
        "    <tr>\n",
        "      <th>0</th>\n",
        "      <td> 0</td>\n",
        "      <td> 0</td>\n",
        "    </tr>\n",
        "    <tr>\n",
        "      <th>2</th>\n",
        "      <td> 2</td>\n",
        "      <td> 2</td>\n",
        "    </tr>\n",
        "    <tr>\n",
        "      <th>5</th>\n",
        "      <td> 2</td>\n",
        "      <td> 5</td>\n",
        "    </tr>\n",
        "    <tr>\n",
        "      <th>9</th>\n",
        "      <td> 2</td>\n",
        "      <td> 9</td>\n",
        "    </tr>\n",
        "  </tbody>\n",
        "</table>\n",
        "</div>"
       ],
       "metadata": {},
       "output_type": "pyout",
       "prompt_number": 38,
       "text": [
        "   data  fulldata\n",
        "0     0         0\n",
        "2     2         2\n",
        "5     2         5\n",
        "9     2         9"
       ]
      }
     ],
     "prompt_number": 38
    },
    {
     "cell_type": "markdown",
     "metadata": {},
     "source": [
      "As a practical review of what's discussed here see this [summary](http://manishamde.github.io/blog/2013/03/07/pandas-and-python-top-10/#missing)"
     ]
    },
    {
     "cell_type": "markdown",
     "metadata": {},
     "source": [
      "### Tips"
     ]
    },
    {
     "cell_type": "markdown",
     "metadata": {},
     "source": [
      "Food servers\u2019 tips in restaurants may be influenced by many factors, including the nature of the restaurant, size of the party, and table locations in the restaurant. Restaurant managers need to know which factors matter when they assign tables to food servers. For the sake of staff morale, they usually want to avoid either the substance or the appearance of unfair treatment of the servers, for whom tips (at least in restaurants in the United States) are a major component of pay."
     ]
    },
    {
     "cell_type": "markdown",
     "metadata": {},
     "source": [
      "In one restaurant, a food server recorded the following data on all customers they served during an interval of two and a half months in early 1990. The restaurant, located in a suburban shopping mall, was part of a national chain and served a varied menu. In observance of local law the restaurant offered seating in a non-smoking section to patrons who requested it. Each record includes a day and time, and taken together, they show the server\u2019s work schedule."
     ]
    },
    {
     "cell_type": "markdown",
     "metadata": {},
     "source": [
      "    Source: Bryant, P. G. and Smith, M. A. (1995), Practical Data Analysis:\n",
      "    Case Studies in Business Statistics, Richard D. Irwin Publishing, Homewood, IL."
     ]
    },
    {
     "cell_type": "markdown",
     "metadata": {},
     "source": [
      "**What are the factors that affect tipping behavior?**"
     ]
    },
    {
     "cell_type": "markdown",
     "metadata": {},
     "source": [
      "#### Load the Dataset"
     ]
    },
    {
     "cell_type": "code",
     "collapsed": false,
     "input": [
      "from ggplot import *\n",
      "\n",
      "tips = pd.read_csv('../data/tips.csv')"
     ],
     "language": "python",
     "metadata": {},
     "outputs": [],
     "prompt_number": 49
    },
    {
     "cell_type": "code",
     "collapsed": false,
     "input": [
      "tips.head()"
     ],
     "language": "python",
     "metadata": {},
     "outputs": [
      {
       "html": [
        "<div style=\"max-height:1000px;max-width:1500px;overflow:auto;\">\n",
        "<table border=\"1\" class=\"dataframe\">\n",
        "  <thead>\n",
        "    <tr style=\"text-align: right;\">\n",
        "      <th></th>\n",
        "      <th>obs</th>\n",
        "      <th>totbill</th>\n",
        "      <th>tip</th>\n",
        "      <th>sex</th>\n",
        "      <th>smoker</th>\n",
        "      <th>day</th>\n",
        "      <th>time</th>\n",
        "      <th>size</th>\n",
        "    </tr>\n",
        "  </thead>\n",
        "  <tbody>\n",
        "    <tr>\n",
        "      <th>0</th>\n",
        "      <td> 1</td>\n",
        "      <td> 16.99</td>\n",
        "      <td> 1.01</td>\n",
        "      <td> F</td>\n",
        "      <td> No</td>\n",
        "      <td> Sun</td>\n",
        "      <td> Night</td>\n",
        "      <td> 2</td>\n",
        "    </tr>\n",
        "    <tr>\n",
        "      <th>1</th>\n",
        "      <td> 2</td>\n",
        "      <td> 10.34</td>\n",
        "      <td> 1.66</td>\n",
        "      <td> M</td>\n",
        "      <td> No</td>\n",
        "      <td> Sun</td>\n",
        "      <td> Night</td>\n",
        "      <td> 3</td>\n",
        "    </tr>\n",
        "    <tr>\n",
        "      <th>2</th>\n",
        "      <td> 3</td>\n",
        "      <td> 21.01</td>\n",
        "      <td> 3.50</td>\n",
        "      <td> M</td>\n",
        "      <td> No</td>\n",
        "      <td> Sun</td>\n",
        "      <td> Night</td>\n",
        "      <td> 3</td>\n",
        "    </tr>\n",
        "    <tr>\n",
        "      <th>3</th>\n",
        "      <td> 4</td>\n",
        "      <td> 23.68</td>\n",
        "      <td> 3.31</td>\n",
        "      <td> M</td>\n",
        "      <td> No</td>\n",
        "      <td> Sun</td>\n",
        "      <td> Night</td>\n",
        "      <td> 2</td>\n",
        "    </tr>\n",
        "    <tr>\n",
        "      <th>4</th>\n",
        "      <td> 5</td>\n",
        "      <td> 24.59</td>\n",
        "      <td> 3.61</td>\n",
        "      <td> F</td>\n",
        "      <td> No</td>\n",
        "      <td> Sun</td>\n",
        "      <td> Night</td>\n",
        "      <td> 4</td>\n",
        "    </tr>\n",
        "  </tbody>\n",
        "</table>\n",
        "</div>"
       ],
       "metadata": {},
       "output_type": "pyout",
       "prompt_number": 40,
       "text": [
        "   obs  totbill   tip sex smoker  day   time  size\n",
        "0    1    16.99  1.01   F     No  Sun  Night     2\n",
        "1    2    10.34  1.66   M     No  Sun  Night     3\n",
        "2    3    21.01  3.50   M     No  Sun  Night     3\n",
        "3    4    23.68  3.31   M     No  Sun  Night     2\n",
        "4    5    24.59  3.61   F     No  Sun  Night     4"
       ]
      }
     ],
     "prompt_number": 40
    },
    {
     "cell_type": "code",
     "collapsed": false,
     "input": [
      "tips.tail()"
     ],
     "language": "python",
     "metadata": {},
     "outputs": [
      {
       "html": [
        "<div style=\"max-height:1000px;max-width:1500px;overflow:auto;\">\n",
        "<table border=\"1\" class=\"dataframe\">\n",
        "  <thead>\n",
        "    <tr style=\"text-align: right;\">\n",
        "      <th></th>\n",
        "      <th>obs</th>\n",
        "      <th>totbill</th>\n",
        "      <th>tip</th>\n",
        "      <th>sex</th>\n",
        "      <th>smoker</th>\n",
        "      <th>day</th>\n",
        "      <th>time</th>\n",
        "      <th>size</th>\n",
        "    </tr>\n",
        "  </thead>\n",
        "  <tbody>\n",
        "    <tr>\n",
        "      <th>239</th>\n",
        "      <td> 240</td>\n",
        "      <td> 29.03</td>\n",
        "      <td> 5.92</td>\n",
        "      <td> M</td>\n",
        "      <td>  No</td>\n",
        "      <td> Sat</td>\n",
        "      <td> Night</td>\n",
        "      <td> 3</td>\n",
        "    </tr>\n",
        "    <tr>\n",
        "      <th>240</th>\n",
        "      <td> 241</td>\n",
        "      <td> 27.18</td>\n",
        "      <td> 2.00</td>\n",
        "      <td> F</td>\n",
        "      <td> Yes</td>\n",
        "      <td> Sat</td>\n",
        "      <td> Night</td>\n",
        "      <td> 2</td>\n",
        "    </tr>\n",
        "    <tr>\n",
        "      <th>241</th>\n",
        "      <td> 242</td>\n",
        "      <td> 22.67</td>\n",
        "      <td> 2.00</td>\n",
        "      <td> M</td>\n",
        "      <td> Yes</td>\n",
        "      <td> Sat</td>\n",
        "      <td> Night</td>\n",
        "      <td> 2</td>\n",
        "    </tr>\n",
        "    <tr>\n",
        "      <th>242</th>\n",
        "      <td> 243</td>\n",
        "      <td> 17.82</td>\n",
        "      <td> 1.75</td>\n",
        "      <td> M</td>\n",
        "      <td>  No</td>\n",
        "      <td> Sat</td>\n",
        "      <td> Night</td>\n",
        "      <td> 2</td>\n",
        "    </tr>\n",
        "    <tr>\n",
        "      <th>243</th>\n",
        "      <td> 244</td>\n",
        "      <td> 18.78</td>\n",
        "      <td> 3.00</td>\n",
        "      <td> F</td>\n",
        "      <td>  No</td>\n",
        "      <td> Thu</td>\n",
        "      <td> Night</td>\n",
        "      <td> 2</td>\n",
        "    </tr>\n",
        "  </tbody>\n",
        "</table>\n",
        "</div>"
       ],
       "metadata": {},
       "output_type": "pyout",
       "prompt_number": 41,
       "text": [
        "     obs  totbill   tip sex smoker  day   time  size\n",
        "239  240    29.03  5.92   M     No  Sat  Night     3\n",
        "240  241    27.18  2.00   F    Yes  Sat  Night     2\n",
        "241  242    22.67  2.00   M    Yes  Sat  Night     2\n",
        "242  243    17.82  1.75   M     No  Sat  Night     2\n",
        "243  244    18.78  3.00   F     No  Thu  Night     2"
       ]
      }
     ],
     "prompt_number": 41
    },
    {
     "cell_type": "markdown",
     "metadata": {},
     "source": [
      "#### Inspect the variables"
     ]
    },
    {
     "cell_type": "code",
     "collapsed": false,
     "input": [
      "tips.describe()"
     ],
     "language": "python",
     "metadata": {},
     "outputs": [
      {
       "html": [
        "<div style=\"max-height:1000px;max-width:1500px;overflow:auto;\">\n",
        "<table border=\"1\" class=\"dataframe\">\n",
        "  <thead>\n",
        "    <tr style=\"text-align: right;\">\n",
        "      <th></th>\n",
        "      <th>obs</th>\n",
        "      <th>totbill</th>\n",
        "      <th>tip</th>\n",
        "      <th>size</th>\n",
        "    </tr>\n",
        "  </thead>\n",
        "  <tbody>\n",
        "    <tr>\n",
        "      <th>count</th>\n",
        "      <td> 244.000000</td>\n",
        "      <td> 244.000000</td>\n",
        "      <td> 244.000000</td>\n",
        "      <td> 244.000000</td>\n",
        "    </tr>\n",
        "    <tr>\n",
        "      <th>mean</th>\n",
        "      <td> 122.500000</td>\n",
        "      <td>  19.785943</td>\n",
        "      <td>   2.998279</td>\n",
        "      <td>   2.569672</td>\n",
        "    </tr>\n",
        "    <tr>\n",
        "      <th>std</th>\n",
        "      <td>  70.580923</td>\n",
        "      <td>   8.902412</td>\n",
        "      <td>   1.383638</td>\n",
        "      <td>   0.951100</td>\n",
        "    </tr>\n",
        "    <tr>\n",
        "      <th>min</th>\n",
        "      <td>   1.000000</td>\n",
        "      <td>   3.070000</td>\n",
        "      <td>   1.000000</td>\n",
        "      <td>   1.000000</td>\n",
        "    </tr>\n",
        "    <tr>\n",
        "      <th>25%</th>\n",
        "      <td>  61.750000</td>\n",
        "      <td>  13.347500</td>\n",
        "      <td>   2.000000</td>\n",
        "      <td>   2.000000</td>\n",
        "    </tr>\n",
        "    <tr>\n",
        "      <th>50%</th>\n",
        "      <td> 122.500000</td>\n",
        "      <td>  17.795000</td>\n",
        "      <td>   2.900000</td>\n",
        "      <td>   2.000000</td>\n",
        "    </tr>\n",
        "    <tr>\n",
        "      <th>75%</th>\n",
        "      <td> 183.250000</td>\n",
        "      <td>  24.127500</td>\n",
        "      <td>   3.562500</td>\n",
        "      <td>   3.000000</td>\n",
        "    </tr>\n",
        "    <tr>\n",
        "      <th>max</th>\n",
        "      <td> 244.000000</td>\n",
        "      <td>  50.810000</td>\n",
        "      <td>  10.000000</td>\n",
        "      <td>   6.000000</td>\n",
        "    </tr>\n",
        "  </tbody>\n",
        "</table>\n",
        "</div>"
       ],
       "metadata": {},
       "output_type": "pyout",
       "prompt_number": 42,
       "text": [
        "              obs     totbill         tip        size\n",
        "count  244.000000  244.000000  244.000000  244.000000\n",
        "mean   122.500000   19.785943    2.998279    2.569672\n",
        "std     70.580923    8.902412    1.383638    0.951100\n",
        "min      1.000000    3.070000    1.000000    1.000000\n",
        "25%     61.750000   13.347500    2.000000    2.000000\n",
        "50%    122.500000   17.795000    2.900000    2.000000\n",
        "75%    183.250000   24.127500    3.562500    3.000000\n",
        "max    244.000000   50.810000   10.000000    6.000000"
       ]
      }
     ],
     "prompt_number": 42
    },
    {
     "cell_type": "code",
     "collapsed": false,
     "input": [
      "# info() is more informative than 'describe()' as\n",
      "# it gives you the datatypes length of dataset\n",
      "tips.info()"
     ],
     "language": "python",
     "metadata": {},
     "outputs": [
      {
       "output_type": "stream",
       "stream": "stdout",
       "text": [
        "<class 'pandas.core.frame.DataFrame'>\n",
        "Int64Index: 244 entries, 0 to 243\n",
        "Data columns (total 8 columns):\n",
        "obs        244 non-null int64\n",
        "totbill    244 non-null float64\n",
        "tip        244 non-null float64\n",
        "sex        244 non-null object\n",
        "smoker     244 non-null object\n",
        "day        244 non-null object\n",
        "time       244 non-null object\n",
        "size       244 non-null int64\n",
        "dtypes: float64(2), int64(2), object(4)"
       ]
      }
     ],
     "prompt_number": 43
    },
    {
     "cell_type": "code",
     "collapsed": false,
     "input": [
      "# Look at a random sample of the rows\n",
      "tips.ix[random.sample(tips.index,10)]"
     ],
     "language": "python",
     "metadata": {},
     "outputs": [
      {
       "ename": "TypeError",
       "evalue": "random_sample() takes at most 1 positional argument (2 given)",
       "output_type": "pyerr",
       "traceback": [
        "\u001b[1;31m---------------------------------------------------------------------------\u001b[0m\n\u001b[1;31mTypeError\u001b[0m                                 Traceback (most recent call last)",
        "\u001b[1;32m<ipython-input-44-7427310507ed>\u001b[0m in \u001b[0;36m<module>\u001b[1;34m()\u001b[0m\n\u001b[0;32m      1\u001b[0m \u001b[1;31m# Look at a random sample of the rows\u001b[0m\u001b[1;33m\u001b[0m\u001b[1;33m\u001b[0m\u001b[0m\n\u001b[1;32m----> 2\u001b[1;33m \u001b[0mtips\u001b[0m\u001b[1;33m.\u001b[0m\u001b[0mix\u001b[0m\u001b[1;33m[\u001b[0m\u001b[0mrandom\u001b[0m\u001b[1;33m.\u001b[0m\u001b[0msample\u001b[0m\u001b[1;33m(\u001b[0m\u001b[0mtips\u001b[0m\u001b[1;33m.\u001b[0m\u001b[0mindex\u001b[0m\u001b[1;33m,\u001b[0m\u001b[1;36m10\u001b[0m\u001b[1;33m)\u001b[0m\u001b[1;33m]\u001b[0m\u001b[1;33m\u001b[0m\u001b[0m\n\u001b[0m",
        "\u001b[1;32m/usr/local/lib/python2.7/dist-packages/numpy/random/mtrand.so\u001b[0m in \u001b[0;36mmtrand.RandomState.random_sample (numpy/random/mtrand/mtrand.c:8802)\u001b[1;34m()\u001b[0m\n",
        "\u001b[1;31mTypeError\u001b[0m: random_sample() takes at most 1 positional argument (2 given)"
       ]
      }
     ],
     "prompt_number": 44
    },
    {
     "cell_type": "code",
     "collapsed": false,
     "input": [
      "# Inspect head and tail of the dataset"
     ],
     "language": "python",
     "metadata": {},
     "outputs": []
    },
    {
     "cell_type": "code",
     "collapsed": false,
     "input": [
      "tips.head()"
     ],
     "language": "python",
     "metadata": {},
     "outputs": []
    },
    {
     "cell_type": "code",
     "collapsed": false,
     "input": [
      "tips.tail()"
     ],
     "language": "python",
     "metadata": {},
     "outputs": []
    },
    {
     "cell_type": "markdown",
     "metadata": {},
     "source": [
      "We look first at the variable of greatest interest to the waiter: tip. A common graph for looking at a single variable is the histogram, where data values are binned and the count is represented by a rectangular bar."
     ]
    },
    {
     "cell_type": "markdown",
     "metadata": {},
     "source": [
      "### Tip\n",
      "\n",
      "Start your exploration of a single parameter - usually you'd pick the more important one for your research question."
     ]
    },
    {
     "cell_type": "code",
     "collapsed": false,
     "input": [
      "ggplot(tips, aes(x='tip', y='totbill')) +  geom_histogram(binwidth=1)"
     ],
     "language": "python",
     "metadata": {},
     "outputs": []
    },
    {
     "cell_type": "code",
     "collapsed": false,
     "input": [
      "ggplot(tips, aes(x='tip')) + geom_histogram(binwidth=1)"
     ],
     "language": "python",
     "metadata": {},
     "outputs": []
    },
    {
     "cell_type": "code",
     "collapsed": false,
     "input": [],
     "language": "python",
     "metadata": {},
     "outputs": []
    },
    {
     "cell_type": "code",
     "collapsed": false,
     "input": [
      "# Draw with black outline, yellow fill\n",
      "ggplot(tips, aes(x='tip')) + \\\n",
      "geom_histogram(binwidth=1, colour=\"black\", fill=\"yellow\")"
     ],
     "language": "python",
     "metadata": {},
     "outputs": []
    },
    {
     "cell_type": "code",
     "collapsed": false,
     "input": [
      "# Density curve\n",
      "ggplot(tips, aes(x='tip')) + geom_density()"
     ],
     "language": "python",
     "metadata": {},
     "outputs": []
    },
    {
     "cell_type": "code",
     "collapsed": false,
     "input": [
      "# Histogram overlaid with kernel density curve\n",
      "ggplot(tips, aes(x='tip')) + \\\n",
      "    geom_histogram(aes(y='..density..'),      # Histogram with density instead of count on y-axis\n",
      "                   binwidth=0.1,\n",
      "                   colour=\"black\", fill=\"yellow\")"
     ],
     "language": "python",
     "metadata": {},
     "outputs": []
    },
    {
     "cell_type": "code",
     "collapsed": false,
     "input": [
      "avg_tips = np.mean(tips.tip)\n",
      "\n",
      "\n",
      "ggplot(tips, aes(x='tip', fill='sex')) + \\\n",
      "    geom_histogram(binwidth=1,\n",
      "                color=\"blue\",\n",
      "                fill=\"yellow\") + \\\n",
      "    geom_vline(aes(xintercept=avg_tips),\n",
      "            color='red',\n",
      "            linetype='dashed',\n",
      "            size = 5)\n",
      "\n",
      "               "
     ],
     "language": "python",
     "metadata": {},
     "outputs": []
    },
    {
     "cell_type": "code",
     "collapsed": false,
     "input": [
      "# Add a line for the mean:\n",
      "avg_tips = np.mean(tips.tip)\n",
      "\n",
      "ggplot(tips, aes(x='tip')) + \\\n",
      "    geom_histogram(aes(y='..density..'),      # Histogram with density instead of count on y-axis\n",
      "                   binwidth=1,\n",
      "                   colour=\"black\",\n",
      "                   fill=\"yellow\") + \\\n",
      "    geom_vline(aes(xintercept=avg_tips),\n",
      "               color=\"red\",\n",
      "               linetype=\"dashed\",\n",
      "               size=2)"
     ],
     "language": "python",
     "metadata": {},
     "outputs": []
    },
    {
     "cell_type": "markdown",
     "metadata": {},
     "source": [
      "The distribution appears to be unimodal; that is, it has one peak, the bar representing the tips greater than \\$1.50 and less than or equal \\$2.50. There are\n",
      "very few tips of \\$1.50 or less. The number of larger tips trails off rapidly, which suggests that this is not a very expensive restaurant.\n",
      "\n",
      "The conclusions drawn from a histogram are often influenced by the choice of bin width, which is a parameter of the _graph_ and not of the _data_.\n"
     ]
    },
    {
     "cell_type": "markdown",
     "metadata": {},
     "source": [
      "#### Tip 2\n",
      "Experiment with different bin-widths for you histograms - at low granulairty, you'll get a better idea of the overall distribution, at higher levels of granulairty you can inspect whether any 'clipping' is occuring. In other words, **a large bin width smooths out the graph and shows rough or global trends, whereas a smaller bin width highlights more local features**."
     ]
    },
    {
     "cell_type": "code",
     "collapsed": false,
     "input": [
      "tips.head()"
     ],
     "language": "python",
     "metadata": {},
     "outputs": []
    },
    {
     "cell_type": "code",
     "collapsed": false,
     "input": [
      "# Draw with black outline, yellow fill, binwidth at $0.10\n",
      "p01 = ggplot(tips, aes(x='tip')) + geom_histogram(binwidth=0.1, colour=\"black\", fill=\"yellow\")\n",
      "\n",
      "# Draw with black outline, yellow fill, binwidth at $0.50\n",
      "p05 = ggplot(tips, aes(x='tip')) + geom_histogram(binwidth=0.5, colour=\"black\", fill=\"yellow\")\n",
      "\n",
      "# Draw with black outline, yellow fill, binwidth at $1\n",
      "p1 = ggplot(tips, aes(x='tip')) + geom_histogram(binwidth=1, colour=\"black\", fill=\"yellow\")\n",
      "\n",
      "# Draw with black outline, yellow fill, binwidth at $1\n",
      "p4 = ggplot(tips, aes(x='tip')) + geom_histogram(binwidth=4, colour=\"black\", fill=\"yellow\")"
     ],
     "language": "python",
     "metadata": {},
     "outputs": []
    },
    {
     "cell_type": "code",
     "collapsed": false,
     "input": [
      "p01"
     ],
     "language": "python",
     "metadata": {},
     "outputs": []
    },
    {
     "cell_type": "code",
     "collapsed": false,
     "input": [
      "p05"
     ],
     "language": "python",
     "metadata": {},
     "outputs": []
    },
    {
     "cell_type": "code",
     "collapsed": false,
     "input": [
      "p1"
     ],
     "language": "python",
     "metadata": {},
     "outputs": []
    },
    {
     "cell_type": "code",
     "collapsed": false,
     "input": [
      "p4"
     ],
     "language": "python",
     "metadata": {},
     "outputs": []
    },
    {
     "cell_type": "markdown",
     "metadata": {},
     "source": [
      "This shows a histogram with a smaller bin width, 10c. At the smaller bin width the shape is multimodal, and it is clear that there are large peaks at the full\n",
      "dollars and smaller peaks at the half dollar. This shows that the customers tended to round the tip to the nearest fifty cents or dollar.\n",
      "\n",
      "So far we have not addressed the primary question: What relationships exist between tip and the other variables? Since the tip is usually calculated\n",
      "based on the bill, it is natural to look first at a graph of tip and bill. A common graph for looking at a pair of continuous variables is the scatterplot.\n"
     ]
    },
    {
     "cell_type": "markdown",
     "metadata": {},
     "source": [
      "### Scatterplot"
     ]
    },
    {
     "cell_type": "code",
     "collapsed": false,
     "input": [
      "# GET EQUATION AND R-SQUARED AS STRING\n",
      "# SOURCE: http://goo.gl/K4yh\n",
      "tb = tips['totbill']\n",
      "tr = tips['totbill'] * 0.18\n",
      "\n",
      "ggplot(aes(x = 'totbill', y = 'tip'), data = tips) + \\\n",
      "    geom_line(aes(tb, tr), colour = \"red\", size = 1,) + \\\n",
      "    geom_point(colour = \"black\", size = 5)\n"
     ],
     "language": "python",
     "metadata": {},
     "outputs": []
    },
    {
     "cell_type": "markdown",
     "metadata": {},
     "source": [
      "We see that the variables are highly correlated ($r$ = 0.68), which confirms that tip is calculated from the bill. We have added a line representing a tip rate of 18\\%. Disappointingly for the waiter, there are many more points below the line than above it: There are many more \u201ccheap tippers\u201d than generous tippers. There are a couple of notable exceptions, especially one party who gave a \\$5.15 tip for a \\$7.25 bill, which works out to a tip rate of about 70%."
     ]
    },
    {
     "cell_type": "markdown",
     "metadata": {},
     "source": [
      "**Histogram and density plots with multiple groups**"
     ]
    },
    {
     "cell_type": "code",
     "collapsed": false,
     "input": [
      "tips.head()"
     ],
     "language": "python",
     "metadata": {},
     "outputs": []
    },
    {
     "cell_type": "code",
     "collapsed": false,
     "input": [
      "# Overlaid histograms\n",
      "ggplot(tips, aes(x='tip', fill='sex')) + \\\n",
      "    geom_histogram(binwidth=1, alpha=.5, position=\"identity\")"
     ],
     "language": "python",
     "metadata": {},
     "outputs": []
    },
    {
     "cell_type": "code",
     "collapsed": false,
     "input": [
      "# Density plots\n",
      "ggplot(tips, aes(x='tip', colour='sex')) + geom_density()"
     ],
     "language": "python",
     "metadata": {},
     "outputs": []
    },
    {
     "cell_type": "code",
     "collapsed": false,
     "input": [
      "# Density plots with semi-transparent fill\n",
      "ggplot(tips, aes(x='tip', fill='sex')) + geom_density(alpha=.2)"
     ],
     "language": "python",
     "metadata": {},
     "outputs": []
    },
    {
     "cell_type": "markdown",
     "metadata": {},
     "source": [
      "We said earlier that an essential aspect of data visualization is capturing relationships among many variables: three, four, or even more. This dataset,\n",
      "simple as it is, illustrates the point. Let us ask, for example, how a third variable such as sex affects the relationship between tip and bill. As sex is\n",
      "categorical with two levels (i.e., binary), it is natural to divide the data into female and male payers and to generate two scatterplots of tip vs. bill. Let us go even further by including a fourth variable, smoking, which is also binary. We now divide the data into four parts and generate the four scatterplots."
     ]
    },
    {
     "cell_type": "code",
     "collapsed": false,
     "input": [
      "%%R\n",
      "\n",
      "# The R version of this code - will soon be updated to python code.\n",
      "\n",
      "install.packages('ggplot2')\n",
      "library('ggplot2')\n",
      "tips <- read.csv('../data//tips.csv')\n",
      "\n",
      "# GET EQUATION AND R-SQUARED AS STRING\n",
      "# SOURCE: http://goo.gl/K4yhz\n",
      "\n",
      "plt_cor <- function(subs,x,y) {\n",
      "  plot_cor <- cor(subs[[x]],subs[[y]])\n",
      "  return(round(plot_cor,2))\n",
      "}\n",
      "\n",
      "p1 <- ggplot(data = subset(tips, (sex == 'M' & smoker == 'No')), aes(x = totbill, y = tip)) +\n",
      "        geom_point(colour = \"black\", size = 5) +\n",
      "        geom_line(colour = \"red\", size = 1, aes(totbill, totbill*0.18)) +\n",
      "        geom_text(aes(45, 7 ,label = '18%', vjust = -1)) +\n",
      "        geom_text(aes(10, 9 ,label = paste('r', plt_cor(subset(tips, (sex == 'M' & smoker == 'No')),'totbill','tip')), vjust = -1)) +\n",
      "        ggtitle(\"Male Non-Smokers\") +\n",
      "        xlim(1,50) + ylim(1,10)\n",
      "\n",
      "p2 <- ggplot(data = subset(tips, (sex == 'M' & smoker == 'Yes')), aes(x = totbill, y = tip)) +\n",
      "        geom_point(colour = \"black\", size = 5) +\n",
      "        geom_line(colour = \"red\", size = 1, aes(totbill, totbill*0.18)) +\n",
      "        geom_text(aes(45, 7 ,label = '18%', vjust = -1)) +\n",
      "        geom_text(aes(10, 9 ,label = paste('r', plt_cor(subset(tips, (sex == 'M' & smoker == 'Yes')),'totbill','tip')), vjust = -1)) +\n",
      "        ggtitle(\"Male Smokers\") +\n",
      "        xlim(1,50) + ylim(1,10)\n",
      "\n",
      "\n",
      "p3 <- ggplot(data = subset(tips, (sex == 'F' & smoker == 'No')), aes(x = totbill, y = tip)) +\n",
      "        geom_point(colour = \"black\", size = 5) +\n",
      "        geom_line(colour = \"red\", size = 1, aes(totbill, totbill*0.18)) +\n",
      "        geom_text(aes(45, 7 ,label = '18%', vjust = -1)) +\n",
      "        geom_text(aes(10, 9 ,label = paste('r', plt_cor(subset(tips, (sex == 'F' & smoker == 'No')),'totbill','tip')), vjust = -1)) +\n",
      "        ggtitle(\"Female Non-Smokers\") +\n",
      "        xlim(1,50) + ylim(1,10)\n",
      "\n",
      "\n",
      "p4 <- ggplot(data = subset(tips, (sex == 'F' & smoker == 'Yes')), aes(x = totbill, y = tip)) +\n",
      "        geom_point(colour = \"black\", size = 5) +\n",
      "        geom_line(colour = \"red\", size = 1, aes(totbill, totbill*0.18)) +\n",
      "        geom_text(aes(45, 7 ,label = '18%', vjust = -1)) +\n",
      "        geom_text(aes(10, 9 ,label = paste('r', plt_cor(subset(tips, (sex == 'F' & smoker == 'Yes')),'totbill','tip')), vjust = -1)) +\n",
      "        ggtitle(\"Female Smokers\") +\n",
      "        xlim(1,50) + ylim(1,10)\n",
      "\n",
      "grid.arrange(p1, p2, p3, p4, ncol = 2, main = \"Scatterplots with different sample subsets\")"
     ],
     "language": "python",
     "metadata": {},
     "outputs": []
    },
    {
     "cell_type": "markdown",
     "metadata": {},
     "source": [
      "![](assets/unnamed-chunk-52-1.png)"
     ]
    },
    {
     "cell_type": "markdown",
     "metadata": {},
     "source": [
      "Inspecting these plots reveals numerous features:"
     ]
    },
    {
     "cell_type": "markdown",
     "metadata": {},
     "source": [
      "1. For smoking parties, there is a lot less association between the size of the tip and the size of the bill; \n",
      "1. When a female non-smoker paid the bill, the tip was a very consistent percentage of the bill, with the exceptions of three dining parties;\n",
      "1. larger bills were mostly paid by men."
     ]
    },
    {
     "cell_type": "markdown",
     "metadata": {},
     "source": [
      "In the above example we gained a wealth of insight in a short time. Using nothing but graphical methods we investigated univariate, bivariate, and multivariate relationships. We found both global features and local detail. We saw that tips were rounded; then we saw the obvious correlation between the tip and the size of the bill, noting the scarcity of generous tippers; finally we discovered differences in the tipping behavior of male and female smokers and non-smokers. In contrast, an old-fashioned approach without graphics would be to fit a regression model. Without subtle regression diagnostics (which rely on graphics!), mmthis approach would miss many of the above insights."
     ]
    },
    {
     "cell_type": "markdown",
     "metadata": {},
     "source": [
      "## The Bigger picture"
     ]
    },
    {
     "cell_type": "markdown",
     "metadata": {},
     "source": [
      "![](assets/images-mod1-big-picture-eda.gif)"
     ]
    },
    {
     "cell_type": "markdown",
     "metadata": {},
     "source": [
      "To understand data analysis, and how visualization fits in, it is useful to talk about it as a process consisting of several stages:"
     ]
    },
    {
     "cell_type": "markdown",
     "metadata": {},
     "source": [
      "#### The problem statement\n",
      "\n",
      "Why do you want to analyze this data? Underlying every dataset is a question or problem statement. For the tipping data the question was provided to us from the data source: \u201cWhat are the factors that affect tipping behavior?\u201d This problem statement drives the process of any data analysis. Sometimes the problem is identified prior to a data collection. Perhaps it is realized after data becomes available because having the data available has made it possible to imagine new issues\n",
      "\n",
      "#### Data preparation\n",
      "\n",
      "During this class, I always hand you a single data matrix with each variable clearly defined. In the real world, it can take a great deal of work to construct a clean data matrix. For example, data values may be missing or misrecorded, data may be distributed across several sources, and the variable definitions and data values may be inconsistent across these sources. It is therefore not uncommon for this stage to consume most of the effort that goes into a project. And it is also not uncommon to loop back to this stage after completing the subsequent stages, to re-prepare and re-analyze the data.\n",
      "\n",
      "#### Exploratory data analysis\n",
      "\n",
      "At this stage in the analysis, we make time to \u201cplay in the sand\u201d to allow us to find the unexpected, and come to some understanding of our data. It is characterized by direct manipulation and dynamic graphics: plots that respond in real time to an analyst\u2019s queries and change dynamically to re-focus, link to information from other sources, and re-organize information. The analyst can work rapidly and thoroughly through the data, slipping out of dead-ends and chasing down new leads. The high level of interactivity is enabled by bare-bones graphics, which are generally not adequate for presentation purposes.\n",
      "\n",
      "#### Quantitative analysis\n",
      "\n",
      "At this stage, we use statistical modeling and statistical interference to answer our primary questions. With statistical models, we summarize complex data, decomposing it into estimates of signal and noise. With statistical inference, we try to assess whether a signal is real. Data visualization plays an important role at this stage, although that is less well known than its key role in exploration. It is helpful both in better understanding a model and in assessing its validity in relation to the data.\n",
      "\n",
      "For Tips, we have not yet answered the primary question of interest. Let\u2019s fit a regression model using tiprate as the response and the remaining variables (except tip and bill) as the explanatory variables. When we do this, only `size` has a significant regression coefficient. "
     ]
    },
    {
     "cell_type": "markdown",
     "metadata": {},
     "source": [
      "`ggplot` support for python is still under development, so for our linear model plots, let's use a tool called seaborn."
     ]
    },
    {
     "cell_type": "code",
     "collapsed": false,
     "input": [
      "!pip install seaborn"
     ],
     "language": "python",
     "metadata": {},
     "outputs": []
    },
    {
     "cell_type": "code",
     "collapsed": false,
     "input": [
      "tips.head()"
     ],
     "language": "python",
     "metadata": {},
     "outputs": []
    },
    {
     "cell_type": "code",
     "collapsed": false,
     "input": [
      "import numpy as np\n",
      "import pandas as pd\n",
      "import seaborn as sns\n",
      "import matplotlib as mpl\n",
      "import matplotlib.pyplot as plt"
     ],
     "language": "python",
     "metadata": {},
     "outputs": [],
     "prompt_number": 51
    },
    {
     "cell_type": "heading",
     "level": 4,
     "metadata": {},
     "source": [
      "Visualizing multiple regression with lmplot()"
     ]
    },
    {
     "cell_type": "code",
     "collapsed": false,
     "input": [
      "sns.lmplot(\"totbill\", \"tip\", tips, size=9, aspect=2)"
     ],
     "language": "python",
     "metadata": {},
     "outputs": [
      {
       "output_type": "stream",
       "stream": "stderr",
       "text": [
        "/usr/lib/pymodules/python2.7/matplotlib/font_manager.py:1236: UserWarning: findfont: Font family ['sans-serif'] not found. Falling back to Bitstream Vera Sans\n",
        "  (prop.get_family(), self.defaultFamily[fontext]))\n",
        "/usr/lib/pymodules/python2.7/matplotlib/font_manager.py:1246: UserWarning: findfont: Could not match :family=Bitstream Vera Sans:style=normal:variant=normal:weight=normal:stretch=normal:size=11.0. Returning /usr/share/matplotlib/mpl-data/fonts/ttf/cmb10.ttf\n",
        "  UserWarning)\n"
       ]
      },
      {
       "metadata": {},
       "output_type": "pyout",
       "prompt_number": 46,
       "text": [
        "<seaborn.axisgrid.FacetGrid at 0x7f43d288d8d0>"
       ]
      },
      {
       "metadata": {},
       "output_type": "display_data",
       "png": "[encoded data removed]",
       "text": [
        "<matplotlib.figure.Figure at 0x7f43d288de90>"
       ]
      }
     ],
     "prompt_number": 46
    },
    {
     "cell_type": "code",
     "collapsed": false,
     "input": [
      "tips"
     ],
     "language": "python",
     "metadata": {},
     "outputs": []
    },
    {
     "cell_type": "markdown",
     "metadata": {},
     "source": [
      "This plot has two main components. The first is a scatterplot, showing the observed datapoints. The second is a regression line, showing the estimated linear model relating the two variables. Because the regression line is only an estimate, it is plotted with a 95% confidence band to give an impression of the certainty in the model. You can plot different levels of certainty"
     ]
    },
    {
     "cell_type": "heading",
     "level": 4,
     "metadata": {},
     "source": [
      "Plotting with discrete predictor variables"
     ]
    },
    {
     "cell_type": "markdown",
     "metadata": {},
     "source": [
      "Sometimes you will want to plot data where the independent variable is quantitative, but discrete. Although this works fine out of the box:"
     ]
    },
    {
     "cell_type": "code",
     "collapsed": false,
     "input": [
      "sns.lmplot(\"size\", \"tip\", tips, size=6, aspect=2)"
     ],
     "language": "python",
     "metadata": {},
     "outputs": [
      {
       "ename": "NameError",
       "evalue": "name 'sns' is not defined",
       "output_type": "pyerr",
       "traceback": [
        "\u001b[1;31m---------------------------------------------------------------------------\u001b[0m\n\u001b[1;31mNameError\u001b[0m                                 Traceback (most recent call last)",
        "\u001b[1;32m<ipython-input-1-5cadda3ddda4>\u001b[0m in \u001b[0;36m<module>\u001b[1;34m()\u001b[0m\n\u001b[1;32m----> 1\u001b[1;33m \u001b[0msns\u001b[0m\u001b[1;33m.\u001b[0m\u001b[0mlmplot\u001b[0m\u001b[1;33m(\u001b[0m\u001b[1;34m\"size\"\u001b[0m\u001b[1;33m,\u001b[0m \u001b[1;34m\"tip\"\u001b[0m\u001b[1;33m,\u001b[0m \u001b[0mtips\u001b[0m\u001b[1;33m,\u001b[0m \u001b[0msize\u001b[0m\u001b[1;33m=\u001b[0m\u001b[1;36m6\u001b[0m\u001b[1;33m,\u001b[0m \u001b[0maspect\u001b[0m\u001b[1;33m=\u001b[0m\u001b[1;36m2\u001b[0m\u001b[1;33m)\u001b[0m\u001b[1;33m\u001b[0m\u001b[0m\n\u001b[0m",
        "\u001b[1;31mNameError\u001b[0m: name 'sns' is not defined"
       ]
      }
     ],
     "prompt_number": 1
    },
    {
     "cell_type": "markdown",
     "metadata": {},
     "source": [
      "And can be improved with a bit of jitter:"
     ]
    },
    {
     "cell_type": "code",
     "collapsed": false,
     "input": [
      "sns.lmplot(\"size\", \"tip\", tips, size=6, aspect=2, x_jitter=.15);"
     ],
     "language": "python",
     "metadata": {},
     "outputs": [
      {
       "metadata": {},
       "output_type": "display_data",
       "png": "[encoded data removed]",
       "text": [
        "<matplotlib.figure.Figure at 0x7feee1ead950>"
       ]
      }
     ],
     "prompt_number": 55
    },
    {
     "cell_type": "markdown",
     "metadata": {},
     "source": [
      "It might be more informative to estimate the central tendency of each bin. This is easy to do with the x_estimator argument. Just pass any function that aggregates a vector of data into one estimate. The estimator will be bootstrapped and a confidence interval will be plotted \u2013 95% by default, as in other cases within these functions."
     ]
    },
    {
     "cell_type": "code",
     "collapsed": false,
     "input": [
      "sns.lmplot(\"size\", \"tip\", tips, x_estimator=np.mean, size=6, aspect=2);"
     ],
     "language": "python",
     "metadata": {},
     "outputs": [
      {
       "metadata": {},
       "output_type": "display_data",
       "png": "[encoded data removed]",
       "text": [
        "<matplotlib.figure.Figure at 0x7feedf2e0c50>"
       ]
      }
     ],
     "prompt_number": 56
    },
    {
     "cell_type": "heading",
     "level": 3,
     "metadata": {},
     "source": [
      "So what about the model?"
     ]
    },
    {
     "cell_type": "markdown",
     "metadata": {},
     "source": [
      "Are we satisfied with this model? We have some doubts about it."
     ]
    },
    {
     "cell_type": "code",
     "collapsed": false,
     "input": [
      "tips['tiprate'] = tips.tip / tips.totbill"
     ],
     "language": "python",
     "metadata": {},
     "outputs": []
    },
    {
     "cell_type": "code",
     "collapsed": false,
     "input": [
      "tips['tiprate']"
     ],
     "language": "python",
     "metadata": {},
     "outputs": []
    },
    {
     "cell_type": "code",
     "collapsed": false,
     "input": [
      "from statsmodels.formula.api import ols\n",
      "\n",
      "results = ols('tip ~ totbill + size', tips).fit()\n",
      "results.summary()"
     ],
     "language": "python",
     "metadata": {},
     "outputs": []
    },
    {
     "cell_type": "markdown",
     "metadata": {},
     "source": [
      "However, in this data it explains only 2% of the variation in tip rate. The points are spread widely around the regression line. There are very few data points for parties of size one, five, and six, which makes us question the validity of the model in these regions. The signal is very weak relative to the noise."
     ]
    },
    {
     "cell_type": "heading",
     "level": 3,
     "metadata": {},
     "source": [
      "Presentation"
     ]
    },
    {
     "cell_type": "markdown",
     "metadata": {},
     "source": [
      "Once an analysis has been completed, the results must be reported, either to clients, managers, or colleagues. The results probably take the form of a narrative and include quantitative summaries such as tables, forecasts, models, and graphics. Quite often, graphics form the bulk of the summaries."
     ]
    },
    {
     "cell_type": "markdown",
     "metadata": {},
     "source": [
      "Let's look at some other ways in which data can be sliced and diced in graphs"
     ]
    },
    {
     "cell_type": "heading",
     "level": 4,
     "metadata": {},
     "source": [
      "Faceted linear model plots"
     ]
    },
    {
     "cell_type": "markdown",
     "metadata": {},
     "source": [
      "The lmplot() function is built on top of a FacetGrid. That means it\u2019s easy to visualize how this relationship changes in different subsets of your dataset. You can read the extended documentation for more details on how the FacetGrid class works. The important thing is that you can supply the names of categorical variables that define subsets of the data to plot in different hues or along the row and columns of a grid of axes.\n",
      "\n",
      "Using a hue facet makes it easiest to directly compare the two subsets:"
     ]
    },
    {
     "cell_type": "code",
     "collapsed": false,
     "input": [
      "sns.lmplot(\"totbill\", \"tip\", tips, hue=\"smoker\", size=8, aspect=2);"
     ],
     "language": "python",
     "metadata": {},
     "outputs": [
      {
       "output_type": "stream",
       "stream": "stderr",
       "text": [
        "/usr/lib/pymodules/python2.7/matplotlib/font_manager.py:1246: UserWarning: findfont: Could not match :family=Bitstream Vera Sans:style=normal:variant=normal:weight=normal:stretch=normal:size=9.35. Returning /usr/share/matplotlib/mpl-data/fonts/ttf/cmb10.ttf\n",
        "  UserWarning)\n"
       ]
      },
      {
       "metadata": {},
       "output_type": "display_data",
       "png": "[encoded data removed]",
       "text": [
        "<matplotlib.figure.Figure at 0x7feede89e350>"
       ]
      }
     ],
     "prompt_number": 57
    },
    {
     "cell_type": "markdown",
     "metadata": {},
     "source": [
      "To make plots that will better reproduce to black-and-white (i.e. when printed), you may want to let the scatterplot marker vary along with the hue variable."
     ]
    },
    {
     "cell_type": "markdown",
     "metadata": {},
     "source": [
      "`lmplot()` accepts all arguments that you would use to initialize a FacetGrid, and it returns the grid object after plotting for further tweaking:"
     ]
    },
    {
     "cell_type": "code",
     "collapsed": false,
     "input": [
      "sns.lmplot(\"totbill\", \"tip\", tips, hue=\"smoker\", markers=[\"x\", \"o\"], size=6, aspect=2);"
     ],
     "language": "python",
     "metadata": {},
     "outputs": []
    },
    {
     "cell_type": "markdown",
     "metadata": {},
     "source": [
      "Plotting in different columns of a grid also makes a plot that\u2019s easy to understand, although direct comparisons between the subsets are more difficult as the data are separated in space. This might be better when you want the viewer to focus on the relationship within each subset independently."
     ]
    },
    {
     "cell_type": "code",
     "collapsed": false,
     "input": [
      "sns.lmplot(\"totbill\", \"tip\", tips, col=\"smoker\")"
     ],
     "language": "python",
     "metadata": {},
     "outputs": []
    },
    {
     "cell_type": "markdown",
     "metadata": {},
     "source": [
      "`lmplot()` accepts all arguments that you would use to initialize a FacetGrid, and it returns the grid object after plotting for further tweaking:"
     ]
    },
    {
     "cell_type": "code",
     "collapsed": false,
     "input": [
      "sun_tips = tips[tips['day'] == 'Sun']"
     ],
     "language": "python",
     "metadata": {},
     "outputs": []
    },
    {
     "cell_type": "code",
     "collapsed": false,
     "input": [
      "%matplotlib inline"
     ],
     "language": "python",
     "metadata": {},
     "outputs": []
    },
    {
     "cell_type": "code",
     "collapsed": false,
     "input": [
      "g = sns.lmplot(\"totbill\", \"tip\", sun_tips, hue=\"day\", palette=\"Set2\",\n",
      "               hue_order=[\"Sun\"], size=8, aspect=2)\n",
      "\n",
      "g.set_axis_labels(\"Total bill (US Dollars)\", \"Tip\");\n",
      "\n",
      "g.set(xticks=[10, 30, 50], ylim=(0, 10), yticks=[0, 2.5, 5, 7.5, 10]);"
     ],
     "language": "python",
     "metadata": {},
     "outputs": []
    },
    {
     "cell_type": "heading",
     "level": 2,
     "metadata": {},
     "source": [
      "Classwork : New York Air Quality Measurements"
     ]
    },
    {
     "cell_type": "markdown",
     "metadata": {},
     "source": [
      "Daily air quality measurements in New York, May to September 1973.\n",
      "\n",
      "Use EDA to get an initial understanding of the dataset."
     ]
    },
    {
     "cell_type": "code",
     "collapsed": false,
     "input": [
      "air = pd.read_csv('../data/airquality.csv')"
     ],
     "language": "python",
     "metadata": {},
     "outputs": [],
     "prompt_number": 53
    },
    {
     "cell_type": "code",
     "collapsed": false,
     "input": [
      "air.head()"
     ],
     "language": "python",
     "metadata": {},
     "outputs": [
      {
       "html": [
        "<div style=\"max-height:1000px;max-width:1500px;overflow:auto;\">\n",
        "<table border=\"1\" class=\"dataframe\">\n",
        "  <thead>\n",
        "    <tr style=\"text-align: right;\">\n",
        "      <th></th>\n",
        "      <th>Unnamed: 0</th>\n",
        "      <th>Ozone</th>\n",
        "      <th>Solar.R</th>\n",
        "      <th>Wind</th>\n",
        "      <th>Temp</th>\n",
        "      <th>Month</th>\n",
        "      <th>Day</th>\n",
        "    </tr>\n",
        "  </thead>\n",
        "  <tbody>\n",
        "    <tr>\n",
        "      <th>0</th>\n",
        "      <td> 1</td>\n",
        "      <td> 41</td>\n",
        "      <td> 190</td>\n",
        "      <td>  7.4</td>\n",
        "      <td> 67</td>\n",
        "      <td> 5</td>\n",
        "      <td> 1</td>\n",
        "    </tr>\n",
        "    <tr>\n",
        "      <th>1</th>\n",
        "      <td> 2</td>\n",
        "      <td> 36</td>\n",
        "      <td> 118</td>\n",
        "      <td>  8.0</td>\n",
        "      <td> 72</td>\n",
        "      <td> 5</td>\n",
        "      <td> 2</td>\n",
        "    </tr>\n",
        "    <tr>\n",
        "      <th>2</th>\n",
        "      <td> 3</td>\n",
        "      <td> 12</td>\n",
        "      <td> 149</td>\n",
        "      <td> 12.6</td>\n",
        "      <td> 74</td>\n",
        "      <td> 5</td>\n",
        "      <td> 3</td>\n",
        "    </tr>\n",
        "    <tr>\n",
        "      <th>3</th>\n",
        "      <td> 4</td>\n",
        "      <td> 18</td>\n",
        "      <td> 313</td>\n",
        "      <td> 11.5</td>\n",
        "      <td> 62</td>\n",
        "      <td> 5</td>\n",
        "      <td> 4</td>\n",
        "    </tr>\n",
        "    <tr>\n",
        "      <th>4</th>\n",
        "      <td> 5</td>\n",
        "      <td>NaN</td>\n",
        "      <td> NaN</td>\n",
        "      <td> 14.3</td>\n",
        "      <td> 56</td>\n",
        "      <td> 5</td>\n",
        "      <td> 5</td>\n",
        "    </tr>\n",
        "  </tbody>\n",
        "</table>\n",
        "</div>"
       ],
       "metadata": {},
       "output_type": "pyout",
       "prompt_number": 48,
       "text": [
        "   Unnamed: 0  Ozone  Solar.R  Wind  Temp  Month  Day\n",
        "0           1     41      190   7.4    67      5    1\n",
        "1           2     36      118   8.0    72      5    2\n",
        "2           3     12      149  12.6    74      5    3\n",
        "3           4     18      313  11.5    62      5    4\n",
        "4           5    NaN      NaN  14.3    56      5    5"
       ]
      }
     ],
     "prompt_number": 48
    },
    {
     "cell_type": "code",
     "collapsed": false,
     "input": [
      "air.describe()"
     ],
     "language": "python",
     "metadata": {},
     "outputs": [
      {
       "html": [
        "<div style=\"max-height:1000px;max-width:1500px;overflow:auto;\">\n",
        "<table border=\"1\" class=\"dataframe\">\n",
        "  <thead>\n",
        "    <tr style=\"text-align: right;\">\n",
        "      <th></th>\n",
        "      <th>Unnamed: 0</th>\n",
        "      <th>Ozone</th>\n",
        "      <th>Solar.R</th>\n",
        "      <th>Wind</th>\n",
        "      <th>Temp</th>\n",
        "      <th>Month</th>\n",
        "      <th>Day</th>\n",
        "    </tr>\n",
        "  </thead>\n",
        "  <tbody>\n",
        "    <tr>\n",
        "      <th>count</th>\n",
        "      <td> 153.000000</td>\n",
        "      <td> 116.000000</td>\n",
        "      <td> 146.000000</td>\n",
        "      <td> 153.000000</td>\n",
        "      <td> 153.000000</td>\n",
        "      <td> 153.000000</td>\n",
        "      <td> 153.000000</td>\n",
        "    </tr>\n",
        "    <tr>\n",
        "      <th>mean</th>\n",
        "      <td>  77.000000</td>\n",
        "      <td>  42.129310</td>\n",
        "      <td> 185.931507</td>\n",
        "      <td>   9.957516</td>\n",
        "      <td>  77.882353</td>\n",
        "      <td>   6.993464</td>\n",
        "      <td>  15.803922</td>\n",
        "    </tr>\n",
        "    <tr>\n",
        "      <th>std</th>\n",
        "      <td>  44.311398</td>\n",
        "      <td>  32.987885</td>\n",
        "      <td>  90.058422</td>\n",
        "      <td>   3.523001</td>\n",
        "      <td>   9.465270</td>\n",
        "      <td>   1.416522</td>\n",
        "      <td>   8.864520</td>\n",
        "    </tr>\n",
        "    <tr>\n",
        "      <th>min</th>\n",
        "      <td>   1.000000</td>\n",
        "      <td>   1.000000</td>\n",
        "      <td>   7.000000</td>\n",
        "      <td>   1.700000</td>\n",
        "      <td>  56.000000</td>\n",
        "      <td>   5.000000</td>\n",
        "      <td>   1.000000</td>\n",
        "    </tr>\n",
        "    <tr>\n",
        "      <th>25%</th>\n",
        "      <td>  39.000000</td>\n",
        "      <td>  18.000000</td>\n",
        "      <td> 115.750000</td>\n",
        "      <td>   7.400000</td>\n",
        "      <td>  72.000000</td>\n",
        "      <td>   6.000000</td>\n",
        "      <td>   8.000000</td>\n",
        "    </tr>\n",
        "    <tr>\n",
        "      <th>50%</th>\n",
        "      <td>  77.000000</td>\n",
        "      <td>  31.500000</td>\n",
        "      <td> 205.000000</td>\n",
        "      <td>   9.700000</td>\n",
        "      <td>  79.000000</td>\n",
        "      <td>   7.000000</td>\n",
        "      <td>  16.000000</td>\n",
        "    </tr>\n",
        "    <tr>\n",
        "      <th>75%</th>\n",
        "      <td> 115.000000</td>\n",
        "      <td>  63.250000</td>\n",
        "      <td> 258.750000</td>\n",
        "      <td>  11.500000</td>\n",
        "      <td>  85.000000</td>\n",
        "      <td>   8.000000</td>\n",
        "      <td>  23.000000</td>\n",
        "    </tr>\n",
        "    <tr>\n",
        "      <th>max</th>\n",
        "      <td> 153.000000</td>\n",
        "      <td> 168.000000</td>\n",
        "      <td> 334.000000</td>\n",
        "      <td>  20.700000</td>\n",
        "      <td>  97.000000</td>\n",
        "      <td>   9.000000</td>\n",
        "      <td>  31.000000</td>\n",
        "    </tr>\n",
        "  </tbody>\n",
        "</table>\n",
        "</div>"
       ],
       "metadata": {},
       "output_type": "pyout",
       "prompt_number": 49,
       "text": [
        "       Unnamed: 0       Ozone     Solar.R        Wind        Temp       Month  \\\n",
        "count  153.000000  116.000000  146.000000  153.000000  153.000000  153.000000   \n",
        "mean    77.000000   42.129310  185.931507    9.957516   77.882353    6.993464   \n",
        "std     44.311398   32.987885   90.058422    3.523001    9.465270    1.416522   \n",
        "min      1.000000    1.000000    7.000000    1.700000   56.000000    5.000000   \n",
        "25%     39.000000   18.000000  115.750000    7.400000   72.000000    6.000000   \n",
        "50%     77.000000   31.500000  205.000000    9.700000   79.000000    7.000000   \n",
        "75%    115.000000   63.250000  258.750000   11.500000   85.000000    8.000000   \n",
        "max    153.000000  168.000000  334.000000   20.700000   97.000000    9.000000   \n",
        "\n",
        "              Day  \n",
        "count  153.000000  \n",
        "mean    15.803922  \n",
        "std      8.864520  \n",
        "min      1.000000  \n",
        "25%      8.000000  \n",
        "50%     16.000000  \n",
        "75%     23.000000  \n",
        "max     31.000000  "
       ]
      }
     ],
     "prompt_number": 49
    },
    {
     "cell_type": "code",
     "collapsed": false,
     "input": [
      "air.info()"
     ],
     "language": "python",
     "metadata": {},
     "outputs": [
      {
       "output_type": "stream",
       "stream": "stdout",
       "text": [
        "<class 'pandas.core.frame.DataFrame'>\n",
        "Int64Index: 153 entries, 0 to 152\n",
        "Data columns (total 7 columns):\n",
        "Unnamed: 0    153 non-null int64\n",
        "Ozone         116 non-null float64\n",
        "Solar.R       146 non-null float64\n",
        "Wind          153 non-null float64\n",
        "Temp          153 non-null int64\n",
        "Month         153 non-null int64\n",
        "Day           153 non-null int64\n",
        "dtypes: float64(3), int64(4)"
       ]
      }
     ],
     "prompt_number": 51
    },
    {
     "cell_type": "code",
     "collapsed": false,
     "input": [
      "from pandas.tools.plotting import scatter_matrix\n",
      "\n",
      "scatter_matrix(air, alpha=0.2, figsize=(15, 15), diagonal='kde')"
     ],
     "language": "python",
     "metadata": {},
     "outputs": [
      {
       "metadata": {},
       "output_type": "pyout",
       "prompt_number": 54,
       "text": [
        "array([[<matplotlib.axes.AxesSubplot object at 0x7feee13c7a90>,\n",
        "        <matplotlib.axes.AxesSubplot object at 0x7feeda43bf10>,\n",
        "        <matplotlib.axes.AxesSubplot object at 0x7feee23b1310>,\n",
        "        <matplotlib.axes.AxesSubplot object at 0x7feee0fe7b90>,\n",
        "        <matplotlib.axes.AxesSubplot object at 0x7feee01e3b90>,\n",
        "        <matplotlib.axes.AxesSubplot object at 0x7feee0f63090>,\n",
        "        <matplotlib.axes.AxesSubplot object at 0x7feee0f81b10>],\n",
        "       [<matplotlib.axes.AxesSubplot object at 0x7feee0dc7f50>,\n",
        "        <matplotlib.axes.AxesSubplot object at 0x7feee0d4cf10>,\n",
        "        <matplotlib.axes.AxesSubplot object at 0x7feee0cbd910>,\n",
        "        <matplotlib.axes.AxesSubplot object at 0x7feee04c28d0>,\n",
        "        <matplotlib.axes.AxesSubplot object at 0x7feee04a8990>,\n",
        "        <matplotlib.axes.AxesSubplot object at 0x7feee03aaa50>,\n",
        "        <matplotlib.axes.AxesSubplot object at 0x7feee032fa10>],\n",
        "       [<matplotlib.axes.AxesSubplot object at 0x7feee029ed50>,\n",
        "        <matplotlib.axes.AxesSubplot object at 0x7feee0221d10>,\n",
        "        <matplotlib.axes.AxesSubplot object at 0x7feee0147e50>,\n",
        "        <matplotlib.axes.AxesSubplot object at 0x7feee00caf10>,\n",
        "        <matplotlib.axes.AxesSubplot object at 0x7feee016b8d0>,\n",
        "        <matplotlib.axes.AxesSubplot object at 0x7feedfa5e150>,\n",
        "        <matplotlib.axes.AxesSubplot object at 0x7feedf9e4110>],\n",
        "       [<matplotlib.axes.AxesSubplot object at 0x7feedf9c5bd0>,\n",
        "        <matplotlib.axes.AxesSubplot object at 0x7feedf949b90>,\n",
        "        <matplotlib.axes.AxesSubplot object at 0x7feedf8aec50>,\n",
        "        <matplotlib.axes.AxesSubplot object at 0x7feedf831d10>,\n",
        "        <matplotlib.axes.AxesSubplot object at 0x7feedf7b5cd0>,\n",
        "        <matplotlib.axes.AxesSubplot object at 0x7feedf778f90>,\n",
        "        <matplotlib.axes.AxesSubplot object at 0x7feedf6f3d90>],\n",
        "       [<matplotlib.axes.AxesSubplot object at 0x7feedf666890>,\n",
        "        <matplotlib.axes.AxesSubplot object at 0x7feedf5f4510>,\n",
        "        <matplotlib.axes.AxesSubplot object at 0x7feedf628610>,\n",
        "        <matplotlib.axes.AxesSubplot object at 0x7feedf4dcc50>,\n",
        "        <matplotlib.axes.AxesSubplot object at 0x7feedf462c10>,\n",
        "        <matplotlib.axes.AxesSubplot object at 0x7feedf452450>,\n",
        "        <matplotlib.axes.AxesSubplot object at 0x7feedf3d4c90>],\n",
        "       [<matplotlib.axes.AxesSubplot object at 0x7feedf3485d0>,\n",
        "        <matplotlib.axes.AxesSubplot object at 0x7feedf273a90>,\n",
        "        <matplotlib.axes.AxesSubplot object at 0x7feedf2eb9d0>,\n",
        "        <matplotlib.axes.AxesSubplot object at 0x7feedf169610>,\n",
        "        <matplotlib.axes.AxesSubplot object at 0x7feedf0ef5d0>,\n",
        "        <matplotlib.axes.AxesSubplot object at 0x7feedf061090>,\n",
        "        <matplotlib.axes.AxesSubplot object at 0x7feedefe38d0>],\n",
        "       [<matplotlib.axes.AxesSubplot object at 0x7feedef54310>,\n",
        "        <matplotlib.axes.AxesSubplot object at 0x7feedeed86d0>,\n",
        "        <matplotlib.axes.AxesSubplot object at 0x7feedef776d0>,\n",
        "        <matplotlib.axes.AxesSubplot object at 0x7feededcc350>,\n",
        "        <matplotlib.axes.AxesSubplot object at 0x7feeded52310>,\n",
        "        <matplotlib.axes.AxesSubplot object at 0x7feeded35d90>,\n",
        "        <matplotlib.axes.AxesSubplot object at 0x7feedec46610>]], dtype=object)"
       ]
      },
      {
       "output_type": "stream",
       "stream": "stderr",
       "text": [
        "/usr/lib/pymodules/python2.7/matplotlib/font_manager.py:1236: UserWarning: findfont: Font family ['sans-serif'] not found. Falling back to Bitstream Vera Sans\n",
        "  (prop.get_family(), self.defaultFamily[fontext]))\n",
        "/usr/lib/pymodules/python2.7/matplotlib/font_manager.py:1246: UserWarning: findfont: Could not match :family=Bitstream Vera Sans:style=normal:variant=normal:weight=normal:stretch=normal:size=8.0. Returning /usr/share/matplotlib/mpl-data/fonts/ttf/cmb10.ttf\n",
        "  UserWarning)\n",
        "/usr/lib/pymodules/python2.7/matplotlib/font_manager.py:1246: UserWarning: findfont: Could not match :family=Bitstream Vera Sans:style=normal:variant=normal:weight=normal:stretch=normal:size=11.0. Returning /usr/share/matplotlib/mpl-data/fonts/ttf/cmb10.ttf\n",
        "  UserWarning)\n"
       ]
      },
      {
       "metadata": {},
       "output_type": "display_data",
       "png": "[encoded data removed]",
       "text": [
        "<matplotlib.figure.Figure at 0x7feee13c7750>"
       ]
      }
     ],
     "prompt_number": 54
    },
    {
     "cell_type": "markdown",
     "metadata": {},
     "source": [
      "1. Count the number of Data points. (153 data points)\n",
      "1. What does describe() vs. info() tell you about the sample size of \u201cozone\u201d? (describe() tells me the sample population, while info() tells me the data type mainly)\n",
      "1. Calculating the Summary Statistics\n",
      "1. What\u2019s Panda\u2019s default way of dealing with missing values for its numpy functions like mean, cumsum and std?\n",
      "1. How could you deal with the missing values in the ozone dataset?\n",
      "1. Which visual ways would be suitable to explore this dataset? Use them.\n",
      "1. Explore the relationships in the dataset.\n",
      "\n",
      "If you finish early - show me your work and see if you can find out whether you can use EDA on the \u2018olives.csv\u2019 dataset to prove the authenticity of olive oil\u2026 based on its fatty acid contents!"
     ]
    },
    {
     "cell_type": "code",
     "collapsed": false,
     "input": [],
     "language": "python",
     "metadata": {},
     "outputs": [],
     "prompt_number": 51
    }
   ],
   "metadata": {}
  }
 ]
}