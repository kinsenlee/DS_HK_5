{
 "metadata": {
  "name": "",
  "signature": "sha256:129f80d3fc79d53563437a4b803d7c0975e3b828e657f0fa7a62195399f0e6ee"
 },
 "nbformat": 3,
 "nbformat_minor": 0,
 "worksheets": [
  {
   "cells": [
    {
     "cell_type": "code",
     "collapsed": false,
     "input": [
      "%%javascript\n",
      "\n",
      "window.load_remote_theme = false\n",
      "var theme_url = \"https://drostehk.github.io/ipynb-theme/\";\n",
      "var asset_url = \"https://raw.githubusercontent.com/tijptjik/DS_assets/master/\";\n",
      "\n",
      "window.load_local_theme = function(){\n",
      "    var hostname = document.location.hostname\n",
      "    return ((hostname == \"localhost\" || hostname == '127.0.0.1') && !load_remote_theme)\n",
      "}\n",
      "\n",
      "var url = load_local_theme() ? document.location.origin + \"/files/theme/custom.js\" : theme_url + 'custom.js'\n",
      "\n",
      "$.getScript(url)"
     ],
     "language": "python",
     "metadata": {},
     "outputs": [
      {
       "javascript": [
        "\n",
        "window.load_remote_theme = false\n",
        "var theme_url = \"https://drostehk.github.io/ipynb-theme/\";\n",
        "var asset_url = \"https://raw.githubusercontent.com/tijptjik/DS_assets/master/\";\n",
        "\n",
        "window.load_local_theme = function(){\n",
        "    var hostname = document.location.hostname\n",
        "    return ((hostname == \"localhost\" || hostname == '127.0.0.1') && !load_remote_theme)\n",
        "}\n",
        "\n",
        "var url = load_local_theme() ? document.location.origin + \"/files/theme/custom.js\" : theme_url + 'custom.js'\n",
        "\n",
        "$.getScript(url)"
       ],
       "metadata": {},
       "output_type": "display_data",
       "text": [
        "<IPython.core.display.Javascript at 0x7fa7880652d0>"
       ]
      }
     ],
     "prompt_number": 7
    },
    {
     "cell_type": "heading",
     "level": 1,
     "metadata": {},
     "source": [
      "Prologue to Data Science"
     ]
    },
    {
     "cell_type": "markdown",
     "metadata": {},
     "source": [
      "> It is a capital mistake to theorize before one has data. Insensibly one begins to twist facts to suit theories, instead of theories to suit facts.\n",
      "\n",
      "<footer>~ Arthur Conan Doyle, Sherlock Holmes</footer>"
     ]
    },
    {
     "cell_type": "markdown",
     "metadata": {},
     "source": [
      "This guide acts as a prologue to Data Science and is a prerequisite for [General Assembly's Data Science](https://generalassemb.ly/education/data-science) course. It will guide you through the basics of the Python programming language, teach you how to operate your computer through the command line, and refresh your stats knowledge.\n",
      "\n",
      "The modern Data Scientist doesn't always need to know the mathematics that go on behind the scenes, but they _do_ need to be intimately familiar with the characteristics of the various machine learning algorithms - e.g. which types of data they are suitable for, how to measure their accuracy, and how to interpret their output. \n",
      "\n",
      "To _design_ and _assess_ the validity of your data models, you'll at least need a **statistics** vocabulary equivalent to one offered by college-level  course. The materials referenced in this guide provide a succinct refresher. But as you'll also want to _implement_ and _iterate_ over your data models once you've designed them, you also need some **programming** skills. Data Scientists often work with a scripting language with strong machine learning libraries. _R_ is a common contender, but for the purposes of this introduction _Python_ is used to teach you the basics of computational thinking.\n",
      "\n",
      "Each of the following banners will lead you to an online resource which will  set you on your journey as fledgling Data Science. The topics presented here are both wide and deep, so where appropriate, the _minimum_ requirements are  listed. Data Science is an intellectually challenging pursuit, but let that not deter you. Data Scientists are often just better statisticians than most programmers, and better programmers than most statisticians. It's through a hybrid of the two domains that they develop their invaluable skill-set."
     ]
    },
    {
     "cell_type": "markdown",
     "metadata": {},
     "source": [
      "![break](assets/theory.png)"
     ]
    },
    {
     "cell_type": "heading",
     "level": 2,
     "metadata": {},
     "source": [
      "Setup Instructions"
     ]
    },
    {
     "cell_type": "markdown",
     "metadata": {},
     "source": [
      "You have two choices for setting up your Data Science environment, the first is by installing everything 'native' on your own machine, the second is by creating a 'virtual' machine which comes with all the necessary software pre-installed. "
     ]
    },
    {
     "cell_type": "markdown",
     "metadata": {},
     "source": [
      "The benefit of the former is that you have all your machine's resources at your disposal and it avoids adding yet another layer of abstraction, but the latter means that your Data Science softwre is installed in an isolated enviroment, so it should be less suspeptible to inteference of other software or your system's settings. In particular if your native OS is windows, I would suggest going with the virutal machine as it will save you a lot of potential issues down the line. The virtual machine is also the setup that we use for our Data Science class at General Assembly to ensure everyone is on the same environment"
     ]
    },
    {
     "cell_type": "markdown",
     "metadata": {},
     "source": [
      "![break](assets/theory.png)"
     ]
    },
    {
     "cell_type": "heading",
     "level": 2,
     "metadata": {},
     "source": [
      "Option 1 : Native Installation"
     ]
    },
    {
     "cell_type": "markdown",
     "metadata": {},
     "source": [
      "Python comes with a rich ecosystem of 'modules' that extend the core functionality provided by the language itself. **Python Anaconda** is a collection of the most popular modules used for scientific computing. By installing Anaconda, you will install python and setup all the libraries used in GA's Data Science class. \n",
      "\n",
      "Please follow the online install documentation for instructions."
     ]
    },
    {
     "cell_type": "markdown",
     "metadata": {},
     "source": [
      "![resource](assets/anaconda.jpg) [Anaconda](http://docs.continuum.io/anaconda/install.html)"
     ]
    },
    {
     "cell_type": "markdown",
     "metadata": {},
     "source": [
      "OSX users can follow the [OSX Install Guide](http://nbviewer.ipython.org/gist/anonymous/6cc774e461d062b78c1a) to further smoothen the developer experience."
     ]
    },
    {
     "cell_type": "markdown",
     "metadata": {},
     "source": [
      "![break](assets/theory.png)"
     ]
    },
    {
     "cell_type": "heading",
     "level": 2,
     "metadata": {},
     "source": [
      "Option 2 : Virtual Machine"
     ]
    },
    {
     "cell_type": "markdown",
     "metadata": {},
     "source": [
      "For the virtual machine we will use the excellent `Data Science Toolbox` as our starting point."
     ]
    },
    {
     "cell_type": "heading",
     "level": 3,
     "metadata": {},
     "source": [
      "Data Science Toolbox"
     ]
    },
    {
     "cell_type": "markdown",
     "metadata": {},
     "source": [
      "These instructions have been adapted from the excellent [Data Science Toolbox](http://datasciencetoolbox.org/#start)"
     ]
    },
    {
     "cell_type": "heading",
     "level": 4,
     "metadata": {},
     "source": [
      "Step 1: Download and install VirtualBox"
     ]
    },
    {
     "cell_type": "markdown",
     "metadata": {},
     "source": [
      "Go to the [Virtualbox download page](https://www.virtualbox.org/wiki/Downloads) and download the appropriate binary. Open the binary and follow the installations instructions."
     ]
    },
    {
     "cell_type": "heading",
     "level": 4,
     "metadata": {},
     "source": [
      "Step 2: Download and install Vagrant"
     ]
    },
    {
     "cell_type": "markdown",
     "metadata": {},
     "source": [
      "Similarly to Step 1, go the [Vagrant download page](http://www.vagrantup.com/downloads.html) and download the appropriate binary. Open the binary and follow the installations instructions."
     ]
    },
    {
     "cell_type": "heading",
     "level": 4,
     "metadata": {},
     "source": [
      "Step 3: Download and start the Data Science Toolbox"
     ]
    },
    {
     "cell_type": "markdown",
     "metadata": {},
     "source": [
      "Open a terminal (known as the command prompt in Microsoft Windows). Create a directory, for example \"DataScience\", and navigate to it:"
     ]
    },
    {
     "cell_type": "markdown",
     "metadata": {},
     "source": [
      "```bash\n",
      "$ mkdir DataScience\n",
      "$ cd DataScience\n",
      "```"
     ]
    },
    {
     "cell_type": "markdown",
     "metadata": {},
     "source": [
      "Mind you, that the `$` simply means that you copy / pasting whatever comes after it into your regular, local terminal."
     ]
    },
    {
     "cell_type": "markdown",
     "metadata": {},
     "source": [
      "In order to download and start the Data Science Toolbox, run the following commands:"
     ]
    },
    {
     "cell_type": "markdown",
     "metadata": {},
     "source": [
      "```bash\n",
      "$ vagrant init data-science-toolbox/dst\n",
      "$ vagrant up\n",
      "```"
     ]
    },
    {
     "cell_type": "heading",
     "level": 4,
     "metadata": {},
     "source": [
      "Step 4: Log in (on Mac OS X and Linux)"
     ]
    },
    {
     "cell_type": "markdown",
     "metadata": {},
     "source": [
      "If you are running Mac OS X or some other UNIX-like operating system, you can log in to the Data Science Toolbox by simply running the following command in a terminal:"
     ]
    },
    {
     "cell_type": "markdown",
     "metadata": {},
     "source": [
      "```bash\n",
      "$ vagrant ssh\n",
      "```"
     ]
    },
    {
     "cell_type": "heading",
     "level": 4,
     "metadata": {},
     "source": [
      "Step 4: Log in (on Microsoft Windows)"
     ]
    },
    {
     "cell_type": "markdown",
     "metadata": {},
     "source": [
      "If you are running Microsoft Windows, you need to use a third-party application in order to log in to the Data Science Toolbox. We recommend Putty for this. Go to its [download page](http://www.chiark.greenend.org.uk/~sgtatham/putty/download.html) and download `putty.exe`. Run `putty.exe` and enter the following values:"
     ]
    },
    {
     "cell_type": "markdown",
     "metadata": {},
     "source": [
      "```txt\n",
      "Host Name (or IP address): 127.0.0.1 \n",
      "Port: 2222\n",
      "Connection type: SSH\n",
      "```"
     ]
    },
    {
     "cell_type": "markdown",
     "metadata": {},
     "source": [
      "(If you want, you can save these values as a session by clicking the \"Save\" button, so that you do not need to enter these values again.) Click the \"Open\" button and enter \"vagrant\" for both the username and the password."
     ]
    },
    {
     "cell_type": "heading",
     "level": 4,
     "metadata": {},
     "source": [
      "Step 5: Set up IPython Notebook"
     ]
    },
    {
     "cell_type": "markdown",
     "metadata": {},
     "source": [
      "If you like to be able to run IPython Notebook on your Data Science Toolbox, invoke the following command to create a password-protected profile - note: _the password shouldn't be empty_:"
     ]
    },
    {
     "cell_type": "markdown",
     "metadata": {},
     "source": [
      "```bash\n",
      "vagrant@data-science-toolbox:~$ dst setup base\n",
      "```"
     ]
    },
    {
     "cell_type": "markdown",
     "metadata": {},
     "source": [
      "(Note that `vagrant@data-science-toolbox:~` indicates that this command should be run on the *Data Science Toolbox*.) Step 3 created a file named Vagrantfile, which is a configuration file used by Vagrant. Open the file in your favorite text editor and add the following text somewhere around line 22:"
     ]
    },
    {
     "cell_type": "markdown",
     "metadata": {},
     "source": [
      "```ruby\n",
      "config.vm.network \"forwarded_port\", guest: 8888, host: 8888\n",
      "```"
     ]
    },
    {
     "cell_type": "markdown",
     "metadata": {},
     "source": [
      "This line instructs Vagrant to open up port 8888 so that the IPython Notebook server is accessible from your browser. Restart the Data Science Toolbox and log in again so that the changes take effect:"
     ]
    },
    {
     "cell_type": "markdown",
     "metadata": {},
     "source": [
      "```bash\n",
      "$ vagrant reload\n",
      "$ vagrant ssh\n",
      "```"
     ]
    },
    {
     "cell_type": "markdown",
     "metadata": {},
     "source": [
      "To start the IPython Notebook server, run:"
     ]
    },
    {
     "cell_type": "markdown",
     "metadata": {},
     "source": [
      "```bash\n",
      "vagrant@data-science-toolbox:~$ sudo ipython notebook --profile=dst\n",
      "```"
     ]
    },
    {
     "cell_type": "markdown",
     "metadata": {},
     "source": [
      "You can now access the IPython Notebook server at [https://localhost:8888](https://localhost:8888). Because the SSL certificate is self-signed, you may get a warning message from your browser. The image below shows how Chrome complains about this. Because you know what's on the server-side, you can just click on the \"Proceed anyway\" button."
     ]
    },
    {
     "cell_type": "markdown",
     "metadata": {},
     "source": [
      "![](http://datasciencetoolbox.org/assets/img/ipython-03.png)"
     ]
    },
    {
     "cell_type": "markdown",
     "metadata": {},
     "source": [
      "Enter the same password as you entered when you created the profile."
     ]
    },
    {
     "cell_type": "markdown",
     "metadata": {},
     "source": [
      "![](http://datasciencetoolbox.org/assets/img/ipython-04.png)"
     ]
    },
    {
     "cell_type": "markdown",
     "metadata": {},
     "source": [
      "Once you're logged in, you're greeted with the wonderful IPython Notebook."
     ]
    },
    {
     "cell_type": "markdown",
     "metadata": {},
     "source": [
      "![](http://datasciencetoolbox.org/assets/img/ipython-05.png)"
     ]
    },
    {
     "cell_type": "markdown",
     "metadata": {},
     "source": [
      "Well done! You now have the minimal setup to start doing data science. However, I'd strongly recommend that you also follow the following steps as it will tweak your setup to make your experience a lot smoother"
     ]
    },
    {
     "cell_type": "heading",
     "level": 4,
     "metadata": {},
     "source": [
      "Step 6 : Review your setup"
     ]
    },
    {
     "cell_type": "markdown",
     "metadata": {},
     "source": [
      "Just to review that you know what's setup, and how to use it. Kill your virtual machine with"
     ]
    },
    {
     "cell_type": "markdown",
     "metadata": {},
     "source": [
      "```bash\n",
      "$ vagrant halt\n",
      "```"
     ]
    },
    {
     "cell_type": "markdown",
     "metadata": {},
     "source": [
      "and reboot your machine so you can learn how to get the ipython notebook going from scratch."
     ]
    },
    {
     "cell_type": "markdown",
     "metadata": {},
     "source": [
      "Once your machine has rebooted, open a terminal and navigate to the directory where you've setup your virtual machine using vagrant. This will most likely be the following command if you've kept with the previous instructions."
     ]
    },
    {
     "cell_type": "markdown",
     "metadata": {},
     "source": [
      "```bash\n",
      "$ cd DataScience\n",
      "```"
     ]
    },
    {
     "cell_type": "markdown",
     "metadata": {},
     "source": [
      "Start your virtual machine"
     ]
    },
    {
     "cell_type": "markdown",
     "metadata": {},
     "source": [
      "```bash\n",
      "$ vagrant up\n",
      "```"
     ]
    },
    {
     "cell_type": "markdown",
     "metadata": {},
     "source": [
      "Log in with SSH"
     ]
    },
    {
     "cell_type": "markdown",
     "metadata": {},
     "source": [
      "```bash\n",
      "$ vagrant ssh\n",
      "```"
     ]
    },
    {
     "cell_type": "markdown",
     "metadata": {},
     "source": [
      "start the ipython notebook server ( only type the command after the $)"
     ]
    },
    {
     "cell_type": "markdown",
     "metadata": {},
     "source": [
      "```bash\n",
      "vagrant@data-science-toolbox:~$ sudo ipython notebook --profile=dst\n",
      "```"
     ]
    },
    {
     "cell_type": "markdown",
     "metadata": {},
     "source": [
      "Open a browser and navigate to [https://localhost:8888](http://localhost:8888), if you see the iPython notebook login (following the security warning, you've succeeded!)\n",
      "\n",
      "Be sure to always visit http**s**://localhost:8888, as the server doesn't respond to requests over the unsecured http protocol."
     ]
    },
    {
     "cell_type": "heading",
     "level": 4,
     "metadata": {},
     "source": [
      "Step 7 : Making your life easier (optional)"
     ]
    },
    {
     "cell_type": "markdown",
     "metadata": {},
     "source": [
      "In your terminal, you should still be logged into your virtual machine (the terminal starts with `vagrant@data-science-toolbox:~$`)"
     ]
    },
    {
     "cell_type": "markdown",
     "metadata": {},
     "source": [
      "Install `sshpass`"
     ]
    },
    {
     "cell_type": "markdown",
     "metadata": {},
     "source": [
      "```bash\n",
      "vagrant@data-science-toolbox:~$ sudo apt-get install sshpass\n",
      "```"
     ]
    },
    {
     "cell_type": "markdown",
     "metadata": {},
     "source": [
      "Symlink a 'local' directory to /vagrant as that allows you to share files between your virtual and actual machine (the files are stored in `~/DataScience` or equivalent) "
     ]
    },
    {
     "cell_type": "markdown",
     "metadata": {},
     "source": [
      "```bash\n",
      "vagrant@data-science-toolbox:~$ ln -s /vagrant/ ds\n",
      "```"
     ]
    },
    {
     "cell_type": "markdown",
     "metadata": {},
     "source": [
      "Make sure you can login without using a password.\n",
      "\n",
      "**Select all the default, so do not type in a passphrase, just enter enter until you exit the programme**"
     ]
    },
    {
     "cell_type": "markdown",
     "metadata": {},
     "source": [
      "```bash\n",
      "vagrant@data-science-toolbox:~$ ssh-keygen\n",
      "```"
     ]
    },
    {
     "cell_type": "markdown",
     "metadata": {},
     "source": [
      "And test the connection over SSH"
     ]
    },
    {
     "cell_type": "markdown",
     "metadata": {},
     "source": [
      "```bash\n",
      "vagrant@data-science-toolbox:~$ ssh vagrant@localhost\n",
      "```"
     ]
    },
    {
     "cell_type": "markdown",
     "metadata": {},
     "source": [
      "Download the following script which will automate the remainder of the setup"
     ]
    },
    {
     "cell_type": "markdown",
     "metadata": {},
     "source": [
      "```bash\n",
      "vagrant@data-science-toolbox:~$ wget https://raw.githubusercontent.com/tijptjik/ansible-hacker-playbook/master/playbook.yml\n",
      "```"
     ]
    },
    {
     "cell_type": "markdown",
     "metadata": {},
     "source": [
      "Now that you have the script on your virtual machine, you can use ansible to configure the rest of your virtual machine."
     ]
    },
    {
     "cell_type": "markdown",
     "metadata": {},
     "source": [
      "Both **passwords** are : `vagrant`"
     ]
    },
    {
     "cell_type": "markdown",
     "metadata": {},
     "source": [
      "```bash\n",
      "vagrant@data-science-toolbox:~$ ansible-playbook --inventory 'localhost,' --ask-pass --ask-sudo-pass playbook.yml\n",
      "```"
     ]
    },
    {
     "cell_type": "markdown",
     "metadata": {},
     "source": [
      "Congratulations! You should now have a fully customised Virtual Machine ready for Data Science! Try the following command to initiate your new environment"
     ]
    },
    {
     "cell_type": "markdown",
     "metadata": {},
     "source": [
      "```bash\n",
      "vagrant@data-science-toolbox:~$ source ~/.zshrc\n",
      "```"
     ]
    },
    {
     "cell_type": "heading",
     "level": 4,
     "metadata": {},
     "source": [
      "Final Review"
     ]
    },
    {
     "cell_type": "markdown",
     "metadata": {},
     "source": [
      "Stop the VM again before reviewing these steps, but these are the steps you'll do every time to launch."
     ]
    },
    {
     "cell_type": "markdown",
     "metadata": {},
     "source": [
      "```bash\n",
      "$ vagrant halt\n",
      "```"
     ]
    },
    {
     "cell_type": "markdown",
     "metadata": {},
     "source": [
      "If you've followed along with all the naming conventions and steps, the only command you'll need to execute to bring up your iPython Notebook Server is "
     ]
    },
    {
     "cell_type": "markdown",
     "metadata": {},
     "source": [
      "```bash\n",
      "$ cd DataScience && vagrant up && vagrant ssh -c 'sudo ipython notebook --profile=dst'\n",
      "```"
     ]
    },
    {
     "cell_type": "markdown",
     "metadata": {},
     "source": [
      "So basically, changing to the directory where you have defined your VM `cd DataScience`, then launching it with `vagrant up`, then sending the command to start the iPython Notebook Server with `vagrant ssh -c 'sudo ipython notebook --profile=dst`"
     ]
    },
    {
     "cell_type": "markdown",
     "metadata": {},
     "source": [
      "![break](assets/code.png)"
     ]
    },
    {
     "cell_type": "heading",
     "level": 2,
     "metadata": {},
     "source": [
      "Programming Fundamentals"
     ]
    },
    {
     "cell_type": "markdown",
     "metadata": {},
     "source": [
      "### Python"
     ]
    },
    {
     "cell_type": "markdown",
     "metadata": {},
     "source": [
      "CodeAcademy is a free website with tutorials to teach users rudimentary programming. Its Python course is aimed at non-programmers and will slowly take you through various programming concepts. The course is split up in teaching and practice units so you'll also learn why certain techniques are useful.\n",
      "\n",
      "**Minimum Requirement** : up until Codecademy's _exam statistics_ unit\n",
      "\n",
      "**Estimated Time** : 8 Hours\n",
      "\n",
      "**Alternative** : If you'd prefer a book over Codecademy's interactive learning method, consider reading [Think Python](http://www.greenteapress.com/thinkpython/thinkpython.html). It starts with basic concepts of programming, and is carefully designed to define all terms when they are first used and to develop each new concept in a logical progression. \n",
      "\n",
      "**Advanced** : If you are already familiar with another programming language, and would just like to get acquainted with the Python syntax, follow the [Learn Python](http://www.learnpython.org/) path instead as it does less hand-holding."
     ]
    },
    {
     "cell_type": "markdown",
     "metadata": {},
     "source": [
      "![resource](assets/codecademy.png) [Codecademy](http://codecademy.com)"
     ]
    },
    {
     "cell_type": "markdown",
     "metadata": {},
     "source": [
      "### Command Line"
     ]
    },
    {
     "cell_type": "markdown",
     "metadata": {},
     "source": [
      "The popular introductory manual 'Learn Python the Hard Way' comes with an appendix about the command line. It's a crash course in using the command line to make your computer perform tasks. As a crash course, it's not as detailed or extensive as dedicated guides. It is simply designed to get you barely capable enough to start using your computer like a real programmer does. When you're done with the appendix, you will be able to give most of the basic commands that every shell user touches every day. You'll understand the basics of directories and a few other concepts.\n",
      "\n",
      "Learing how to use the command line is important because if you want to learn to code, then you _must_ learn this. Programming languages are advanced ways to control your computer with language. The command line is the baby little brother of programming languages. Learning the command line teaches you to control the computer using language. Once you get past that, you can then move on to writing code and feeling like you actually own the hunk of metal in front of you.\n",
      "\n",
      "**Minimum Requirement** : Excercises 1-15\n",
      "\n",
      "**Advanced** : Consult the [Bash Cheat Sheet](http://cli.learncodethehardway.org/bash_cheat_sheet.pdf) and see if there's a trick or two you could add to your toolbelt\n",
      "\n",
      "**Estimated Time** : 2 Hours"
     ]
    },
    {
     "cell_type": "markdown",
     "metadata": {},
     "source": [
      "![resource](assets/terminal.jpg) [Command Line Crash Course](http://learnpythonthehardway.org/book/appendix-a-cli/introduction.html)"
     ]
    },
    {
     "cell_type": "markdown",
     "metadata": {},
     "source": [
      "### Python Pandas"
     ]
    },
    {
     "cell_type": "markdown",
     "metadata": {},
     "source": [
      "Pandas is a Python library for doing data analysis. It's really fast and lets you do exploratory work incredibly quickly. You can imagine pandas being the tool which holds your data. The better you know how to merge in new data and ask for a particualr subset of data, the simpler it will be for you to bring in more evidence to your dataset and answer more specific question about your data.\n",
      "\n",
      "**Minimum Requirement** : Lessons 1 - 2, 4 & 6, Excercises 1 - 3\n",
      "\n",
      "**Estimated Time** : 2-4 Hours\n",
      "\n",
      "**Alternative** : Depending on your available time, you might want to check out the [10 minute intro to Pandas](http://pandas.pydata.org/pandas-docs/stable/10min.html#min), but if you do  want a more thorough introduction, I suggest you follow some of the lessons provided by with Learn Pandas. Learn Pandas is a short guide spanning 11 lessons and 4 excercises on using pandas for data manipulation and analysis.\n",
      "\n",
      "**Advanced** : Explore the [Pandas Cookbook](https://github.com/jvns/pandas-cookbook) and see what neat features you can use in your own data analysis.\n",
      "\n"
     ]
    },
    {
     "cell_type": "markdown",
     "metadata": {},
     "source": [
      "![resource](assets/pandas.png) [Learn Pandas](https://bitbucket.org/hrojas/learn-pandas)"
     ]
    },
    {
     "cell_type": "markdown",
     "metadata": {},
     "source": [
      "### Practice Python"
     ]
    },
    {
     "cell_type": "markdown",
     "metadata": {},
     "source": [
      "If programming isn't your strong suit and time allows you to develop your programming skills further, consider joining CheckIO. CheckiO is an online game where coders compete and collaborate. For novice coders, the service is a self tutoring community where code review and feedback are game elements.\n",
      "\n",
      "\n",
      "Remember that Codecademy also provides an excellent [glossary](http://www.codecademy.com/glossary/python) of concepts and techniques you'll likely employ in your adventures."
     ]
    },
    {
     "cell_type": "markdown",
     "metadata": {},
     "source": [
      "![resource](assets/checkio.png) [CheckIO](http://check.io)"
     ]
    },
    {
     "cell_type": "markdown",
     "metadata": {},
     "source": [
      "![break](assets/theory.png)"
     ]
    },
    {
     "cell_type": "markdown",
     "metadata": {},
     "source": [
      "## Statistics Refresher"
     ]
    },
    {
     "cell_type": "markdown",
     "metadata": {},
     "source": [
      "_Think Stats_ is an introduction to Probability and Statistics for people who have some exposure to python. It emphasizes simple techniques you can use to explore real data sets and answer interesting questions. Readers are encouraged to work on a project with real datasets.\n",
      "\n",
      "Because it uses a programming language, it covers data analysis from beginning to end: viewing data, calculating descriptive statistics, identifying outliers, describing data using the distributions (and explaining what the distributions really mean!). Going through this small book, the goal is understanding and using statistics, not just learning statistics.\n",
      "\n",
      "**Minimum Requirement** : Chapters 1 - 5\n",
      "\n",
      "**Estimated Time** : 8 Hours\n",
      "\n",
      "**Alternative** : As an alternative you could sample some [Kahn Academy](https://www.youtube.com/playlist?list=PL4C863861E3B2E380) videos from their statistics playlist. Their videos always focus on a single topic, so it allows you to easily plug the gaps in your knowledge.\n"
     ]
    },
    {
     "cell_type": "markdown",
     "metadata": {},
     "source": [
      "![resource](assets/think_stats.png) [Think Stats](http://www.greenteapress.com/thinkstats/index.html)"
     ]
    },
    {
     "cell_type": "markdown",
     "metadata": {},
     "source": [
      "![break](assets/resources.png)"
     ]
    },
    {
     "cell_type": "markdown",
     "metadata": {},
     "source": [
      "## Resources for Further Study"
     ]
    },
    {
     "cell_type": "markdown",
     "metadata": {},
     "source": [
      "Upon strengthening your knowledge base in both Python and Statistics, you'll be ready to embark on your journey to become a Data Scientist. [General Assembly's Data Science](https://generalassemb.ly/education/data-science) course picks up  where this prologue ends. It first offers a chance to clarify anything that wasn't clear from the prologue. The instructor then sets off on a 11-week tour to develop the student's programming ability and knowledge of statistical methods. The course provides an in-depth overview of the most popular machine learning algorithms, and culminates in an indivudual data science project. \n",
      "\n",
      "The course curriculum was developed in-house by General Assembly, but any further study of Data Science benefits from having these two books handy for reference.\n",
      "\n",
      "_Building Machine Learning system with Python_ shows you exactly how to find patterns through raw data. The book starts by brushing up on your Python ML knowledge and introducing libraries, and then moves on to more serious projects on datasets, Modelling, Recommendations, improving recommendations through examples and sailing through sound and image processing in detail."
     ]
    },
    {
     "cell_type": "markdown",
     "metadata": {},
     "source": [
      "![resource](assets/building_machine_learning_python.png) [Building Machine Learning Systems](http://shop.oreilly.com/product/9781782161400.do)"
     ]
    },
    {
     "cell_type": "markdown",
     "metadata": {},
     "source": [
      "_Python for Data Analysis_ is concerned with the nuts and bolts of manipulating, processing, cleaning, and crunching data in Python. It is also a practical, modern introduction to scientific computing in Python, tailored for data-intensive applications. It was authored by the lead developer of the pandas package that's been discussed here, so acts as an insider's guide to everything pandas."
     ]
    },
    {
     "cell_type": "markdown",
     "metadata": {},
     "source": [
      "![resource](assets/pydata.png) [Python for Data Analysis](http://shop.oreilly.com/product/0636920023784.do)"
     ]
    },
    {
     "cell_type": "markdown",
     "metadata": {},
     "source": [
      "With sophisticated analytics, cool new technologies, lean learning principles and agile delivery methods, data science is an exciting, emerging field to join.\n",
      "\n",
      "Please reach out if you have questions about anything or need help!\n",
      "\n",
      "All the best,\n",
      "\n",
      "Mart van de Ven\n",
      "\n",
      "**Data Science Instructor, Hong Kong**"
     ]
    },
    {
     "cell_type": "markdown",
     "metadata": {},
     "source": [
      "![resource](assets/nounproject.png) [Credits](http://nbviewer.ipython.org/gist/anonymous/b2896a7012f262f674f0)"
     ]
    }
   ],
   "metadata": {}
  }
 ]
}