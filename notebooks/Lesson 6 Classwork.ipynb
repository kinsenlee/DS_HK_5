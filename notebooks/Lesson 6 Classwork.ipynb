{
 "metadata": {
  "name": "",
  "signature": "sha256:5263d9a7a255ac797f5ebe127005d775b5c9394669bd988c99c7f64fdadadeeb"
 },
 "nbformat": 3,
 "nbformat_minor": 0,
 "worksheets": [
  {
   "cells": [
    {
     "cell_type": "code",
     "collapsed": false,
     "input": [
      "import pandas as pd\n",
      "import numpy as np\n",
      "import matplotlib as mpl\n",
      "import matplotlib.pyplot as plt\n",
      "import seaborn as sns\n",
      "from sklearn import linear_model\n",
      "\n",
      "%matplotlib inline"
     ],
     "language": "python",
     "metadata": {},
     "outputs": [],
     "prompt_number": 1
    },
    {
     "cell_type": "code",
     "collapsed": false,
     "input": [
      "# set default values\n",
      "pd.set_option('max_columns', 30)\n",
      "pd.set_option('max_rows', 20)\n",
      "mpl.rc('figure', figsize=(20, 8))"
     ],
     "language": "python",
     "metadata": {},
     "outputs": [],
     "prompt_number": 2
    },
    {
     "cell_type": "code",
     "collapsed": false,
     "input": [
      "df = pd.read_csv('../data/cars1920.csv')\n",
      "df['speed-sq'] = df['speed']**2\n",
      "df.head()"
     ],
     "language": "python",
     "metadata": {},
     "outputs": [
      {
       "html": [
        "<div style=\"max-height:1000px;max-width:1500px;overflow:auto;\">\n",
        "<table border=\"1\" class=\"dataframe\">\n",
        "  <thead>\n",
        "    <tr style=\"text-align: right;\">\n",
        "      <th></th>\n",
        "      <th>speed</th>\n",
        "      <th>dist</th>\n",
        "      <th>speed-sq</th>\n",
        "    </tr>\n",
        "  </thead>\n",
        "  <tbody>\n",
        "    <tr>\n",
        "      <th>0</th>\n",
        "      <td> 4</td>\n",
        "      <td>  2</td>\n",
        "      <td> 16</td>\n",
        "    </tr>\n",
        "    <tr>\n",
        "      <th>1</th>\n",
        "      <td> 4</td>\n",
        "      <td> 10</td>\n",
        "      <td> 16</td>\n",
        "    </tr>\n",
        "    <tr>\n",
        "      <th>2</th>\n",
        "      <td> 7</td>\n",
        "      <td>  4</td>\n",
        "      <td> 49</td>\n",
        "    </tr>\n",
        "    <tr>\n",
        "      <th>3</th>\n",
        "      <td> 7</td>\n",
        "      <td> 22</td>\n",
        "      <td> 49</td>\n",
        "    </tr>\n",
        "    <tr>\n",
        "      <th>4</th>\n",
        "      <td> 8</td>\n",
        "      <td> 16</td>\n",
        "      <td> 64</td>\n",
        "    </tr>\n",
        "  </tbody>\n",
        "</table>\n",
        "</div>"
       ],
       "metadata": {},
       "output_type": "pyout",
       "prompt_number": 3,
       "text": [
        "   speed  dist  speed-sq\n",
        "0      4     2        16\n",
        "1      4    10        16\n",
        "2      7     4        49\n",
        "3      7    22        49\n",
        "4      8    16        64"
       ]
      }
     ],
     "prompt_number": 3
    },
    {
     "cell_type": "code",
     "collapsed": false,
     "input": [
      "x = [[x] for x in df['speed'].values]\n",
      "y = df['dist'].values"
     ],
     "language": "python",
     "metadata": {},
     "outputs": [],
     "prompt_number": 4
    },
    {
     "cell_type": "code",
     "collapsed": false,
     "input": [
      "plt.scatter(x,y)"
     ],
     "language": "python",
     "metadata": {},
     "outputs": [
      {
       "metadata": {},
       "output_type": "pyout",
       "prompt_number": 5,
       "text": [
        "<matplotlib.collections.PathCollection at 0x7f46d0f8ac10>"
       ]
      },
      {
       "output_type": "stream",
       "stream": "stderr",
       "text": [
        "/usr/lib/pymodules/python2.7/matplotlib/font_manager.py:1236: UserWarning: findfont: Font family ['sans-serif'] not found. Falling back to Bitstream Vera Sans\n",
        "  (prop.get_family(), self.defaultFamily[fontext]))\n",
        "/usr/lib/pymodules/python2.7/matplotlib/font_manager.py:1246: UserWarning: findfont: Could not match :family=Bitstream Vera Sans:style=normal:variant=normal:weight=normal:stretch=normal:size=10.0. Returning /usr/share/matplotlib/mpl-data/fonts/ttf/cmb10.ttf\n",
        "  UserWarning)\n"
       ]
      },
      {
       "metadata": {},
       "output_type": "display_data",
       "png": "[encoded data removed]",
       "text": [
        "<matplotlib.figure.Figure at 0x7f46e8145550>"
       ]
      }
     ],
     "prompt_number": 5
    },
    {
     "cell_type": "code",
     "collapsed": false,
     "input": [
      "regr = linear_model.LinearRegression()"
     ],
     "language": "python",
     "metadata": {},
     "outputs": [],
     "prompt_number": 6
    },
    {
     "cell_type": "code",
     "collapsed": false,
     "input": [
      "regr.fit(x,y)"
     ],
     "language": "python",
     "metadata": {},
     "outputs": [
      {
       "metadata": {},
       "output_type": "pyout",
       "prompt_number": 7,
       "text": [
        "LinearRegression(copy_X=True, fit_intercept=True, normalize=False)"
       ]
      }
     ],
     "prompt_number": 7
    },
    {
     "cell_type": "code",
     "collapsed": false,
     "input": [
      "print \"coef: %s\" %regr.coef_\n",
      "print \"score: %0.5f\" %regr.score(x,y)\n",
      "print \"SSE: %0.5f\" %np.mean((regr.predict(x) - y)**2)"
     ],
     "language": "python",
     "metadata": {},
     "outputs": [
      {
       "output_type": "stream",
       "stream": "stdout",
       "text": [
        "coef: [ 3.93240876]\n",
        "score: 0.65108\n",
        "SSE: 227.07042\n"
       ]
      }
     ],
     "prompt_number": 8
    },
    {
     "cell_type": "code",
     "collapsed": false,
     "input": [
      "plt.plot(x, y, 'ro', label = 'actual')\n",
      "plt.plot(x, regr.predict(x), 'blue', label = 'predicted value')\n",
      "plt.legend(frameon=False, loc='upper left')"
     ],
     "language": "python",
     "metadata": {},
     "outputs": [
      {
       "metadata": {},
       "output_type": "pyout",
       "prompt_number": 9,
       "text": [
        "<matplotlib.legend.Legend at 0x7f46d0ec1110>"
       ]
      },
      {
       "metadata": {},
       "output_type": "display_data",
       "png": "[encoded data removed]",
       "text": [
        "<matplotlib.figure.Figure at 0x7f46d0bdd690>"
       ]
      }
     ],
     "prompt_number": 9
    },
    {
     "cell_type": "code",
     "collapsed": false,
     "input": [
      "regr2 = linear_model.LinearRegression()"
     ],
     "language": "python",
     "metadata": {},
     "outputs": [],
     "prompt_number": 10
    },
    {
     "cell_type": "code",
     "collapsed": false,
     "input": [
      "df.head()"
     ],
     "language": "python",
     "metadata": {},
     "outputs": [
      {
       "html": [
        "<div style=\"max-height:1000px;max-width:1500px;overflow:auto;\">\n",
        "<table border=\"1\" class=\"dataframe\">\n",
        "  <thead>\n",
        "    <tr style=\"text-align: right;\">\n",
        "      <th></th>\n",
        "      <th>speed</th>\n",
        "      <th>dist</th>\n",
        "      <th>speed-sq</th>\n",
        "    </tr>\n",
        "  </thead>\n",
        "  <tbody>\n",
        "    <tr>\n",
        "      <th>0</th>\n",
        "      <td> 4</td>\n",
        "      <td>  2</td>\n",
        "      <td> 16</td>\n",
        "    </tr>\n",
        "    <tr>\n",
        "      <th>1</th>\n",
        "      <td> 4</td>\n",
        "      <td> 10</td>\n",
        "      <td> 16</td>\n",
        "    </tr>\n",
        "    <tr>\n",
        "      <th>2</th>\n",
        "      <td> 7</td>\n",
        "      <td>  4</td>\n",
        "      <td> 49</td>\n",
        "    </tr>\n",
        "    <tr>\n",
        "      <th>3</th>\n",
        "      <td> 7</td>\n",
        "      <td> 22</td>\n",
        "      <td> 49</td>\n",
        "    </tr>\n",
        "    <tr>\n",
        "      <th>4</th>\n",
        "      <td> 8</td>\n",
        "      <td> 16</td>\n",
        "      <td> 64</td>\n",
        "    </tr>\n",
        "  </tbody>\n",
        "</table>\n",
        "</div>"
       ],
       "metadata": {},
       "output_type": "pyout",
       "prompt_number": 11,
       "text": [
        "   speed  dist  speed-sq\n",
        "0      4     2        16\n",
        "1      4    10        16\n",
        "2      7     4        49\n",
        "3      7    22        49\n",
        "4      8    16        64"
       ]
      }
     ],
     "prompt_number": 11
    },
    {
     "cell_type": "code",
     "collapsed": false,
     "input": [
      "x2 = [[x, y] for x, y in df[['speed','speed-sq']].values]\n",
      "y = df['dist'].values\n",
      "regr2.fit(x2, y)\n"
     ],
     "language": "python",
     "metadata": {},
     "outputs": [
      {
       "metadata": {},
       "output_type": "pyout",
       "prompt_number": 103,
       "text": [
        "LinearRegression(copy_X=True, fit_intercept=True, normalize=False)"
       ]
      }
     ],
     "prompt_number": 103
    },
    {
     "cell_type": "code",
     "collapsed": false,
     "input": [
      "plt.scatter(df['speed-sq'], y, label = 'actual')\n",
      "plt.plot(df['speed-sq'], regr2.predict(x2), label = 'predicted using speed-squared', color='r')\n",
      "plt.legend(frameon=False, loc='upper left', title='Car Stopping Distance Vs Speed-squared')\n",
      "plt.show()"
     ],
     "language": "python",
     "metadata": {},
     "outputs": [
      {
       "metadata": {},
       "output_type": "display_data",
       "png": "[encoded data removed]",
       "text": [
        "<matplotlib.figure.Figure at 0x7f9e52a5ba10>"
       ]
      }
     ],
     "prompt_number": 108
    },
    {
     "cell_type": "code",
     "collapsed": false,
     "input": [
      "print \"coef: %s\" %regr2.coef_\n",
      "print \"score: %0.5f\" %regr2.score(x_sq,y)\n",
      "print \"SSE: %0.5f\" %np.mean((regr2.predict(x_sq) - y)**2)"
     ],
     "language": "python",
     "metadata": {},
     "outputs": [
      {
       "output_type": "stream",
       "stream": "stdout",
       "text": [
        "coef: [ 0.12896867]\n",
        "score: 0.66590\n",
        "SSE: 217.42279\n"
       ]
      }
     ],
     "prompt_number": 55
    },
    {
     "cell_type": "markdown",
     "metadata": {},
     "source": [
      "--> by comparing socre and SSE of the regr (using speed as input) and regr1 (using speed-sqaured as input), the 2 models does not have a big difference - regr2 got a bit better score and a bit lower SSE."
     ]
    },
    {
     "cell_type": "code",
     "collapsed": false,
     "input": [
      "# use Ridge regression to build model for the same set of data:"
     ],
     "language": "python",
     "metadata": {},
     "outputs": [],
     "prompt_number": 12
    },
    {
     "cell_type": "code",
     "collapsed": false,
     "input": [
      "regrR = linear_model.Ridge()"
     ],
     "language": "python",
     "metadata": {},
     "outputs": [],
     "prompt_number": 13
    },
    {
     "cell_type": "code",
     "collapsed": false,
     "input": [
      "x2 = [[x, y] for x, y in df[['speed','speed-sq']].values]\n",
      "y = df['dist'].values\n",
      "regrR.fit(x2, y)"
     ],
     "language": "python",
     "metadata": {},
     "outputs": [
      {
       "metadata": {},
       "output_type": "pyout",
       "prompt_number": 15,
       "text": [
        "Ridge(alpha=1.0, copy_X=True, fit_intercept=True, max_iter=None,\n",
        "   normalize=False, solver='auto', tol=0.001)"
       ]
      }
     ],
     "prompt_number": 15
    },
    {
     "cell_type": "code",
     "collapsed": false,
     "input": [
      "print 'ceof: %s ' %regrR.coef_\n",
      "print 'score: %.5f' %regrR.score(x2, y)\n",
      "print 'SSE: %.5f' %np.mean((regrR.predict(x2) - y)**2)"
     ],
     "language": "python",
     "metadata": {},
     "outputs": [
      {
       "output_type": "stream",
       "stream": "stdout",
       "text": [
        "ceof: [ 0.89722445  0.10046945] \n",
        "score: 0.66733\n",
        "SSE: 216.49461\n"
       ]
      }
     ],
     "prompt_number": 26
    },
    {
     "cell_type": "markdown",
     "metadata": {},
     "source": [
      "--> by comparing SSE and score, Ridge Regression produce a similar model but got a bit lower in SSE and a bit better score"
     ]
    },
    {
     "cell_type": "code",
     "collapsed": false,
     "input": [],
     "language": "python",
     "metadata": {},
     "outputs": [],
     "prompt_number": 26
    },
    {
     "cell_type": "code",
     "collapsed": false,
     "input": [
      "from sklearn import feature_selection\n",
      "\n",
      "def f_regression_feature_selection(input, response):    \n",
      "    return feature_selection.univariate_selection.f_regression(input, response)    "
     ],
     "language": "python",
     "metadata": {},
     "outputs": [],
     "prompt_number": 30
    },
    {
     "cell_type": "code",
     "collapsed": false,
     "input": [
      "x2 = [[x, y] for x, y in df[['speed','speed-sq']].values]\n",
      "y = df['dist'].values"
     ],
     "language": "python",
     "metadata": {},
     "outputs": [],
     "prompt_number": 37
    },
    {
     "cell_type": "code",
     "collapsed": false,
     "input": [
      "f_regression_feature_selection(x2, y)"
     ],
     "language": "python",
     "metadata": {},
     "outputs": [
      {
       "metadata": {},
       "output_type": "pyout",
       "prompt_number": 38,
       "text": [
        "(array([ 89.56710654,  95.67132858]),\n",
        " array([  1.48983650e-12,   5.19997033e-13]))"
       ]
      }
     ],
     "prompt_number": 38
    },
    {
     "cell_type": "code",
     "collapsed": false,
     "input": [
      "--> both speed and speed-squared has a low p-value, i.e. good feature for modeling"
     ],
     "language": "python",
     "metadata": {},
     "outputs": [],
     "prompt_number": 38
    },
    {
     "cell_type": "code",
     "collapsed": false,
     "input": [],
     "language": "python",
     "metadata": {},
     "outputs": []
    },
    {
     "cell_type": "code",
     "collapsed": false,
     "input": [
      "# Second dataset: Predicting city and Highway MPG"
     ],
     "language": "python",
     "metadata": {},
     "outputs": [],
     "prompt_number": 39
    },
    {
     "cell_type": "code",
     "collapsed": false,
     "input": [
      "df2 = pd.read_csv('../data/cars93.csv')"
     ],
     "language": "python",
     "metadata": {},
     "outputs": [],
     "prompt_number": 56
    },
    {
     "cell_type": "code",
     "collapsed": false,
     "input": [
      "print df2.head()"
     ],
     "language": "python",
     "metadata": {},
     "outputs": [
      {
       "output_type": "stream",
       "stream": "stdout",
       "text": [
        "  Manufacturer    Model     Type  Min.Price  Price  Max.Price  MPG.city  \\\n",
        "0        Acura  Integra    Small       12.9   15.9       18.8        25   \n",
        "1        Acura   Legend  Midsize       29.2   33.9       38.7        18   \n",
        "2         Audi       90  Compact       25.9   29.1       32.3        20   \n",
        "3         Audi      100  Midsize       30.8   37.7       44.6        19   \n",
        "4          BMW     535i  Midsize       23.7   30.0       36.2        22   \n",
        "\n",
        "   MPG.highway             AirBags DriveTrain Cylinders  EngineSize  \\\n",
        "0           31                None      Front         4         1.8   \n",
        "1           25  Driver & Passenger      Front         6         3.2   \n",
        "2           26         Driver only      Front         6         2.8   \n",
        "3           26  Driver & Passenger      Front         6         2.8   \n",
        "4           30         Driver only       Rear         4         3.5   \n",
        "\n",
        "   Horsepower   RPM  Rev.per.mile Man.trans.avail  Fuel.tank.capacity  \\\n",
        "0         140  6300          2890             Yes                13.2   \n",
        "1         200  5500          2335             Yes                18.0   \n",
        "2         172  5500          2280             Yes                16.9   \n",
        "3         172  5500          2535             Yes                21.1   \n",
        "4         208  5700          2545             Yes                21.1   \n",
        "\n",
        "   Passengers  Length  Wheelbase  Width  Turn.circle  Rear.seat.room  \\\n",
        "0           5     177        102     68           37            26.5   \n",
        "1           5     195        115     71           38            30.0   \n",
        "2           5     180        102     67           37            28.0   \n",
        "3           6     193        106     70           37            31.0   \n",
        "4           4     186        109     69           39            27.0   \n",
        "\n",
        "   Luggage.room  Weight   Origin           Make  \n",
        "0            11    2705  non-USA  Acura Integra  \n",
        "1            15    3560  non-USA   Acura Legend  \n",
        "2            14    3375  non-USA        Audi 90  \n",
        "3            17    3405  non-USA       Audi 100  \n",
        "4            13    3640  non-USA       BMW 535i  \n"
       ]
      }
     ],
     "prompt_number": 57
    },
    {
     "cell_type": "code",
     "collapsed": false,
     "input": [
      "# for cityMPG prediction:\n",
      "\n",
      "# take away cols that are not yet vectorized\n",
      "cols_predict_cityMPG = df2.columns.tolist()\n",
      "cols_predict_cityMPG.remove('MPG.city')\n",
      "cols_predict_cityMPG.remove('Manufacturer')\n",
      "cols_predict_cityMPG.remove('Model')\n",
      "cols_predict_cityMPG.remove('Type')\n",
      "cols_predict_cityMPG.remove('AirBags')\n",
      "cols_predict_cityMPG.remove('DriveTrain')\n",
      "cols_predict_cityMPG.remove('Man.trans.avail')\n",
      "cols_predict_cityMPG.remove('Origin')\n",
      "cols_predict_cityMPG.remove('Make')\n",
      "\n",
      "# create input and response datasets\n",
      "x = [[cols] for cols in df2[cols_predict_cityMPG].values]\n",
      "y = df2['MPG.city'].values\n"
     ],
     "language": "python",
     "metadata": {},
     "outputs": [],
     "prompt_number": 93
    },
    {
     "cell_type": "code",
     "collapsed": false,
     "input": [
      "df2[cols_predict_cityMPG].head()"
     ],
     "language": "python",
     "metadata": {},
     "outputs": [
      {
       "html": [
        "<div style=\"max-height:1000px;max-width:1500px;overflow:auto;\">\n",
        "<table border=\"1\" class=\"dataframe\">\n",
        "  <thead>\n",
        "    <tr style=\"text-align: right;\">\n",
        "      <th></th>\n",
        "      <th>Min.Price</th>\n",
        "      <th>Price</th>\n",
        "      <th>Max.Price</th>\n",
        "      <th>MPG.highway</th>\n",
        "      <th>Cylinders</th>\n",
        "      <th>EngineSize</th>\n",
        "      <th>Horsepower</th>\n",
        "      <th>RPM</th>\n",
        "      <th>Rev.per.mile</th>\n",
        "      <th>Fuel.tank.capacity</th>\n",
        "      <th>Passengers</th>\n",
        "      <th>Length</th>\n",
        "      <th>Wheelbase</th>\n",
        "      <th>Width</th>\n",
        "      <th>Turn.circle</th>\n",
        "      <th>Rear.seat.room</th>\n",
        "      <th>Luggage.room</th>\n",
        "      <th>Weight</th>\n",
        "    </tr>\n",
        "  </thead>\n",
        "  <tbody>\n",
        "    <tr>\n",
        "      <th>0</th>\n",
        "      <td> 12.9</td>\n",
        "      <td> 15.9</td>\n",
        "      <td> 18.8</td>\n",
        "      <td> 31</td>\n",
        "      <td> 4</td>\n",
        "      <td> 1.8</td>\n",
        "      <td> 140</td>\n",
        "      <td> 6300</td>\n",
        "      <td> 2890</td>\n",
        "      <td> 13.2</td>\n",
        "      <td> 5</td>\n",
        "      <td> 177</td>\n",
        "      <td> 102</td>\n",
        "      <td> 68</td>\n",
        "      <td> 37</td>\n",
        "      <td> 26.5</td>\n",
        "      <td> 11</td>\n",
        "      <td> 2705</td>\n",
        "    </tr>\n",
        "    <tr>\n",
        "      <th>1</th>\n",
        "      <td> 29.2</td>\n",
        "      <td> 33.9</td>\n",
        "      <td> 38.7</td>\n",
        "      <td> 25</td>\n",
        "      <td> 6</td>\n",
        "      <td> 3.2</td>\n",
        "      <td> 200</td>\n",
        "      <td> 5500</td>\n",
        "      <td> 2335</td>\n",
        "      <td> 18.0</td>\n",
        "      <td> 5</td>\n",
        "      <td> 195</td>\n",
        "      <td> 115</td>\n",
        "      <td> 71</td>\n",
        "      <td> 38</td>\n",
        "      <td> 30.0</td>\n",
        "      <td> 15</td>\n",
        "      <td> 3560</td>\n",
        "    </tr>\n",
        "    <tr>\n",
        "      <th>2</th>\n",
        "      <td> 25.9</td>\n",
        "      <td> 29.1</td>\n",
        "      <td> 32.3</td>\n",
        "      <td> 26</td>\n",
        "      <td> 6</td>\n",
        "      <td> 2.8</td>\n",
        "      <td> 172</td>\n",
        "      <td> 5500</td>\n",
        "      <td> 2280</td>\n",
        "      <td> 16.9</td>\n",
        "      <td> 5</td>\n",
        "      <td> 180</td>\n",
        "      <td> 102</td>\n",
        "      <td> 67</td>\n",
        "      <td> 37</td>\n",
        "      <td> 28.0</td>\n",
        "      <td> 14</td>\n",
        "      <td> 3375</td>\n",
        "    </tr>\n",
        "    <tr>\n",
        "      <th>3</th>\n",
        "      <td> 30.8</td>\n",
        "      <td> 37.7</td>\n",
        "      <td> 44.6</td>\n",
        "      <td> 26</td>\n",
        "      <td> 6</td>\n",
        "      <td> 2.8</td>\n",
        "      <td> 172</td>\n",
        "      <td> 5500</td>\n",
        "      <td> 2535</td>\n",
        "      <td> 21.1</td>\n",
        "      <td> 6</td>\n",
        "      <td> 193</td>\n",
        "      <td> 106</td>\n",
        "      <td> 70</td>\n",
        "      <td> 37</td>\n",
        "      <td> 31.0</td>\n",
        "      <td> 17</td>\n",
        "      <td> 3405</td>\n",
        "    </tr>\n",
        "    <tr>\n",
        "      <th>4</th>\n",
        "      <td> 23.7</td>\n",
        "      <td> 30.0</td>\n",
        "      <td> 36.2</td>\n",
        "      <td> 30</td>\n",
        "      <td> 4</td>\n",
        "      <td> 3.5</td>\n",
        "      <td> 208</td>\n",
        "      <td> 5700</td>\n",
        "      <td> 2545</td>\n",
        "      <td> 21.1</td>\n",
        "      <td> 4</td>\n",
        "      <td> 186</td>\n",
        "      <td> 109</td>\n",
        "      <td> 69</td>\n",
        "      <td> 39</td>\n",
        "      <td> 27.0</td>\n",
        "      <td> 13</td>\n",
        "      <td> 3640</td>\n",
        "    </tr>\n",
        "  </tbody>\n",
        "</table>\n",
        "</div>"
       ],
       "metadata": {},
       "output_type": "pyout",
       "prompt_number": 103,
       "text": [
        "   Min.Price  Price  Max.Price  MPG.highway Cylinders  EngineSize  Horsepower  \\\n",
        "0       12.9   15.9       18.8           31         4         1.8         140   \n",
        "1       29.2   33.9       38.7           25         6         3.2         200   \n",
        "2       25.9   29.1       32.3           26         6         2.8         172   \n",
        "3       30.8   37.7       44.6           26         6         2.8         172   \n",
        "4       23.7   30.0       36.2           30         4         3.5         208   \n",
        "\n",
        "    RPM  Rev.per.mile  Fuel.tank.capacity  Passengers  Length  Wheelbase  \\\n",
        "0  6300          2890                13.2           5     177        102   \n",
        "1  5500          2335                18.0           5     195        115   \n",
        "2  5500          2280                16.9           5     180        102   \n",
        "3  5500          2535                21.1           6     193        106   \n",
        "4  5700          2545                21.1           4     186        109   \n",
        "\n",
        "   Width  Turn.circle  Rear.seat.room  Luggage.room  Weight  \n",
        "0     68           37            26.5            11    2705  \n",
        "1     71           38            30.0            15    3560  \n",
        "2     67           37            28.0            14    3375  \n",
        "3     70           37            31.0            17    3405  \n",
        "4     69           39            27.0            13    3640  "
       ]
      }
     ],
     "prompt_number": 103
    },
    {
     "cell_type": "code",
     "collapsed": false,
     "input": [
      "f_regression_feature_selection(x, y)"
     ],
     "language": "python",
     "metadata": {},
     "outputs": [
      {
       "ename": "ValueError",
       "evalue": "could not convert string to float: rotary",
       "output_type": "pyerr",
       "traceback": [
        "\u001b[1;31m---------------------------------------------------------------------------\u001b[0m\n\u001b[1;31mValueError\u001b[0m                                Traceback (most recent call last)",
        "\u001b[1;32m<ipython-input-104-cf294f50787b>\u001b[0m in \u001b[0;36m<module>\u001b[1;34m()\u001b[0m\n\u001b[1;32m----> 1\u001b[1;33m \u001b[0mf_regression_feature_selection\u001b[0m\u001b[1;33m(\u001b[0m\u001b[0mx\u001b[0m\u001b[1;33m,\u001b[0m \u001b[0my\u001b[0m\u001b[1;33m)\u001b[0m\u001b[1;33m\u001b[0m\u001b[0m\n\u001b[0m",
        "\u001b[1;32m<ipython-input-30-4b1f776b5040>\u001b[0m in \u001b[0;36mf_regression_feature_selection\u001b[1;34m(input, response)\u001b[0m\n\u001b[0;32m      2\u001b[0m \u001b[1;33m\u001b[0m\u001b[0m\n\u001b[0;32m      3\u001b[0m \u001b[1;32mdef\u001b[0m \u001b[0mf_regression_feature_selection\u001b[0m\u001b[1;33m(\u001b[0m\u001b[0minput\u001b[0m\u001b[1;33m,\u001b[0m \u001b[0mresponse\u001b[0m\u001b[1;33m)\u001b[0m\u001b[1;33m:\u001b[0m\u001b[1;33m\u001b[0m\u001b[0m\n\u001b[1;32m----> 4\u001b[1;33m     \u001b[1;32mreturn\u001b[0m \u001b[0mfeature_selection\u001b[0m\u001b[1;33m.\u001b[0m\u001b[0munivariate_selection\u001b[0m\u001b[1;33m.\u001b[0m\u001b[0mf_regression\u001b[0m\u001b[1;33m(\u001b[0m\u001b[0minput\u001b[0m\u001b[1;33m,\u001b[0m \u001b[0mresponse\u001b[0m\u001b[1;33m)\u001b[0m\u001b[1;33m\u001b[0m\u001b[0m\n\u001b[0m",
        "\u001b[1;32m/usr/local/lib/python2.7/dist-packages/sklearn/feature_selection/univariate_selection.pyc\u001b[0m in \u001b[0;36mf_regression\u001b[1;34m(X, y, center)\u001b[0m\n\u001b[0;32m    238\u001b[0m     \u001b[1;32mif\u001b[0m \u001b[0missparse\u001b[0m\u001b[1;33m(\u001b[0m\u001b[0mX\u001b[0m\u001b[1;33m)\u001b[0m \u001b[1;32mand\u001b[0m \u001b[0mcenter\u001b[0m\u001b[1;33m:\u001b[0m\u001b[1;33m\u001b[0m\u001b[0m\n\u001b[0;32m    239\u001b[0m         \u001b[1;32mraise\u001b[0m \u001b[0mValueError\u001b[0m\u001b[1;33m(\u001b[0m\u001b[1;34m\"center=True only allowed for dense data\"\u001b[0m\u001b[1;33m)\u001b[0m\u001b[1;33m\u001b[0m\u001b[0m\n\u001b[1;32m--> 240\u001b[1;33m     \u001b[0mX\u001b[0m\u001b[1;33m,\u001b[0m \u001b[0my\u001b[0m \u001b[1;33m=\u001b[0m \u001b[0mcheck_arrays\u001b[0m\u001b[1;33m(\u001b[0m\u001b[0mX\u001b[0m\u001b[1;33m,\u001b[0m \u001b[0my\u001b[0m\u001b[1;33m,\u001b[0m \u001b[0mdtype\u001b[0m\u001b[1;33m=\u001b[0m\u001b[0mnp\u001b[0m\u001b[1;33m.\u001b[0m\u001b[0mfloat\u001b[0m\u001b[1;33m)\u001b[0m\u001b[1;33m\u001b[0m\u001b[0m\n\u001b[0m\u001b[0;32m    241\u001b[0m     \u001b[0my\u001b[0m \u001b[1;33m=\u001b[0m \u001b[0my\u001b[0m\u001b[1;33m.\u001b[0m\u001b[0mravel\u001b[0m\u001b[1;33m(\u001b[0m\u001b[1;33m)\u001b[0m\u001b[1;33m\u001b[0m\u001b[0m\n\u001b[0;32m    242\u001b[0m     \u001b[1;32mif\u001b[0m \u001b[0mcenter\u001b[0m\u001b[1;33m:\u001b[0m\u001b[1;33m\u001b[0m\u001b[0m\n",
        "\u001b[1;32m/usr/local/lib/python2.7/dist-packages/sklearn/utils/validation.pyc\u001b[0m in \u001b[0;36mcheck_arrays\u001b[1;34m(*arrays, **options)\u001b[0m\n\u001b[0;32m    279\u001b[0m                     \u001b[0marray\u001b[0m \u001b[1;33m=\u001b[0m \u001b[0mnp\u001b[0m\u001b[1;33m.\u001b[0m\u001b[0mascontiguousarray\u001b[0m\u001b[1;33m(\u001b[0m\u001b[0marray\u001b[0m\u001b[1;33m,\u001b[0m \u001b[0mdtype\u001b[0m\u001b[1;33m=\u001b[0m\u001b[0mdtype\u001b[0m\u001b[1;33m)\u001b[0m\u001b[1;33m\u001b[0m\u001b[0m\n\u001b[0;32m    280\u001b[0m                 \u001b[1;32melse\u001b[0m\u001b[1;33m:\u001b[0m\u001b[1;33m\u001b[0m\u001b[0m\n\u001b[1;32m--> 281\u001b[1;33m                     \u001b[0marray\u001b[0m \u001b[1;33m=\u001b[0m \u001b[0mnp\u001b[0m\u001b[1;33m.\u001b[0m\u001b[0masarray\u001b[0m\u001b[1;33m(\u001b[0m\u001b[0marray\u001b[0m\u001b[1;33m,\u001b[0m \u001b[0mdtype\u001b[0m\u001b[1;33m=\u001b[0m\u001b[0mdtype\u001b[0m\u001b[1;33m)\u001b[0m\u001b[1;33m\u001b[0m\u001b[0m\n\u001b[0m\u001b[0;32m    282\u001b[0m                 \u001b[1;32mif\u001b[0m \u001b[1;32mnot\u001b[0m \u001b[0mallow_nans\u001b[0m\u001b[1;33m:\u001b[0m\u001b[1;33m\u001b[0m\u001b[0m\n\u001b[0;32m    283\u001b[0m                     \u001b[0m_assert_all_finite\u001b[0m\u001b[1;33m(\u001b[0m\u001b[0marray\u001b[0m\u001b[1;33m)\u001b[0m\u001b[1;33m\u001b[0m\u001b[0m\n",
        "\u001b[1;32m/usr/local/lib/python2.7/dist-packages/numpy/core/numeric.pyc\u001b[0m in \u001b[0;36masarray\u001b[1;34m(a, dtype, order)\u001b[0m\n\u001b[0;32m    460\u001b[0m \u001b[1;33m\u001b[0m\u001b[0m\n\u001b[0;32m    461\u001b[0m     \"\"\"\n\u001b[1;32m--> 462\u001b[1;33m     \u001b[1;32mreturn\u001b[0m \u001b[0marray\u001b[0m\u001b[1;33m(\u001b[0m\u001b[0ma\u001b[0m\u001b[1;33m,\u001b[0m \u001b[0mdtype\u001b[0m\u001b[1;33m,\u001b[0m \u001b[0mcopy\u001b[0m\u001b[1;33m=\u001b[0m\u001b[0mFalse\u001b[0m\u001b[1;33m,\u001b[0m \u001b[0morder\u001b[0m\u001b[1;33m=\u001b[0m\u001b[0morder\u001b[0m\u001b[1;33m)\u001b[0m\u001b[1;33m\u001b[0m\u001b[0m\n\u001b[0m\u001b[0;32m    463\u001b[0m \u001b[1;33m\u001b[0m\u001b[0m\n\u001b[0;32m    464\u001b[0m \u001b[1;32mdef\u001b[0m \u001b[0masanyarray\u001b[0m\u001b[1;33m(\u001b[0m\u001b[0ma\u001b[0m\u001b[1;33m,\u001b[0m \u001b[0mdtype\u001b[0m\u001b[1;33m=\u001b[0m\u001b[0mNone\u001b[0m\u001b[1;33m,\u001b[0m \u001b[0morder\u001b[0m\u001b[1;33m=\u001b[0m\u001b[0mNone\u001b[0m\u001b[1;33m)\u001b[0m\u001b[1;33m:\u001b[0m\u001b[1;33m\u001b[0m\u001b[0m\n",
        "\u001b[1;31mValueError\u001b[0m: could not convert string to float: rotary"
       ]
      }
     ],
     "prompt_number": 104
    },
    {
     "cell_type": "code",
     "collapsed": false,
     "input": [],
     "language": "python",
     "metadata": {},
     "outputs": []
    }
   ],
   "metadata": {}
  }
 ]
}